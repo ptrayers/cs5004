{
  "cells": [
    {
      "cell_type": "markdown",
      "metadata": {
        "id": "62nEzWfHgnZN"
      },
      "source": [
        "# E-tivity 1 (29/01/24 - 11/02/24)\n",
        "\n",
        "* Name: Paul Trayers\n",
        "\n",
        "* Student ID: 8907021"
      ]
    },
    {
      "cell_type": "markdown",
      "metadata": {
        "id": "tittOcTwgnZZ"
      },
      "source": [
        "## Anomaly Detection\n",
        "\n",
        "### Context\n",
        "We have a mystery dataset. There are 9 explanatory variables and one response variable. The response variable is the last column and indicates if the sample is anomalous (=1, valid =0). The dataset is provided \"data.csv\".\n",
        "\n",
        "Of course in this case we could use supervised learning to generate a model and detect anomalies in new data. However the focus is on autoencoders, anomaly detection is just one of the potential uses for autoencoders.\n",
        "\n",
        "So we are going to pretend that we do not know which data are anomalous but we do know that the anomaly rate is small. Use an autoencoder to detect anomalies in the data. The correctness of the model can of course be checked."
      ]
    },
    {
      "cell_type": "markdown",
      "metadata": {
        "id": "LYdSKlb9gnZa"
      },
      "source": [
        "### Guidelines\n",
        "\n",
        "The e-tivity is split into four tasks. The first three are \"group\" excersises, in that you post the solutions to Tasks 1-3 to a site. This will allow the members of your group to send you feedback (via the forums) so you can improve your submission. The final task is an individual task and together with the other tasks, should be uploaded to the Group Locker.\n",
        "\n",
        "Marks will be deducted if task 4 is uploaded in contravention of instructions. Also if the the final submission is not a single notebook with tasks 1-4 and with correct identification or filename.\n",
        "\n",
        "Grading guidelines: the scores for each task are additive. Below is a link to the E-tivity rubrics.\n",
        "\n",
        "https://learn.ul.ie/d2l/lp/rubrics/edit_structure.d2l?rubricId=1424&ou=17935\n",
        "\n"
      ]
    },
    {
      "cell_type": "markdown",
      "metadata": {
        "id": "U8wp91wCgnZb"
      },
      "source": [
        "## Problem\n",
        "\n",
        "If you train even a modest feed forward network via supervised learning you can get extremely good recall and precision, despite the unbalanced dataset. However in this e-tivity you will determining the anomalies by using an autoencoder. That is you will **not** be using the Anom flag to guide the training.\n",
        "\n",
        "The mystery dataset is available from Brightspace, download the csv file and use it as the input data.\n",
        "\n",
        "### Tasks 1-3 (complete by Sunday 04/02/24)\n",
        "\n",
        "The initial implementation of the tasks are to be uploaded to the locker on which the other group members can comment. The forum activity will form part of the overall mark for the e-tivity."
      ]
    },
    {
      "cell_type": "markdown",
      "metadata": {
        "id": "Y6rhILq_qfst"
      },
      "source": [
        "#### Initial Setup - Data Source"
      ]
    },
    {
      "cell_type": "code",
      "execution_count": null,
      "metadata": {
        "colab": {
          "background_save": true,
          "base_uri": "https://localhost:8080/"
        },
        "id": "MtMAcQdYqY5B",
        "outputId": "68d92a97-85f6-4dac-caec-402877baf19d"
      },
      "outputs": [
        {
          "name": "stderr",
          "output_type": "stream",
          "text": [
            "ERROR:root:Internal Python error in the inspect module.\n",
            "Below is the traceback from this internal error.\n",
            "\n",
            "ERROR:root:Internal Python error in the inspect module.\n",
            "Below is the traceback from this internal error.\n",
            "\n"
          ]
        },
        {
          "name": "stdout",
          "output_type": "stream",
          "text": [
            "Mounted at /content/drive\n",
            "Traceback (most recent call last):\n",
            "  File \"/usr/local/lib/python3.10/dist-packages/IPython/core/interactiveshell.py\", line 3553, in run_code\n",
            "    exec(code_obj, self.user_global_ns, self.user_ns)\n",
            "  File \"<ipython-input-5-c231b39faad1>\", line 5, in <cell line: 5>\n",
            "    get_ipython().run_line_magic('cd', '/content/drive/MyDrive/cs5004/Etivities/Etivity1/')\n",
            "  File \"/usr/local/lib/python3.10/dist-packages/IPython/core/interactiveshell.py\", line 2418, in run_line_magic\n",
            "    result = fn(*args, **kwargs)\n",
            "  File \"<decorator-gen-85>\", line 2, in cd\n",
            "  File \"/usr/local/lib/python3.10/dist-packages/IPython/core/magic.py\", line 187, in <lambda>\n",
            "    call = lambda f, *a, **k: f(*a, **k)\n",
            "  File \"/usr/local/lib/python3.10/dist-packages/IPython/core/magics/osm.py\", line 342, in cd\n",
            "    oldcwd = os.getcwd()\n",
            "OSError: [Errno 107] Transport endpoint is not connected\n",
            "\n",
            "During handling of the above exception, another exception occurred:\n",
            "\n",
            "Traceback (most recent call last):\n",
            "  File \"/usr/local/lib/python3.10/dist-packages/IPython/core/interactiveshell.py\", line 2099, in showtraceback\n",
            "    stb = value._render_traceback_()\n",
            "AttributeError: 'OSError' object has no attribute '_render_traceback_'\n",
            "\n",
            "During handling of the above exception, another exception occurred:\n",
            "\n",
            "Traceback (most recent call last):\n",
            "  File \"/usr/local/lib/python3.10/dist-packages/IPython/core/ultratb.py\", line 1101, in get_records\n",
            "    return _fixed_getinnerframes(etb, number_of_lines_of_context, tb_offset)\n",
            "  File \"/usr/local/lib/python3.10/dist-packages/IPython/core/ultratb.py\", line 248, in wrapped\n",
            "    return f(*args, **kwargs)\n",
            "  File \"/usr/local/lib/python3.10/dist-packages/IPython/core/ultratb.py\", line 281, in _fixed_getinnerframes\n",
            "    records = fix_frame_records_filenames(inspect.getinnerframes(etb, context))\n",
            "  File \"/usr/lib/python3.10/inspect.py\", line 1662, in getinnerframes\n",
            "    frameinfo = (tb.tb_frame,) + getframeinfo(tb, context)\n",
            "  File \"/usr/lib/python3.10/inspect.py\", line 1620, in getframeinfo\n",
            "    filename = getsourcefile(frame) or getfile(frame)\n",
            "  File \"/usr/lib/python3.10/inspect.py\", line 829, in getsourcefile\n",
            "    module = getmodule(object, filename)\n",
            "  File \"/usr/lib/python3.10/inspect.py\", line 861, in getmodule\n",
            "    file = getabsfile(object, _filename)\n",
            "  File \"/usr/lib/python3.10/inspect.py\", line 845, in getabsfile\n",
            "    return os.path.normcase(os.path.abspath(_filename))\n",
            "  File \"/usr/lib/python3.10/posixpath.py\", line 384, in abspath\n",
            "    cwd = os.getcwd()\n",
            "OSError: [Errno 107] Transport endpoint is not connected\n",
            "Traceback (most recent call last):\n",
            "  File \"/usr/local/lib/python3.10/dist-packages/IPython/core/interactiveshell.py\", line 3553, in run_code\n",
            "    exec(code_obj, self.user_global_ns, self.user_ns)\n",
            "  File \"<ipython-input-5-c231b39faad1>\", line 5, in <cell line: 5>\n",
            "    get_ipython().run_line_magic('cd', '/content/drive/MyDrive/cs5004/Etivities/Etivity1/')\n",
            "  File \"/usr/local/lib/python3.10/dist-packages/IPython/core/interactiveshell.py\", line 2418, in run_line_magic\n",
            "    result = fn(*args, **kwargs)\n",
            "  File \"<decorator-gen-85>\", line 2, in cd\n",
            "  File \"/usr/local/lib/python3.10/dist-packages/IPython/core/magic.py\", line 187, in <lambda>\n",
            "    call = lambda f, *a, **k: f(*a, **k)\n",
            "  File \"/usr/local/lib/python3.10/dist-packages/IPython/core/magics/osm.py\", line 342, in cd\n",
            "    oldcwd = os.getcwd()\n",
            "OSError: [Errno 107] Transport endpoint is not connected\n",
            "\n",
            "During handling of the above exception, another exception occurred:\n",
            "\n",
            "Traceback (most recent call last):\n",
            "  File \"/usr/local/lib/python3.10/dist-packages/IPython/core/interactiveshell.py\", line 2099, in showtraceback\n",
            "    stb = value._render_traceback_()\n",
            "AttributeError: 'OSError' object has no attribute '_render_traceback_'\n",
            "\n",
            "During handling of the above exception, another exception occurred:\n",
            "\n",
            "Traceback (most recent call last):\n",
            "  File \"/usr/local/lib/python3.10/dist-packages/IPython/core/interactiveshell.py\", line 3473, in run_ast_nodes\n",
            "    if (await self.run_code(code, result,  async_=asy)):\n",
            "  File \"/usr/local/lib/python3.10/dist-packages/IPython/core/interactiveshell.py\", line 3575, in run_code\n",
            "    self.showtraceback(running_compiled_code=True)\n",
            "  File \"/usr/local/lib/python3.10/dist-packages/IPython/core/interactiveshell.py\", line 2101, in showtraceback\n",
            "    stb = self.InteractiveTB.structured_traceback(etype,\n",
            "  File \"/usr/local/lib/python3.10/dist-packages/IPython/core/ultratb.py\", line 1367, in structured_traceback\n",
            "    return FormattedTB.structured_traceback(\n",
            "  File \"/usr/local/lib/python3.10/dist-packages/IPython/core/ultratb.py\", line 1267, in structured_traceback\n",
            "    return VerboseTB.structured_traceback(\n",
            "  File \"/usr/local/lib/python3.10/dist-packages/IPython/core/ultratb.py\", line 1124, in structured_traceback\n",
            "    formatted_exception = self.format_exception_as_a_whole(etype, evalue, etb, number_of_lines_of_context,\n",
            "  File \"/usr/local/lib/python3.10/dist-packages/IPython/core/ultratb.py\", line 1082, in format_exception_as_a_whole\n",
            "    last_unique, recursion_repeat = find_recursion(orig_etype, evalue, records)\n",
            "  File \"/usr/local/lib/python3.10/dist-packages/IPython/core/ultratb.py\", line 382, in find_recursion\n",
            "    return len(records), 0\n",
            "TypeError: object of type 'NoneType' has no len()\n",
            "\n",
            "During handling of the above exception, another exception occurred:\n",
            "\n",
            "Traceback (most recent call last):\n",
            "  File \"/usr/local/lib/python3.10/dist-packages/IPython/core/interactiveshell.py\", line 2099, in showtraceback\n",
            "    stb = value._render_traceback_()\n",
            "AttributeError: 'TypeError' object has no attribute '_render_traceback_'\n",
            "\n",
            "During handling of the above exception, another exception occurred:\n",
            "\n",
            "Traceback (most recent call last):\n",
            "  File \"/usr/local/lib/python3.10/dist-packages/IPython/core/ultratb.py\", line 1101, in get_records\n",
            "    return _fixed_getinnerframes(etb, number_of_lines_of_context, tb_offset)\n",
            "  File \"/usr/local/lib/python3.10/dist-packages/IPython/core/ultratb.py\", line 248, in wrapped\n",
            "    return f(*args, **kwargs)\n",
            "  File \"/usr/local/lib/python3.10/dist-packages/IPython/core/ultratb.py\", line 281, in _fixed_getinnerframes\n",
            "    records = fix_frame_records_filenames(inspect.getinnerframes(etb, context))\n",
            "  File \"/usr/lib/python3.10/inspect.py\", line 1662, in getinnerframes\n",
            "    frameinfo = (tb.tb_frame,) + getframeinfo(tb, context)\n",
            "  File \"/usr/lib/python3.10/inspect.py\", line 1620, in getframeinfo\n",
            "    filename = getsourcefile(frame) or getfile(frame)\n",
            "  File \"/usr/lib/python3.10/inspect.py\", line 829, in getsourcefile\n",
            "    module = getmodule(object, filename)\n",
            "  File \"/usr/lib/python3.10/inspect.py\", line 861, in getmodule\n",
            "    file = getabsfile(object, _filename)\n",
            "  File \"/usr/lib/python3.10/inspect.py\", line 845, in getabsfile\n",
            "    return os.path.normcase(os.path.abspath(_filename))\n",
            "  File \"/usr/lib/python3.10/posixpath.py\", line 384, in abspath\n",
            "    cwd = os.getcwd()\n",
            "OSError: [Errno 107] Transport endpoint is not connected\n"
          ]
        },
        {
          "name": "stderr",
          "output_type": "stream",
          "text": [
            "ERROR:root:Internal Python error in the inspect module.\n",
            "Below is the traceback from this internal error.\n",
            "\n"
          ]
        },
        {
          "name": "stdout",
          "output_type": "stream",
          "text": [
            "Traceback (most recent call last):\n",
            "  File \"/usr/local/lib/python3.10/dist-packages/IPython/core/interactiveshell.py\", line 3553, in run_code\n",
            "    exec(code_obj, self.user_global_ns, self.user_ns)\n",
            "  File \"<ipython-input-5-c231b39faad1>\", line 5, in <cell line: 5>\n",
            "    get_ipython().run_line_magic('cd', '/content/drive/MyDrive/cs5004/Etivities/Etivity1/')\n",
            "  File \"/usr/local/lib/python3.10/dist-packages/IPython/core/interactiveshell.py\", line 2418, in run_line_magic\n",
            "    result = fn(*args, **kwargs)\n",
            "  File \"<decorator-gen-85>\", line 2, in cd\n",
            "  File \"/usr/local/lib/python3.10/dist-packages/IPython/core/magic.py\", line 187, in <lambda>\n",
            "    call = lambda f, *a, **k: f(*a, **k)\n",
            "  File \"/usr/local/lib/python3.10/dist-packages/IPython/core/magics/osm.py\", line 342, in cd\n",
            "    oldcwd = os.getcwd()\n",
            "OSError: [Errno 107] Transport endpoint is not connected\n",
            "\n",
            "During handling of the above exception, another exception occurred:\n",
            "\n",
            "Traceback (most recent call last):\n",
            "  File \"/usr/local/lib/python3.10/dist-packages/IPython/core/interactiveshell.py\", line 2099, in showtraceback\n",
            "    stb = value._render_traceback_()\n",
            "AttributeError: 'OSError' object has no attribute '_render_traceback_'\n",
            "\n",
            "During handling of the above exception, another exception occurred:\n",
            "\n",
            "Traceback (most recent call last):\n",
            "  File \"/usr/local/lib/python3.10/dist-packages/IPython/core/interactiveshell.py\", line 3473, in run_ast_nodes\n",
            "    if (await self.run_code(code, result,  async_=asy)):\n",
            "  File \"/usr/local/lib/python3.10/dist-packages/IPython/core/interactiveshell.py\", line 3575, in run_code\n",
            "    self.showtraceback(running_compiled_code=True)\n",
            "  File \"/usr/local/lib/python3.10/dist-packages/IPython/core/interactiveshell.py\", line 2101, in showtraceback\n",
            "    stb = self.InteractiveTB.structured_traceback(etype,\n",
            "  File \"/usr/local/lib/python3.10/dist-packages/IPython/core/ultratb.py\", line 1367, in structured_traceback\n",
            "    return FormattedTB.structured_traceback(\n",
            "  File \"/usr/local/lib/python3.10/dist-packages/IPython/core/ultratb.py\", line 1267, in structured_traceback\n",
            "    return VerboseTB.structured_traceback(\n",
            "  File \"/usr/local/lib/python3.10/dist-packages/IPython/core/ultratb.py\", line 1124, in structured_traceback\n",
            "    formatted_exception = self.format_exception_as_a_whole(etype, evalue, etb, number_of_lines_of_context,\n",
            "  File \"/usr/local/lib/python3.10/dist-packages/IPython/core/ultratb.py\", line 1082, in format_exception_as_a_whole\n",
            "    last_unique, recursion_repeat = find_recursion(orig_etype, evalue, records)\n",
            "  File \"/usr/local/lib/python3.10/dist-packages/IPython/core/ultratb.py\", line 382, in find_recursion\n",
            "    return len(records), 0\n",
            "TypeError: object of type 'NoneType' has no len()\n",
            "\n",
            "During handling of the above exception, another exception occurred:\n",
            "\n",
            "Traceback (most recent call last):\n",
            "  File \"/usr/local/lib/python3.10/dist-packages/IPython/core/interactiveshell.py\", line 2099, in showtraceback\n",
            "    stb = value._render_traceback_()\n",
            "AttributeError: 'TypeError' object has no attribute '_render_traceback_'\n",
            "\n",
            "During handling of the above exception, another exception occurred:\n",
            "\n",
            "Traceback (most recent call last):\n",
            "  File \"/usr/local/lib/python3.10/dist-packages/IPython/core/interactiveshell.py\", line 3030, in _run_cell\n",
            "    return runner(coro)\n",
            "  File \"/usr/local/lib/python3.10/dist-packages/IPython/core/async_helpers.py\", line 78, in _pseudo_sync_runner\n",
            "    coro.send(None)\n",
            "  File \"/usr/local/lib/python3.10/dist-packages/IPython/core/interactiveshell.py\", line 3257, in run_cell_async\n",
            "    has_raised = await self.run_ast_nodes(code_ast.body, cell_name,\n",
            "  File \"/usr/local/lib/python3.10/dist-packages/IPython/core/interactiveshell.py\", line 3492, in run_ast_nodes\n",
            "    self.showtraceback()\n",
            "  File \"/usr/local/lib/python3.10/dist-packages/IPython/core/interactiveshell.py\", line 2101, in showtraceback\n",
            "    stb = self.InteractiveTB.structured_traceback(etype,\n",
            "  File \"/usr/local/lib/python3.10/dist-packages/IPython/core/ultratb.py\", line 1367, in structured_traceback\n",
            "    return FormattedTB.structured_traceback(\n",
            "  File \"/usr/local/lib/python3.10/dist-packages/IPython/core/ultratb.py\", line 1267, in structured_traceback\n",
            "    return VerboseTB.structured_traceback(\n",
            "  File \"/usr/local/lib/python3.10/dist-packages/IPython/core/ultratb.py\", line 1142, in structured_traceback\n",
            "    formatted_exceptions += self.format_exception_as_a_whole(etype, evalue, etb, lines_of_context,\n",
            "  File \"/usr/local/lib/python3.10/dist-packages/IPython/core/ultratb.py\", line 1082, in format_exception_as_a_whole\n",
            "    last_unique, recursion_repeat = find_recursion(orig_etype, evalue, records)\n",
            "  File \"/usr/local/lib/python3.10/dist-packages/IPython/core/ultratb.py\", line 382, in find_recursion\n",
            "    return len(records), 0\n",
            "TypeError: object of type 'NoneType' has no len()\n",
            "\n",
            "During handling of the above exception, another exception occurred:\n",
            "\n",
            "Traceback (most recent call last):\n",
            "  File \"/usr/local/lib/python3.10/dist-packages/IPython/core/interactiveshell.py\", line 2099, in showtraceback\n",
            "    stb = value._render_traceback_()\n",
            "AttributeError: 'TypeError' object has no attribute '_render_traceback_'\n",
            "\n",
            "During handling of the above exception, another exception occurred:\n",
            "\n",
            "Traceback (most recent call last):\n",
            "  File \"/usr/local/lib/python3.10/dist-packages/IPython/core/ultratb.py\", line 1101, in get_records\n",
            "    return _fixed_getinnerframes(etb, number_of_lines_of_context, tb_offset)\n",
            "  File \"/usr/local/lib/python3.10/dist-packages/IPython/core/ultratb.py\", line 248, in wrapped\n",
            "    return f(*args, **kwargs)\n",
            "  File \"/usr/local/lib/python3.10/dist-packages/IPython/core/ultratb.py\", line 281, in _fixed_getinnerframes\n",
            "    records = fix_frame_records_filenames(inspect.getinnerframes(etb, context))\n",
            "  File \"/usr/lib/python3.10/inspect.py\", line 1662, in getinnerframes\n",
            "    frameinfo = (tb.tb_frame,) + getframeinfo(tb, context)\n",
            "  File \"/usr/lib/python3.10/inspect.py\", line 1620, in getframeinfo\n",
            "    filename = getsourcefile(frame) or getfile(frame)\n",
            "  File \"/usr/lib/python3.10/inspect.py\", line 829, in getsourcefile\n",
            "    module = getmodule(object, filename)\n",
            "  File \"/usr/lib/python3.10/inspect.py\", line 861, in getmodule\n",
            "    file = getabsfile(object, _filename)\n",
            "  File \"/usr/lib/python3.10/inspect.py\", line 845, in getabsfile\n",
            "    return os.path.normcase(os.path.abspath(_filename))\n",
            "  File \"/usr/lib/python3.10/posixpath.py\", line 384, in abspath\n",
            "    cwd = os.getcwd()\n",
            "OSError: [Errno 107] Transport endpoint is not connected\n"
          ]
        }
      ],
      "source": [
        "# Mount my Google Drive\n",
        "from google.colab import drive\n",
        "drive.mount('/content/drive', force_remount=True)\n",
        "\n",
        "%cd /content/drive/MyDrive/cs5004/Etivities/Etivity1/\n",
        "!ls -ail ./data/data.csv"
      ]
    },
    {
      "cell_type": "markdown",
      "metadata": {
        "id": "Uh1dozYZq-3H"
      },
      "source": [
        "# **Task 1: Data Preprocessing**"
      ]
    },
    {
      "cell_type": "markdown",
      "metadata": {
        "id": "RiMJuICKtCVI"
      },
      "source": [
        "\n",
        "Explain any preprocessing steps you take and also how you have selected the training and test sets. Remember we do not know which samples are anomalous only that there are a small number of them compared to the total sample size."
      ]
    },
    {
      "cell_type": "markdown",
      "metadata": {
        "id": "PDd7vvniqk8f"
      },
      "source": [
        "## 1.1 Load Dataset"
      ]
    },
    {
      "cell_type": "code",
      "execution_count": null,
      "metadata": {
        "colab": {
          "background_save": true,
          "base_uri": "https://localhost:8080/",
          "height": 356
        },
        "id": "1cQzvDtnlW-D",
        "outputId": "ffafd363-f600-4b61-bf54-8b886a2238be"
      },
      "outputs": [
        {
          "name": "stderr",
          "output_type": "stream",
          "text": [
            "ERROR:root:Internal Python error in the inspect module.\n",
            "Below is the traceback from this internal error.\n",
            "\n",
            "ERROR:root:Internal Python error in the inspect module.\n",
            "Below is the traceback from this internal error.\n",
            "\n",
            "ERROR:root:Internal Python error in the inspect module.\n",
            "Below is the traceback from this internal error.\n",
            "\n"
          ]
        },
        {
          "name": "stdout",
          "output_type": "stream",
          "text": [
            "Traceback (most recent call last):\n",
            "  File \"/usr/local/lib/python3.10/dist-packages/IPython/core/interactiveshell.py\", line 3553, in run_code\n",
            "    exec(code_obj, self.user_global_ns, self.user_ns)\n",
            "  File \"<ipython-input-5-e94f2d846439>\", line 7, in <cell line: 7>\n",
            "    data = pd.read_csv(file_path)\n",
            "  File \"/usr/local/lib/python3.10/dist-packages/pandas/util/_decorators.py\", line 211, in wrapper\n",
            "    return func(*args, **kwargs)\n",
            "  File \"/usr/local/lib/python3.10/dist-packages/pandas/util/_decorators.py\", line 331, in wrapper\n",
            "    return func(*args, **kwargs)\n",
            "  File \"/usr/local/lib/python3.10/dist-packages/pandas/io/parsers/readers.py\", line 950, in read_csv\n",
            "    return _read(filepath_or_buffer, kwds)\n",
            "  File \"/usr/local/lib/python3.10/dist-packages/pandas/io/parsers/readers.py\", line 605, in _read\n",
            "    parser = TextFileReader(filepath_or_buffer, **kwds)\n",
            "  File \"/usr/local/lib/python3.10/dist-packages/pandas/io/parsers/readers.py\", line 1442, in __init__\n",
            "    self._engine = self._make_engine(f, self.engine)\n",
            "  File \"/usr/local/lib/python3.10/dist-packages/pandas/io/parsers/readers.py\", line 1735, in _make_engine\n",
            "    self.handles = get_handle(\n",
            "  File \"/usr/local/lib/python3.10/dist-packages/pandas/io/common.py\", line 856, in get_handle\n",
            "    handle = open(\n",
            "OSError: [Errno 107] Transport endpoint is not connected: './data/data.csv'\n",
            "\n",
            "During handling of the above exception, another exception occurred:\n",
            "\n",
            "Traceback (most recent call last):\n",
            "  File \"/usr/local/lib/python3.10/dist-packages/IPython/core/interactiveshell.py\", line 2099, in showtraceback\n",
            "    stb = value._render_traceback_()\n",
            "AttributeError: 'OSError' object has no attribute '_render_traceback_'\n",
            "\n",
            "During handling of the above exception, another exception occurred:\n",
            "\n",
            "Traceback (most recent call last):\n",
            "  File \"/usr/local/lib/python3.10/dist-packages/IPython/core/ultratb.py\", line 1101, in get_records\n",
            "    return _fixed_getinnerframes(etb, number_of_lines_of_context, tb_offset)\n",
            "  File \"/usr/local/lib/python3.10/dist-packages/IPython/core/ultratb.py\", line 248, in wrapped\n",
            "    return f(*args, **kwargs)\n",
            "  File \"/usr/local/lib/python3.10/dist-packages/IPython/core/ultratb.py\", line 281, in _fixed_getinnerframes\n",
            "    records = fix_frame_records_filenames(inspect.getinnerframes(etb, context))\n",
            "  File \"/usr/lib/python3.10/inspect.py\", line 1662, in getinnerframes\n",
            "    frameinfo = (tb.tb_frame,) + getframeinfo(tb, context)\n",
            "  File \"/usr/lib/python3.10/inspect.py\", line 1620, in getframeinfo\n",
            "    filename = getsourcefile(frame) or getfile(frame)\n",
            "  File \"/usr/lib/python3.10/inspect.py\", line 829, in getsourcefile\n",
            "    module = getmodule(object, filename)\n",
            "  File \"/usr/lib/python3.10/inspect.py\", line 861, in getmodule\n",
            "    file = getabsfile(object, _filename)\n",
            "  File \"/usr/lib/python3.10/inspect.py\", line 845, in getabsfile\n",
            "    return os.path.normcase(os.path.abspath(_filename))\n",
            "  File \"/usr/lib/python3.10/posixpath.py\", line 384, in abspath\n",
            "    cwd = os.getcwd()\n",
            "OSError: [Errno 107] Transport endpoint is not connected\n",
            "Traceback (most recent call last):\n",
            "  File \"/usr/local/lib/python3.10/dist-packages/IPython/core/interactiveshell.py\", line 3553, in run_code\n",
            "    exec(code_obj, self.user_global_ns, self.user_ns)\n",
            "  File \"<ipython-input-5-e94f2d846439>\", line 7, in <cell line: 7>\n",
            "    data = pd.read_csv(file_path)\n",
            "  File \"/usr/local/lib/python3.10/dist-packages/pandas/util/_decorators.py\", line 211, in wrapper\n",
            "    return func(*args, **kwargs)\n",
            "  File \"/usr/local/lib/python3.10/dist-packages/pandas/util/_decorators.py\", line 331, in wrapper\n",
            "    return func(*args, **kwargs)\n",
            "  File \"/usr/local/lib/python3.10/dist-packages/pandas/io/parsers/readers.py\", line 950, in read_csv\n",
            "    return _read(filepath_or_buffer, kwds)\n",
            "  File \"/usr/local/lib/python3.10/dist-packages/pandas/io/parsers/readers.py\", line 605, in _read\n",
            "    parser = TextFileReader(filepath_or_buffer, **kwds)\n",
            "  File \"/usr/local/lib/python3.10/dist-packages/pandas/io/parsers/readers.py\", line 1442, in __init__\n",
            "    self._engine = self._make_engine(f, self.engine)\n",
            "  File \"/usr/local/lib/python3.10/dist-packages/pandas/io/parsers/readers.py\", line 1735, in _make_engine\n",
            "    self.handles = get_handle(\n",
            "  File \"/usr/local/lib/python3.10/dist-packages/pandas/io/common.py\", line 856, in get_handle\n",
            "    handle = open(\n",
            "OSError: [Errno 107] Transport endpoint is not connected: './data/data.csv'\n",
            "\n",
            "During handling of the above exception, another exception occurred:\n",
            "\n",
            "Traceback (most recent call last):\n",
            "  File \"/usr/local/lib/python3.10/dist-packages/IPython/core/interactiveshell.py\", line 2099, in showtraceback\n",
            "    stb = value._render_traceback_()\n",
            "AttributeError: 'OSError' object has no attribute '_render_traceback_'\n",
            "\n",
            "During handling of the above exception, another exception occurred:\n",
            "\n",
            "Traceback (most recent call last):\n",
            "  File \"/usr/local/lib/python3.10/dist-packages/IPython/core/interactiveshell.py\", line 3473, in run_ast_nodes\n",
            "    if (await self.run_code(code, result,  async_=asy)):\n",
            "  File \"/usr/local/lib/python3.10/dist-packages/IPython/core/interactiveshell.py\", line 3575, in run_code\n",
            "    self.showtraceback(running_compiled_code=True)\n",
            "  File \"/usr/local/lib/python3.10/dist-packages/IPython/core/interactiveshell.py\", line 2101, in showtraceback\n",
            "    stb = self.InteractiveTB.structured_traceback(etype,\n",
            "  File \"/usr/local/lib/python3.10/dist-packages/IPython/core/ultratb.py\", line 1367, in structured_traceback\n",
            "    return FormattedTB.structured_traceback(\n",
            "  File \"/usr/local/lib/python3.10/dist-packages/IPython/core/ultratb.py\", line 1267, in structured_traceback\n",
            "    return VerboseTB.structured_traceback(\n",
            "  File \"/usr/local/lib/python3.10/dist-packages/IPython/core/ultratb.py\", line 1124, in structured_traceback\n",
            "    formatted_exception = self.format_exception_as_a_whole(etype, evalue, etb, number_of_lines_of_context,\n",
            "  File \"/usr/local/lib/python3.10/dist-packages/IPython/core/ultratb.py\", line 1082, in format_exception_as_a_whole\n",
            "    last_unique, recursion_repeat = find_recursion(orig_etype, evalue, records)\n",
            "  File \"/usr/local/lib/python3.10/dist-packages/IPython/core/ultratb.py\", line 382, in find_recursion\n",
            "    return len(records), 0\n",
            "TypeError: object of type 'NoneType' has no len()\n",
            "\n",
            "During handling of the above exception, another exception occurred:\n",
            "\n",
            "Traceback (most recent call last):\n",
            "  File \"/usr/local/lib/python3.10/dist-packages/IPython/core/interactiveshell.py\", line 2099, in showtraceback\n",
            "    stb = value._render_traceback_()\n",
            "AttributeError: 'TypeError' object has no attribute '_render_traceback_'\n",
            "\n",
            "During handling of the above exception, another exception occurred:\n",
            "\n",
            "Traceback (most recent call last):\n",
            "  File \"/usr/local/lib/python3.10/dist-packages/IPython/core/ultratb.py\", line 1101, in get_records\n",
            "    return _fixed_getinnerframes(etb, number_of_lines_of_context, tb_offset)\n",
            "  File \"/usr/local/lib/python3.10/dist-packages/IPython/core/ultratb.py\", line 248, in wrapped\n",
            "    return f(*args, **kwargs)\n",
            "  File \"/usr/local/lib/python3.10/dist-packages/IPython/core/ultratb.py\", line 281, in _fixed_getinnerframes\n",
            "    records = fix_frame_records_filenames(inspect.getinnerframes(etb, context))\n",
            "  File \"/usr/lib/python3.10/inspect.py\", line 1662, in getinnerframes\n",
            "    frameinfo = (tb.tb_frame,) + getframeinfo(tb, context)\n",
            "  File \"/usr/lib/python3.10/inspect.py\", line 1620, in getframeinfo\n",
            "    filename = getsourcefile(frame) or getfile(frame)\n",
            "  File \"/usr/lib/python3.10/inspect.py\", line 829, in getsourcefile\n",
            "    module = getmodule(object, filename)\n",
            "  File \"/usr/lib/python3.10/inspect.py\", line 861, in getmodule\n",
            "    file = getabsfile(object, _filename)\n",
            "  File \"/usr/lib/python3.10/inspect.py\", line 845, in getabsfile\n",
            "    return os.path.normcase(os.path.abspath(_filename))\n",
            "  File \"/usr/lib/python3.10/posixpath.py\", line 384, in abspath\n",
            "    cwd = os.getcwd()\n",
            "OSError: [Errno 107] Transport endpoint is not connected\n",
            "Traceback (most recent call last):\n",
            "  File \"/usr/local/lib/python3.10/dist-packages/IPython/core/interactiveshell.py\", line 3553, in run_code\n",
            "    exec(code_obj, self.user_global_ns, self.user_ns)\n",
            "  File \"<ipython-input-5-e94f2d846439>\", line 7, in <cell line: 7>\n",
            "    data = pd.read_csv(file_path)\n",
            "  File \"/usr/local/lib/python3.10/dist-packages/pandas/util/_decorators.py\", line 211, in wrapper\n",
            "    return func(*args, **kwargs)\n",
            "  File \"/usr/local/lib/python3.10/dist-packages/pandas/util/_decorators.py\", line 331, in wrapper\n",
            "    return func(*args, **kwargs)\n",
            "  File \"/usr/local/lib/python3.10/dist-packages/pandas/io/parsers/readers.py\", line 950, in read_csv\n",
            "    return _read(filepath_or_buffer, kwds)\n",
            "  File \"/usr/local/lib/python3.10/dist-packages/pandas/io/parsers/readers.py\", line 605, in _read\n",
            "    parser = TextFileReader(filepath_or_buffer, **kwds)\n",
            "  File \"/usr/local/lib/python3.10/dist-packages/pandas/io/parsers/readers.py\", line 1442, in __init__\n",
            "    self._engine = self._make_engine(f, self.engine)\n",
            "  File \"/usr/local/lib/python3.10/dist-packages/pandas/io/parsers/readers.py\", line 1735, in _make_engine\n",
            "    self.handles = get_handle(\n",
            "  File \"/usr/local/lib/python3.10/dist-packages/pandas/io/common.py\", line 856, in get_handle\n",
            "    handle = open(\n",
            "OSError: [Errno 107] Transport endpoint is not connected: './data/data.csv'\n",
            "\n",
            "During handling of the above exception, another exception occurred:\n",
            "\n",
            "Traceback (most recent call last):\n",
            "  File \"/usr/local/lib/python3.10/dist-packages/IPython/core/interactiveshell.py\", line 2099, in showtraceback\n",
            "    stb = value._render_traceback_()\n",
            "AttributeError: 'OSError' object has no attribute '_render_traceback_'\n",
            "\n",
            "During handling of the above exception, another exception occurred:\n",
            "\n",
            "Traceback (most recent call last):\n",
            "  File \"/usr/local/lib/python3.10/dist-packages/IPython/core/interactiveshell.py\", line 3473, in run_ast_nodes\n",
            "    if (await self.run_code(code, result,  async_=asy)):\n",
            "  File \"/usr/local/lib/python3.10/dist-packages/IPython/core/interactiveshell.py\", line 3575, in run_code\n",
            "    self.showtraceback(running_compiled_code=True)\n",
            "  File \"/usr/local/lib/python3.10/dist-packages/IPython/core/interactiveshell.py\", line 2101, in showtraceback\n",
            "    stb = self.InteractiveTB.structured_traceback(etype,\n",
            "  File \"/usr/local/lib/python3.10/dist-packages/IPython/core/ultratb.py\", line 1367, in structured_traceback\n",
            "    return FormattedTB.structured_traceback(\n",
            "  File \"/usr/local/lib/python3.10/dist-packages/IPython/core/ultratb.py\", line 1267, in structured_traceback\n",
            "    return VerboseTB.structured_traceback(\n",
            "  File \"/usr/local/lib/python3.10/dist-packages/IPython/core/ultratb.py\", line 1124, in structured_traceback\n",
            "    formatted_exception = self.format_exception_as_a_whole(etype, evalue, etb, number_of_lines_of_context,\n",
            "  File \"/usr/local/lib/python3.10/dist-packages/IPython/core/ultratb.py\", line 1082, in format_exception_as_a_whole\n",
            "    last_unique, recursion_repeat = find_recursion(orig_etype, evalue, records)\n",
            "  File \"/usr/local/lib/python3.10/dist-packages/IPython/core/ultratb.py\", line 382, in find_recursion\n",
            "    return len(records), 0\n",
            "TypeError: object of type 'NoneType' has no len()\n",
            "\n",
            "During handling of the above exception, another exception occurred:\n",
            "\n",
            "Traceback (most recent call last):\n",
            "  File \"/usr/local/lib/python3.10/dist-packages/IPython/core/interactiveshell.py\", line 2099, in showtraceback\n",
            "    stb = value._render_traceback_()\n",
            "AttributeError: 'TypeError' object has no attribute '_render_traceback_'\n",
            "\n",
            "During handling of the above exception, another exception occurred:\n",
            "\n",
            "Traceback (most recent call last):\n",
            "  File \"/usr/local/lib/python3.10/dist-packages/IPython/core/interactiveshell.py\", line 3030, in _run_cell\n",
            "    return runner(coro)\n",
            "  File \"/usr/local/lib/python3.10/dist-packages/IPython/core/async_helpers.py\", line 78, in _pseudo_sync_runner\n",
            "    coro.send(None)\n",
            "  File \"/usr/local/lib/python3.10/dist-packages/IPython/core/interactiveshell.py\", line 3257, in run_cell_async\n",
            "    has_raised = await self.run_ast_nodes(code_ast.body, cell_name,\n",
            "  File \"/usr/local/lib/python3.10/dist-packages/IPython/core/interactiveshell.py\", line 3492, in run_ast_nodes\n",
            "    self.showtraceback()\n",
            "  File \"/usr/local/lib/python3.10/dist-packages/IPython/core/interactiveshell.py\", line 2101, in showtraceback\n",
            "    stb = self.InteractiveTB.structured_traceback(etype,\n",
            "  File \"/usr/local/lib/python3.10/dist-packages/IPython/core/ultratb.py\", line 1367, in structured_traceback\n",
            "    return FormattedTB.structured_traceback(\n",
            "  File \"/usr/local/lib/python3.10/dist-packages/IPython/core/ultratb.py\", line 1267, in structured_traceback\n",
            "    return VerboseTB.structured_traceback(\n",
            "  File \"/usr/local/lib/python3.10/dist-packages/IPython/core/ultratb.py\", line 1142, in structured_traceback\n",
            "    formatted_exceptions += self.format_exception_as_a_whole(etype, evalue, etb, lines_of_context,\n",
            "  File \"/usr/local/lib/python3.10/dist-packages/IPython/core/ultratb.py\", line 1082, in format_exception_as_a_whole\n",
            "    last_unique, recursion_repeat = find_recursion(orig_etype, evalue, records)\n",
            "  File \"/usr/local/lib/python3.10/dist-packages/IPython/core/ultratb.py\", line 382, in find_recursion\n",
            "    return len(records), 0\n",
            "TypeError: object of type 'NoneType' has no len()\n",
            "\n",
            "During handling of the above exception, another exception occurred:\n",
            "\n",
            "Traceback (most recent call last):\n",
            "  File \"/usr/local/lib/python3.10/dist-packages/IPython/core/interactiveshell.py\", line 2099, in showtraceback\n",
            "    stb = value._render_traceback_()\n",
            "AttributeError: 'TypeError' object has no attribute '_render_traceback_'\n",
            "\n",
            "During handling of the above exception, another exception occurred:\n",
            "\n",
            "Traceback (most recent call last):\n",
            "  File \"/usr/local/lib/python3.10/dist-packages/IPython/core/ultratb.py\", line 1101, in get_records\n",
            "    return _fixed_getinnerframes(etb, number_of_lines_of_context, tb_offset)\n",
            "  File \"/usr/local/lib/python3.10/dist-packages/IPython/core/ultratb.py\", line 248, in wrapped\n",
            "    return f(*args, **kwargs)\n",
            "  File \"/usr/local/lib/python3.10/dist-packages/IPython/core/ultratb.py\", line 281, in _fixed_getinnerframes\n",
            "    records = fix_frame_records_filenames(inspect.getinnerframes(etb, context))\n",
            "  File \"/usr/lib/python3.10/inspect.py\", line 1662, in getinnerframes\n",
            "    frameinfo = (tb.tb_frame,) + getframeinfo(tb, context)\n",
            "  File \"/usr/lib/python3.10/inspect.py\", line 1620, in getframeinfo\n",
            "    filename = getsourcefile(frame) or getfile(frame)\n",
            "  File \"/usr/lib/python3.10/inspect.py\", line 829, in getsourcefile\n",
            "    module = getmodule(object, filename)\n",
            "  File \"/usr/lib/python3.10/inspect.py\", line 861, in getmodule\n",
            "    file = getabsfile(object, _filename)\n",
            "  File \"/usr/lib/python3.10/inspect.py\", line 845, in getabsfile\n",
            "    return os.path.normcase(os.path.abspath(_filename))\n",
            "  File \"/usr/lib/python3.10/posixpath.py\", line 384, in abspath\n",
            "    cwd = os.getcwd()\n",
            "OSError: [Errno 107] Transport endpoint is not connected\n"
          ]
        }
      ],
      "source": [
        "import pandas as pd\n",
        "\n",
        "# Specify the path to your CSV file\n",
        "file_path = './data/data.csv'\n",
        "\n",
        "# Load the dataset\n",
        "data = pd.read_csv(file_path)"
      ]
    },
    {
      "cell_type": "code",
      "execution_count": null,
      "metadata": {
        "id": "yeB-BZNcrTY1"
      },
      "outputs": [],
      "source": [
        "# Display the first and last few rows of the dataframe to review and verify it's loaded correctly\n",
        "print(data.head())\n",
        "print(\"...\")\n",
        "print(data.tail())"
      ]
    },
    {
      "cell_type": "markdown",
      "metadata": {
        "id": "bxaMrkVUk6zf"
      },
      "source": [
        "Get a sense of the distributions of the different data feature."
      ]
    },
    {
      "cell_type": "code",
      "execution_count": null,
      "metadata": {
        "id": "gLdvK1IWiWHt"
      },
      "outputs": [],
      "source": [
        "data.describe()"
      ]
    },
    {
      "cell_type": "markdown",
      "metadata": {
        "id": "_8La9h2ii7o2"
      },
      "source": [
        "We will not perform any identification or removal of outliers since the objective here is to identify anomolies within an existing dataset. However the identifif=cation of ourliers here may help us decide whether to use MAE over MSE as the error function."
      ]
    },
    {
      "cell_type": "markdown",
      "metadata": {
        "id": "j9RHILTst6ks"
      },
      "source": [
        "## 1.2 Preprocessing"
      ]
    },
    {
      "cell_type": "markdown",
      "metadata": {
        "id": "8CxuryXqrlNl"
      },
      "source": [
        "To prepare for anomaly detection with an autoencoder on the dataset, we will follow a series of preprocessing and data partitioning steps. Autoencoders are neural networks designed for unsupervised learning tasks, particularly useful for anomaly (or outlier) detection. They learn to compress the input into a lower-dimensional representation (encoding) and then reconstruct the input from this representation (decoding). The idea is for the autoencoder will learn to reconstruct normal data well but will have difficulty with anomalous data, which can then be identified based on the reconstruction error.\n",
        "\n",
        "### 1.2.1 Normalization and Standardization\n",
        "Since autoencoders can be sensitive to the scale of the input data, we can normalize and standardize our variables to be on a similar scale.\n",
        "\n",
        "Standardization rescales data to have a mean of 0 and a standard deviation of 1. This is particularly important given the different ranges and standard deviations of our features here."
      ]
    },
    {
      "cell_type": "code",
      "execution_count": null,
      "metadata": {
        "id": "FxdIsUT7txdr"
      },
      "outputs": [],
      "source": [
        "import numpy as np\n",
        "from sklearn.model_selection import train_test_split\n",
        "from sklearn.preprocessing import StandardScaler\n",
        "\n",
        "# Assuming `data` is your DataFrame with the last column being 'Anom' and the rest are features\n",
        "X = data.iloc[:, :-1].values  # Features\n",
        "y = data.iloc[:, -1].values   # Anomaly labels (not used for training, just for evaluation)\n",
        "\n",
        "# Standardize the features\n",
        "scaler = StandardScaler()\n",
        "X_scaled = scaler.fit_transform(X)\n",
        "\n",
        "print(X_scaled)"
      ]
    },
    {
      "cell_type": "markdown",
      "metadata": {
        "id": "oLp_oDO20Zzo"
      },
      "source": [
        "Normalization rescales the data to range [0,1]. This will allow us to use the sigmoid activation function in training."
      ]
    },
    {
      "cell_type": "code",
      "execution_count": null,
      "metadata": {
        "id": "ZHGn9HlOUt7t"
      },
      "outputs": [],
      "source": [
        "import tensorflow as tf\n",
        "\n",
        "# Assuming X_scaled is our standardized feature data as a TensorFlow tensor\n",
        "min_val = tf.reduce_min(X_scaled)\n",
        "max_val = tf.reduce_max(X_scaled)\n",
        "\n",
        "# Perform min-max normalization\n",
        "X_norm = (X_scaled - min_val) / (max_val - min_val)\n",
        "\n",
        "# Cast the normalized data to float32\n",
        "X_norm = tf.cast(X_norm, tf.float32).numpy()\n",
        "\n",
        "print(X_norm)"
      ]
    },
    {
      "cell_type": "markdown",
      "metadata": {
        "id": "uXl3W95ryDnR"
      },
      "source": [
        "### 1.2.2 Handling Missing Values\n",
        "Checking if the dataset has missing values, we can then decide on a strategy for dealing with them. Options include imputing missing values using the mean, median, or another method, or we might remove rows with missing values if there are not many."
      ]
    },
    {
      "cell_type": "code",
      "execution_count": null,
      "metadata": {
        "id": "zr10KZRGjXEJ"
      },
      "outputs": [],
      "source": [
        "import pandas as pd\n",
        "import seaborn as sns\n",
        "import matplotlib.pyplot as plt\n",
        "\n",
        "df = pd.DataFrame(data)\n",
        "\n",
        "# Check for missing values\n",
        "missing_values = df.isnull().sum()\n",
        "print(missing_values)\n"
      ]
    },
    {
      "cell_type": "markdown",
      "metadata": {
        "id": "1f3Qsid7nftp"
      },
      "source": [
        "No missing values are present."
      ]
    },
    {
      "cell_type": "markdown",
      "metadata": {
        "id": "y4JfJrKeyHWR"
      },
      "source": [
        "### 1.2.3 Feature Selection or Dimensionality Reduction\n"
      ]
    },
    {
      "cell_type": "markdown",
      "metadata": {
        "id": "zsiXznbCk4RE"
      },
      "source": [
        "Calculate correlation matrix to identify any highly correlated features that provide opportunity for dimensionality reduction."
      ]
    },
    {
      "cell_type": "code",
      "execution_count": null,
      "metadata": {
        "id": "Zip9EQ7hk3y2"
      },
      "outputs": [],
      "source": [
        "# Compute pairwise correlation of columns\n",
        "df_without_anom = df.drop('Anom', axis=1)  # This removes the 'Anom' column from the DataFrame\n",
        "correlation_matrix = df_without_anom.corr()\n",
        "\n",
        "# Visualize the correlation matrix\n",
        "plt.figure(figsize=(10, 8))\n",
        "sns.heatmap(correlation_matrix, annot=True, cmap='coolwarm')\n",
        "plt.title('Correlation Matrix of Variables')\n",
        "plt.show()\n",
        "\n",
        "# Output the results\n",
        "missing_values, correlation_matrix"
      ]
    },
    {
      "cell_type": "markdown",
      "metadata": {
        "id": "y-XzzborliAH"
      },
      "source": [
        "#### 1.2.3.1 Correlation Analysis\n",
        "\n",
        "Ignoring `Anom`, there are some pairs that are highly correlated suggesting that they share a lot of information;\n",
        "\n",
        "High Correlation Pairs:\n",
        "* V8 and V9 have a high correlation coefficient of 0.825522\n",
        "* V1 and Anom have a high correlation of 0.822831.\n",
        "* V5 and V8 have a very high negative correlation (-0.904447), indicating that as one increases, the other tends to decrease, and vice versa.\n",
        "* V5 and V9 also have a high negative correlation(-0.835857).\n",
        "\n",
        "Given the high correlations among several variables, dimensionality reduction techniques such as Principal Component Analysis (PCA) could be beneficial in reducing the dataset to a lower-dimensional space while retaining most of the variation in the dataset.\n",
        "\n",
        "If the dataset was high-dimensional, we could consider reducing its dimensionality, however having only 9 explanatory variables, this step might not be necessary and we will omit for this task."
      ]
    },
    {
      "cell_type": "markdown",
      "metadata": {
        "id": "rWgpsLv9t1Bw"
      },
      "source": [
        "## 1.3 Training and Test Sets Selection"
      ]
    },
    {
      "cell_type": "markdown",
      "metadata": {
        "id": "TAI3KPslt0IY"
      },
      "source": [
        "\n",
        "### 1.3.1 Approach - Assume all data as normal\n",
        "\n",
        "Based on the assumption that anomalies are rare and that we do not know which data is anomalous, we will treat all data as if it were normal, training a portion of it (80%) then evaluating its performance on the remaining test set (20%)."
      ]
    },
    {
      "cell_type": "markdown",
      "metadata": {
        "id": "qP-oSoEOdZ9o"
      },
      "source": [
        "\n",
        "### 1.3.2 Split the Data\n",
        "We randomly split the data into a training set and a test set based on the commonly used split of 80% for training and 20% for testing. Since we have 50k records such a split will give us sufficient data for training and testing.\n",
        "\n",
        "We will use a stratefied split to ensure the proportions of the two classes (normal and anomaly) are maintained in both the training and testing sets."
      ]
    },
    {
      "cell_type": "code",
      "execution_count": null,
      "metadata": {
        "id": "QUdAuPKGr2wF"
      },
      "outputs": [],
      "source": [
        "# Split the dataset into training (80%) and test set (20%)\n",
        "\n",
        "X_train, X_test, y_train, y_test = train_test_split(X_norm, y, test_size=0.2, random_state=42)\n",
        "\n",
        "# 'X_norm' are our normalized and scaled features and 'y' is the target variable\n",
        "#X_train, X_test, y_train, y_test = train_test_split(\n",
        "#    X_norm,\n",
        "#    y,\n",
        "#    test_size=0.2,\n",
        "#    random_state=42,\n",
        "#    stratify=y  # Ensures that the train and test sets have approximately the same percentage of samples of each target class\n",
        "#)"
      ]
    },
    {
      "cell_type": "markdown",
      "metadata": {
        "id": "D3Fxg1Q4s3-Y"
      },
      "source": [
        "\n",
        "Here we apply SMOTE (Synthetic Minority Over-sampling Technique) as an over-sampling method to address the class imbalance by creating synthetic examples of the minority (anomaly) class.\n",
        "\n",
        "Generating new synthetic samples from the minority class, SMOTE tries to provide more balance in the dataset, with the aim of helping to improve the performance of the learning algorithm.\n",
        "\n",
        "Note that we are **only** applying to the training data and not the test data to ensures that the model is evaluated on real, not synthetic, data. However, it is not always the best choice to add for every problem, so we will review whether it improves the model or not."
      ]
    },
    {
      "cell_type": "code",
      "execution_count": null,
      "metadata": {
        "id": "nuL-8gL3s2r9"
      },
      "outputs": [],
      "source": [
        "from imblearn.over_sampling import SMOTE\n",
        "\n",
        "# Then apply SMOTE only to the training data\n",
        "smote = SMOTE(random_state=42)\n",
        "X_train_resampled, y_train_resampled = smote.fit_resample(X_train, y_train)\n",
        "\n",
        "# Now we have X_train_resampled, y_train_resampled for training your model, and X_test, y_test for testing"
      ]
    },
    {
      "cell_type": "code",
      "execution_count": null,
      "metadata": {
        "id": "81VpGs7odvXa"
      },
      "outputs": [],
      "source": [
        "print(X_train)\n",
        "print(y_test)\n",
        "print(X_test)\n",
        "print(y_train)\n",
        "\n",
        "# Print the sizes of the training and test sets\n",
        "print(f\"\\nTraining set size (features): {X_train.shape}\")\n",
        "print(f\"Test set size (features): {X_test.shape}\")\n",
        "\n",
        "# Calculate and print the distribution of the target classes in the training and test sets\n",
        "unique, counts_train = np.unique(y_train, return_counts=True)\n",
        "unique, counts_test = np.unique(y_test, return_counts=True)\n",
        "\n",
        "print(f\"Training set distribution of target classes: {dict(zip(unique, counts_train))}\")\n",
        "print(f\"Test set distribution of target classes: {dict(zip(unique, counts_test))}\")\n",
        "\n",
        "# SMOTE resampled training set\n",
        "#print(f\"\\n\\nSMOTE resampled training set...\\n\")\n",
        "\n",
        "#print(X_train_resampled)\n",
        "#print(y_train_resampled)\n",
        "\n",
        "#print(f\"\\nTraining set (resampled) size (features): {X_train_resampled.shape}\")\n",
        "#unique, counts_train_resampled = np.unique(y_train_resampled, return_counts=True)\n",
        "#print(f\"Training set (resampled) distribution of target classes: {dict(zip(unique, counts_train_resampled))}\")"
      ]
    },
    {
      "cell_type": "markdown",
      "metadata": {
        "id": "8alQfF6xa2Mu"
      },
      "source": [
        "# **Task 2: Model Generation and Training**"
      ]
    },
    {
      "cell_type": "markdown",
      "metadata": {
        "id": "7ywfLl1joorz"
      },
      "source": [
        "Here we will create a basic autoencoder structure containing an encoder and decoder with the bottleneck layer (2 latent variables) which forces the autoencoder to learn a compressed/encoded representation of the input data.\n",
        "\n",
        "We will judge the efficiency of our autoencoder by how well the decoded output matches the original input and may adjust based on the results (reconstruction errors)."
      ]
    },
    {
      "cell_type": "code",
      "execution_count": null,
      "metadata": {
        "id": "BMnhPOBA2QOY"
      },
      "outputs": [],
      "source": [
        "# Uncomment if we choose to include SMOTE synthetic instances.\n",
        "\n",
        "#X_train=X_train_resampled\n",
        "#y_train=y_train_resampled"
      ]
    },
    {
      "cell_type": "markdown",
      "metadata": {
        "id": "1pG7k_S8g8Sa"
      },
      "source": [
        "### 2.1 Create Autoencoder network"
      ]
    },
    {
      "cell_type": "code",
      "execution_count": null,
      "metadata": {
        "id": "0uKd_Jeca1iT"
      },
      "outputs": [],
      "source": [
        "from tensorflow.keras.models import Model\n",
        "from tensorflow.keras.layers import Input, Dense, Dropout\n",
        "from tensorflow.keras.optimizers import Adam\n",
        "from tensorflow.keras.callbacks import EarlyStopping\n",
        "\n",
        "def build_autoencoder(input_dim):\n",
        "    input_layer = Input(shape=(input_dim,))\n",
        "\n",
        "    # Encoder\n",
        "    encoded = Dense(128, activation='relu')(input_layer)\n",
        "    encoded = Dropout(0.2)(encoded)\n",
        "    encoded = Dense(64, activation='relu')(encoded)\n",
        "    encoded = Dense(32, activation='relu')(encoded)\n",
        "    encoded = Dense(2, activation='relu')(encoded)  # Keep relu for encoding\n",
        "\n",
        "    # Decoder part (mirrors the encoder)\n",
        "    decoded = Dense(32, activation='relu')(encoded)\n",
        "    decoded = Dense(64, activation='relu')(decoded)\n",
        "    decoded = Dropout(0.2)(decoded)\n",
        "    decoded = Dense(128, activation='relu')(decoded)\n",
        "    output_layer = Dense(input_dim, activation='sigmoid')(decoded)  # sigmoid is appropriate since we have normalized the data to range [0-1]\n",
        "\n",
        "    # Previous simpler architecture (not as performant)\n",
        "\n",
        "    # Encoder\n",
        "    #encoded = Dense(64, activation='relu')(input_layer)\n",
        "    #encoded = Dense(32, activation='relu')(encoded)\n",
        "    #bottleneck = Dense(2, activation='relu')(encoded)  # Latent space representation\n",
        "\n",
        "    # Decoder\n",
        "    #decoded = Dense(32, activation='relu')(bottleneck)\n",
        "    #decoded = Dense(64, activation='relu')(decoded)\n",
        "\n",
        "    #output_layer = Dense(input_dim, activation='sigmoid')(decoded)\n",
        "\n",
        "    autoencoder = Model(inputs=input_layer, outputs=output_layer)\n",
        "    return autoencoder"
      ]
    },
    {
      "cell_type": "markdown",
      "metadata": {
        "id": "ObtmMOdohfEj"
      },
      "source": [
        "#### 2.1 Train the autoencoder network"
      ]
    },
    {
      "cell_type": "markdown",
      "metadata": {
        "id": "-wCK4CEsrT0I"
      },
      "source": [
        "Next we will train the autoencoder network in TensorFlow with the addition of an early stopping mechanism to prevent overfitting."
      ]
    },
    {
      "cell_type": "code",
      "execution_count": null,
      "metadata": {
        "colab": {
          "base_uri": "https://localhost:8080/"
        },
        "id": "PpRtbskUa-4-",
        "outputId": "1a895ad1-19fc-42f8-f4f0-91155c8cabfb"
      },
      "outputs": [
        {
          "name": "stdout",
          "output_type": "stream",
          "text": [
            "Epoch 1/1000\n",
            "154/154 [==============================] - 3s 10ms/step - loss: 1.4370e-04 - val_loss: 2.3546e-05\n",
            "Epoch 2/1000\n",
            "154/154 [==============================] - 3s 19ms/step - loss: 2.1205e-05 - val_loss: 1.9060e-05\n",
            "Epoch 3/1000\n",
            "154/154 [==============================] - 3s 18ms/step - loss: 2.0275e-05 - val_loss: 1.8954e-05\n",
            "Epoch 4/1000\n",
            "154/154 [==============================] - 2s 14ms/step - loss: 2.0206e-05 - val_loss: 1.8900e-05\n",
            "Epoch 5/1000\n",
            "154/154 [==============================] - 2s 15ms/step - loss: 2.0170e-05 - val_loss: 1.8915e-05\n",
            "Epoch 6/1000\n",
            "154/154 [==============================] - 3s 16ms/step - loss: 2.0163e-05 - val_loss: 1.8993e-05\n",
            "Epoch 7/1000\n",
            "154/154 [==============================] - 1s 7ms/step - loss: 2.0168e-05 - val_loss: 1.8933e-05\n",
            "Epoch 8/1000\n",
            "154/154 [==============================] - 2s 15ms/step - loss: 2.0162e-05 - val_loss: 1.8883e-05\n",
            "Epoch 9/1000\n",
            "154/154 [==============================] - 2s 13ms/step - loss: 2.0178e-05 - val_loss: 1.8944e-05\n",
            "Epoch 10/1000\n",
            "154/154 [==============================] - 1s 9ms/step - loss: 2.0167e-05 - val_loss: 1.8951e-05\n",
            "Epoch 11/1000\n",
            "154/154 [==============================] - 1s 7ms/step - loss: 2.0172e-05 - val_loss: 1.8944e-05\n",
            "Epoch 12/1000\n",
            "154/154 [==============================] - 1s 7ms/step - loss: 2.0184e-05 - val_loss: 1.8893e-05\n",
            "Epoch 13/1000\n",
            "154/154 [==============================] - 1s 7ms/step - loss: 2.0162e-05 - val_loss: 1.8992e-05\n",
            "Epoch 14/1000\n",
            "154/154 [==============================] - 1s 7ms/step - loss: 2.0181e-05 - val_loss: 1.8897e-05\n",
            "Epoch 15/1000\n",
            "154/154 [==============================] - 1s 7ms/step - loss: 2.0171e-05 - val_loss: 1.8877e-05\n",
            "Epoch 16/1000\n",
            "154/154 [==============================] - 1s 7ms/step - loss: 2.0180e-05 - val_loss: 1.8923e-05\n",
            "Epoch 17/1000\n",
            "154/154 [==============================] - 1s 7ms/step - loss: 2.0173e-05 - val_loss: 1.8925e-05\n",
            "Epoch 18/1000\n",
            "154/154 [==============================] - 1s 7ms/step - loss: 2.0147e-05 - val_loss: 1.8987e-05\n",
            "Epoch 19/1000\n",
            "154/154 [==============================] - 1s 8ms/step - loss: 2.0171e-05 - val_loss: 1.8891e-05\n",
            "Epoch 20/1000\n",
            "154/154 [==============================] - 2s 11ms/step - loss: 2.0146e-05 - val_loss: 1.8954e-05\n",
            "Epoch 21/1000\n",
            "154/154 [==============================] - 2s 12ms/step - loss: 2.0092e-05 - val_loss: 1.8681e-05\n",
            "Epoch 22/1000\n",
            "154/154 [==============================] - 1s 8ms/step - loss: 1.9944e-05 - val_loss: 1.8295e-05\n",
            "Epoch 23/1000\n",
            "154/154 [==============================] - 1s 7ms/step - loss: 2.0149e-05 - val_loss: 1.8970e-05\n",
            "Epoch 24/1000\n",
            "154/154 [==============================] - 1s 7ms/step - loss: 1.9930e-05 - val_loss: 1.8268e-05\n",
            "Epoch 25/1000\n",
            "154/154 [==============================] - 1s 7ms/step - loss: 1.9826e-05 - val_loss: 1.8890e-05\n",
            "Epoch 26/1000\n",
            "154/154 [==============================] - 1s 7ms/step - loss: 2.0220e-05 - val_loss: 1.8903e-05\n",
            "Epoch 27/1000\n",
            "154/154 [==============================] - 1s 7ms/step - loss: 2.0225e-05 - val_loss: 1.8916e-05\n",
            "Epoch 28/1000\n",
            "154/154 [==============================] - 1s 7ms/step - loss: 2.0227e-05 - val_loss: 1.8940e-05\n",
            "Epoch 29/1000\n",
            "154/154 [==============================] - 1s 7ms/step - loss: 2.0203e-05 - val_loss: 1.8910e-05\n",
            "Epoch 30/1000\n",
            "154/154 [==============================] - 1s 7ms/step - loss: 2.0197e-05 - val_loss: 1.8994e-05\n",
            "Epoch 31/1000\n",
            "154/154 [==============================] - 2s 10ms/step - loss: 2.0200e-05 - val_loss: 1.9046e-05\n",
            "Epoch 32/1000\n",
            "154/154 [==============================] - 2s 11ms/step - loss: 2.0219e-05 - val_loss: 1.8930e-05\n",
            "Epoch 33/1000\n",
            "154/154 [==============================] - 2s 11ms/step - loss: 2.0211e-05 - val_loss: 1.8940e-05\n",
            "Epoch 34/1000\n",
            "150/154 [============================>.] - ETA: 0s - loss: 1.9347e-05Restoring model weights from the end of the best epoch: 24.\n",
            "154/154 [==============================] - 1s 8ms/step - loss: 2.0205e-05 - val_loss: 1.8991e-05\n",
            "Epoch 34: early stopping\n"
          ]
        }
      ],
      "source": [
        "from tensorflow.keras.callbacks import EarlyStopping\n",
        "\n",
        "input_dim = X_train.shape[1]\n",
        "autoencoder = build_autoencoder(input_dim)\n",
        "\n",
        "autoencoder.compile(optimizer=Adam(learning_rate=0.001), loss='mse')\n",
        "\n",
        "# Define early stopping callback\n",
        "early_stopping = EarlyStopping(\n",
        "    monitor='val_loss',  # Monitor the validation loss\n",
        "    patience=10,  # Number of epochs with no improvement after which training will be stopped\n",
        "    verbose=1,\n",
        "    restore_best_weights=True  # Restores model weights from the epoch with the best value of the monitored quantity\n",
        ")\n",
        "\n",
        "# Train the model with the early stopping callback\n",
        "history = autoencoder.fit(\n",
        "    X_train, X_train,\n",
        "    epochs=1000,  # The maximum number of epochs to run\n",
        "    batch_size=256,\n",
        "    shuffle=True,\n",
        "    validation_data=(X_test, X_test),\n",
        "    callbacks=[early_stopping]  # List of callbacks to apply during training\n",
        ")"
      ]
    },
    {
      "cell_type": "markdown",
      "metadata": {
        "id": "EtU746RsrjP-"
      },
      "source": [
        "#### 2.2 Plot the loss curve\n",
        "\n",
        "Plotting the loss curves for comparison."
      ]
    },
    {
      "cell_type": "code",
      "execution_count": null,
      "metadata": {
        "colab": {
          "base_uri": "https://localhost:8080/",
          "height": 449
        },
        "id": "s4UbhVd9buyZ",
        "outputId": "50f048f9-235b-46c7-b81a-db6dfc103cc9"
      },
      "outputs": [
        {
          "data": {
            "image/png": "[encoded data removed]",
            "text/plain": [
              "<Figure size 640x480 with 1 Axes>"
            ]
          },
          "metadata": {},
          "output_type": "display_data"
        }
      ],
      "source": [
        "import matplotlib.pyplot as plt\n",
        "\n",
        "plt.plot(history.history['loss'], label='Training Loss')\n",
        "plt.plot(history.history['val_loss'], label='Validation Loss')\n",
        "plt.xlabel('Epochs')\n",
        "plt.ylabel('Loss')\n",
        "plt.legend()\n",
        "plt.show()\n"
      ]
    },
    {
      "cell_type": "markdown",
      "metadata": {
        "id": "3FNPHqluhxI6"
      },
      "source": [
        "#### 2.2.1 Loss curve analysis"
      ]
    },
    {
      "cell_type": "markdown",
      "metadata": {
        "id": "sBtXoO0gs_ga"
      },
      "source": [
        "The loss curve plot shows both training and validation loss decrease sharply within the first few epochs, suggesting that the model is quickly learning from the data. The loss values are low so the model is performing well in terms of minimizing the loss function it was trained on. Both loss curves are closely aligned following a similar trend, indicating that the model is not overfitting.\n",
        "\n",
        "Early stopping was employed with training stopping well before the maximum epochs with further improvement in validation loss. After the initial sharp decrease, both curves flatten out suggesting that the model has reached its capacity in learning from the data and additional training epochs are not yielding significant changes in loss.\n",
        "\n",
        "Overall, the loss curve indicates that the model is effectively learning and generalizing to the validation data."
      ]
    },
    {
      "cell_type": "markdown",
      "metadata": {
        "id": "llaZKNO6St0U"
      },
      "source": [
        "# **Task 3: Anomaly Detection**\n",
        "\n"
      ]
    },
    {
      "cell_type": "markdown",
      "metadata": {
        "id": "Fwr-qG-HdG12"
      },
      "source": [
        "From the histogram of the reconstruction error decide what the cutoff should be applied to distinguish anomalies from valid samples, given that the anomaly rate is ~7%."
      ]
    },
    {
      "cell_type": "markdown",
      "metadata": {
        "id": "C4vwLZvJiBBm"
      },
      "source": [
        "#### 3.1 Calculate reconstruction error"
      ]
    },
    {
      "cell_type": "markdown",
      "metadata": {
        "id": "JbSpfnykgIqC"
      },
      "source": [
        "First we calculate the reconstruction error. We will use MAE here as it may be a bit easier to interpret than MSE, being on the same scale as the original data."
      ]
    },
    {
      "cell_type": "code",
      "execution_count": null,
      "metadata": {
        "colab": {
          "base_uri": "https://localhost:8080/"
        },
        "id": "1MBAzECdcJFa",
        "outputId": "20642fdc-48fe-4f29-c650-f2de92aba10c"
      },
      "outputs": [
        {
          "name": "stdout",
          "output_type": "stream",
          "text": [
            "307/307 [==============================] - 1s 2ms/step\n",
            "[0.00216363 0.00211082 0.00115999 ... 0.00153044 0.00059628 0.00174035]\n"
          ]
        }
      ],
      "source": [
        "reconstructed = autoencoder.predict(X_test)\n",
        "reconstruction_error = np.mean(np.abs(X_test - reconstructed), axis=1)\n",
        "print(reconstruction_error)\n"
      ]
    },
    {
      "cell_type": "markdown",
      "metadata": {
        "id": "lLlQiW_siJuM"
      },
      "source": [
        "#### 3.2 Calculate Threshold (reconstruction error)"
      ]
    },
    {
      "cell_type": "markdown",
      "metadata": {
        "id": "oz4LxRzpf331"
      },
      "source": [
        "Now we calculate the threshold value which is the cutoff above which we will consider a sample as an anomaly.\n",
        "\n",
        "We will use a percentile cutoff technique using the provide 7% anomaly rate. More generally, setting the threshold may be based on statistical analysis of the reconstruction errors on the validation set on domain knowledge."
      ]
    },
    {
      "cell_type": "code",
      "execution_count": null,
      "metadata": {
        "colab": {
          "base_uri": "https://localhost:8080/"
        },
        "id": "ueuKn-e_ckce",
        "outputId": "08b787a8-c3b3-4bca-b137-d3c5927ebe2f"
      },
      "outputs": [
        {
          "name": "stdout",
          "output_type": "stream",
          "text": [
            "Threshold: 0.00588339202105999\n"
          ]
        }
      ],
      "source": [
        "# Assuming 'reconstruction_error' contains the mean absolute error between X_test and its reconstruction\n",
        "threshold = np.percentile(reconstruction_error, 93)  # Setting threshold at the 93rd percentile (7% anomaly rate)\n",
        "print(f\"Threshold:\", threshold)"
      ]
    },
    {
      "cell_type": "markdown",
      "metadata": {
        "id": "qVWHyB_3y7gz"
      },
      "source": [
        "Setting this threshold (0.005864) will cause any instance from our test dataset (X_test) that has a reconstruction error larger than this value to be flagged as an anomaly.\n",
        "\n",
        "This threshold represents the error value below which 93% of the reconstruction errors fall - so it is expected to capture the top 7% most extreme deviations in the data based on the autoencore model's reconstruction capability."
      ]
    },
    {
      "cell_type": "markdown",
      "metadata": {
        "id": "2EMWMY3C0Me8"
      },
      "source": [
        "#### 3.3 Plot Threshold\n",
        "\n",
        "Plotting the threshold on the reconstruction error histogram."
      ]
    },
    {
      "cell_type": "code",
      "execution_count": null,
      "metadata": {
        "colab": {
          "base_uri": "https://localhost:8080/",
          "height": 449
        },
        "id": "Zzx4qHKvc_qd",
        "outputId": "1b9cb933-a031-4c16-9bba-5cfe7cc5fc00"
      },
      "outputs": [
        {
          "data": {
            "image/png": "[encoded data removed]",
            "text/plain": [
              "<Figure size 640x480 with 1 Axes>"
            ]
          },
          "metadata": {},
          "output_type": "display_data"
        }
      ],
      "source": [
        "plt.hist(reconstruction_error, bins=200)\n",
        "plt.xlabel('Reconstruction Error')\n",
        "plt.ylabel('Frequency')\n",
        "\n",
        "# Add a line for the anomaly threshold\n",
        "plt.axvline(threshold, color='red', linestyle='dashed', linewidth=1)\n",
        "plt.text(threshold, plt.ylim()[1]/2, 'Anomaly Threshold', color='red', ha='left')\n",
        "\n",
        "plt.show()"
      ]
    },
    {
      "cell_type": "markdown",
      "metadata": {
        "id": "nDwTOqDfifn3"
      },
      "source": [
        "#### 3.3 Identify Anomalies"
      ]
    },
    {
      "cell_type": "markdown",
      "metadata": {
        "id": "F0WmOh3X4zB-"
      },
      "source": [
        "Now we identify the predicted anomalies based on the threshold, for comparison with the true anomalies in a confusion matrix."
      ]
    },
    {
      "cell_type": "code",
      "execution_count": null,
      "metadata": {
        "colab": {
          "base_uri": "https://localhost:8080/",
          "height": 616
        },
        "id": "uMVqkRRV42r0",
        "outputId": "dc227b2d-83b7-4458-f6ce-21ec9cc599c0"
      },
      "outputs": [
        {
          "name": "stdout",
          "output_type": "stream",
          "text": [
            "Confusion Matrix:\n",
            "[[9093    7]\n",
            " [  39  681]]\n"
          ]
        },
        {
          "data": {
            "image/png": "[encoded data removed]",
            "text/plain": [
              "<Figure size 800x600 with 2 Axes>"
            ]
          },
          "metadata": {},
          "output_type": "display_data"
        }
      ],
      "source": [
        "from sklearn.metrics import confusion_matrix, classification_report\n",
        "import seaborn as sns\n",
        "\n",
        "# Determining predicted anomalies based on the threshold\n",
        "predicted_anomalies = reconstruction_error > threshold\n",
        "\n",
        "# Since y_test contains the true labels, ensure it's a boolean array where '1' indicates an anomaly\n",
        "true_anomalies = y_test.astype(bool)\n",
        "\n",
        "# Calculating the confusion matrix\n",
        "conf_matrix = confusion_matrix(true_anomalies, predicted_anomalies)\n",
        "print(\"Confusion Matrix:\")\n",
        "print(conf_matrix)\n",
        "\n",
        "# Plotting the confusion matrix using seaborn\n",
        "plt.figure(figsize=(8, 6))\n",
        "sns.heatmap(conf_matrix, annot=True, fmt='d', cmap='Blues', xticklabels=['Normal', 'Anomaly'], yticklabels=['Normal', 'Anomaly'])\n",
        "plt.xlabel('Predicted labels')\n",
        "plt.ylabel('True labels')\n",
        "plt.title('Confusion Matrix')\n",
        "plt.show()"
      ]
    },
    {
      "cell_type": "markdown",
      "metadata": {
        "id": "s0Ioj16zip6v"
      },
      "source": [
        "#### 3.3.1 Analyse Anomalies - Confusion Matrix"
      ]
    },
    {
      "cell_type": "markdown",
      "metadata": {
        "id": "upbgm_-u5zO6"
      },
      "source": [
        "The confusion matrix shows at a glance the following results from the anomaly detection model.\n",
        "\n",
        "* True Negatives (TN): 9093 instances correctly predicted as normal.\n",
        "* False Positives (FP): 7 instances incorrectly predicted as anomalies. (these were actually normal).\n",
        "* False Negatives (FN): 39 instances were incorrectly predicted as normal (these were actually anomalies).\n",
        "True Positives (TP): 681 instances were correctly predicted as anomalies.\n",
        "\n",
        "Observation based on the above;\n",
        "* Based on this confusion matrix, the model has a high true negative rate, meaning it's quite effective at identifying normal instances.\n",
        "* The number of false positives is low, meaning few instances of normal behavior being incorrectly flagged as anomalous, which is good.\n",
        "* The true positive rate is also high, which shows that the model is capable of detecting a significant number of anomalies.\n",
        "* There are more false negatives than false positives, meaning the model is more likely to miss detecting an actual anomaly than it is to incorrectly label normal behavior as anomalous. Depending on the application this could be an issue for example fraudulent credit card transactions or medical diagnosis.\n",
        "\n"
      ]
    },
    {
      "cell_type": "markdown",
      "metadata": {
        "id": "SSfvQ0o9QULP"
      },
      "source": [
        "Next we use the confusion matrix results to quick calculation of some key overall metrics. However, we will break down these metrics by class (normal vs. anomaly) in the classification report later."
      ]
    },
    {
      "cell_type": "code",
      "execution_count": null,
      "metadata": {
        "colab": {
          "base_uri": "https://localhost:8080/"
        },
        "id": "ipFTHtDUZ_tt",
        "outputId": "2fbe8bfa-a468-4abf-ed1e-e3b68f32fda8"
      },
      "outputs": [
        {
          "name": "stdout",
          "output_type": "stream",
          "text": [
            "Specificity: 0.9992307692307693\n",
            "Sensitivity: 0.9458333333333333\n",
            "Youden's Index: 0.9450641025641024\n"
          ]
        }
      ],
      "source": [
        "tn, fp, fn, tp = conf_matrix.ravel()\n",
        "\n",
        "# Calculate Specificity\n",
        "specificity = tn / (tn + fp)\n",
        "\n",
        "# Calculate Sensitivity\n",
        "sensitivity = tp / (tp + fn)\n",
        "\n",
        "# Calculate Youden's Index\n",
        "youden_index = sensitivity + specificity - 1\n",
        "\n",
        "print(f\"Specificity: {specificity}\")\n",
        "print(f\"Sensitivity: {sensitivity}\")\n",
        "print(f\"Youden's Index: {youden_index}\")"
      ]
    },
    {
      "cell_type": "markdown",
      "metadata": {
        "id": "ktujwCL-R6nf"
      },
      "source": [
        "* The high specificity value indicates that model has a very low false positive rate, rarely misclassifying normal instances as anomalies - important for applications where we need to avoid false alarms.\n",
        "* The high sensitivity value shows that the model is also good at detecting anomalies, making it reliable for anomaly detection purposes where missing an anomaly could be critical.\n",
        "* The Youden's Index being close to 1 confirms the model's effectiveness in discriminating between anomalies and normal instances. The model seems well tuned to maximize both sensitivity and specificity, so should perform well for anomaly detection tasks.\n",
        "\n"
      ]
    },
    {
      "cell_type": "markdown",
      "metadata": {
        "id": "l3ORZqzbi5NF"
      },
      "source": [
        "#### 3.3.2 Classification Report"
      ]
    },
    {
      "cell_type": "code",
      "execution_count": null,
      "metadata": {
        "colab": {
          "base_uri": "https://localhost:8080/"
        },
        "id": "UHvPB0Be40SH",
        "outputId": "bff104fc-dbac-4d49-ff64-dac1b3d1a826"
      },
      "outputs": [
        {
          "name": "stdout",
          "output_type": "stream",
          "text": [
            "Classification Report:\n",
            "              precision    recall  f1-score   support\n",
            "\n",
            "      Normal       1.00      1.00      1.00      9100\n",
            "     Anomaly       0.99      0.95      0.97       720\n",
            "\n",
            "    accuracy                           1.00      9820\n",
            "   macro avg       0.99      0.97      0.98      9820\n",
            "weighted avg       1.00      1.00      1.00      9820\n",
            "\n"
          ]
        }
      ],
      "source": [
        "import numpy as np\n",
        "from sklearn.metrics import classification_report\n",
        "\n",
        "# Generating a classification report\n",
        "report = classification_report(true_anomalies, predicted_anomalies, target_names=['Normal', 'Anomaly'])\n",
        "print(\"Classification Report:\")\n",
        "print(report)\n"
      ]
    },
    {
      "cell_type": "markdown",
      "metadata": {
        "id": "llkiH2CLA4tM"
      },
      "source": [
        "Analysing the classification report;\n",
        "\n",
        "* Precision: The precision for both the Normal and Anomaly classes is approaching 1.00, meaning that nearly all instances predicted as normal and as anomaly were correctly predicted.\n",
        "\n",
        "* Recall: The recall for the Normal class is 1.00, indicating that the model was able to identify all normal instances. The recall for the Anomaly class is 0.95, meansing that the model successfully identified 95% of all actual anomalies. While high, it means there still 5% of anomalies not being detected.\n",
        "\n",
        "* F1-Score: The F1-score for the Normal class is perfect at 1.00, which is expected given the perfect precision and recall. The F1-score for the Anomaly class is 0.97, which is a balance between precision and recall, and indicates a high level of model performance for detecting anomalies.\n",
        "\n",
        "Overall, the classification report indicates that the anomaly detection model is performing very well. The precision, recall, and F1-score for both classes are high indicating a robust model. However, since the dataset is imbalanced with more Normal instances than Anomaly instances, the recall for the Anomaly class is particularly important, indicating the model ability to detect the rarer class. The fact that the recall for Anomalies is 0.95 suggests that the model is quite good at detecting anomalies but still has room for improvement to catch the remaining 5%.\n",
        "\n",
        "The high overall accuracy is misleading because of the class imbalance, so the high F1-score for the Anomaly class is a more informative measure of performance in this context.\n",
        "\n",
        "\n",
        "\n",
        "\n",
        "\n"
      ]
    },
    {
      "cell_type": "markdown",
      "metadata": {
        "id": "41NhibRXahzA"
      },
      "source": [
        "## 3.4 Plot latent variables\n",
        "\n",
        "Plotting the latent variables (2d) allows us to vizualise the distribution of data in the latent space, so we can see how well the VAE is seperating normal instances from anomalies."
      ]
    },
    {
      "cell_type": "code",
      "execution_count": null,
      "metadata": {
        "colab": {
          "base_uri": "https://localhost:8080/",
          "height": 581
        },
        "id": "4PAy0BGCgz6f",
        "outputId": "36ca02cf-b736-4324-b5bb-0df07b0d5756"
      },
      "outputs": [
        {
          "name": "stdout",
          "output_type": "stream",
          "text": [
            "307/307 [==============================] - 3s 7ms/step\n"
          ]
        },
        {
          "data": {
            "image/png": "[encoded data removed]",
            "text/plain": [
              "<Figure size 600x600 with 1 Axes>"
            ]
          },
          "metadata": {},
          "output_type": "display_data"
        }
      ],
      "source": [
        "# Assuming you have already trained your VAE and have `X_test` ready\n",
        "z_mean, _, _ = encoder.predict(X_test)\n",
        "\n",
        "# Now `z_mean` contains the latent representations of the test samples\n",
        "# The following code will plot these latent representations\n",
        "\n",
        "colors = ['blue' if label == 0 else 'red' for label in y_test]  # Normal data in blue, anomalies in red\n",
        "\n",
        "plt.figure(figsize=(6, 6))\n",
        "plt.scatter(z_mean[:, 0], z_mean[:, 1], alpha=0.7, c=colors)\n",
        "plt.xlabel('Latent Dimension 1')\n",
        "plt.ylabel('Latent Dimension 2')\n",
        "plt.title('Latent Space Representation with Anomalies')\n",
        "plt.grid(True)\n",
        "plt.show()\n"
      ]
    },
    {
      "cell_type": "markdown",
      "metadata": {
        "id": "KCpbPjlIg0tX"
      },
      "source": [
        "### 3.4.1 Latent variables - Plot Analysis\n",
        "\n",
        "The plot demonstrates that the model is _fairly_ effective at separating the instances with clustering of the normal (blue) points but perhaps a bit more scattering of the anomalies (red) indicating ability to seperate anomalies but with some apparent overlap also. So the fact the VAE appears to be encoding anomalies close to normal points in the latent space could be simply due to similarlity in features between some normal and anomalous data points or it could be that the VAE not learning a sufficiently discriminative representation. Such overlap makes it more challenging to set a clear cutoff for the anomaly detection. As such is would be worth investigating if perhaps a more sophisticated VAE architecture or additional feature engineeing - perhaps reducing the dimensions by removing some of the highly correlated features. We could also try a latent space with higher dimensions perhaps using t-SNE or PCA to help visualize these higher-dimension latent spaces.\n"
      ]
    },
    {
      "cell_type": "markdown",
      "metadata": {
        "id": "80ia5fcQfJ1V"
      },
      "source": [
        "### 4.4 Plot ROC and PR Curves"
      ]
    },
    {
      "cell_type": "markdown",
      "metadata": {
        "id": "jxf8beIKfM1a"
      },
      "source": [
        "The Receiver Operating Characteristic (ROC) Curve helps summarize the skill of our model in classifiying whether data instances are anomalies (or normal). In particular, it demonstrates the trade-off between sensitivity and specificity with the AUC summarizing the overall performance of the classifier.\n",
        "\n",
        "Precision Recall (PR) curves are often preferred in anomaly detection scenarios due to their focus on the positive class in conditions of class imbalance and where it is more important to accurately detect the rare positive cases rather than the many negative cases. The PR curve directly reflects the trade-off between the benefit of correctly identifying anomalies (recall) and the cost of tolerating false alarms (precision). In practical applications, the cost of missing an anomaly (low recall) and the cost of false alarms (low precision) are critical factors."
      ]
    },
    {
      "cell_type": "code",
      "execution_count": null,
      "metadata": {
        "colab": {
          "base_uri": "https://localhost:8080/",
          "height": 607
        },
        "id": "8yFADLchbBMh",
        "outputId": "6f29e2d5-311a-4f81-8b97-68f6525d6d30"
      },
      "outputs": [
        {
          "data": {
            "image/png": "[encoded data removed]",
            "text/plain": [
              "<Figure size 1200x600 with 2 Axes>"
            ]
          },
          "metadata": {},
          "output_type": "display_data"
        }
      ],
      "source": [
        "from sklearn.metrics import precision_recall_curve, average_precision_score, roc_curve, auc\n",
        "import matplotlib.pyplot as plt\n",
        "\n",
        "# Assuming 'scores' holds the anomaly scores (e.g., reconstruction errors)\n",
        "# and 'true_labels' holds the true anomaly labels for the test set.\n",
        "\n",
        "true_labels = true_anomalies\n",
        "scores = reconstruction_error\n",
        "\n",
        "# Calculate ROC curve and AUC\n",
        "fpr, tpr, roc_thresholds = roc_curve(true_labels, scores)\n",
        "roc_auc = auc(fpr, tpr)\n",
        "\n",
        "# Calculate precision-recall curve and AP\n",
        "precision, recall, pr_thresholds = precision_recall_curve(true_labels, scores)\n",
        "ap = average_precision_score(true_labels, scores)\n",
        "\n",
        "# Set up the plots\n",
        "fig, (ax_roc, ax_pr) = plt.subplots(1, 2, figsize=(12, 6))\n",
        "\n",
        "# ROC Curve plot\n",
        "ax_roc.plot(fpr, tpr, color='darkorange', lw=2, label=f'ROC curve (area = {roc_auc:.2f})')\n",
        "ax_roc.plot([0, 1], [0, 1], color='navy', lw=2, linestyle='--')\n",
        "ax_roc.set_xlim([0.0, 1.0])\n",
        "ax_roc.set_ylim([0.0, 1.05])\n",
        "ax_roc.set_xlabel('False Positive Rate')\n",
        "ax_roc.set_ylabel('True Positive Rate')\n",
        "ax_roc.set_title('Receiver Operating Characteristic')\n",
        "ax_roc.legend(loc=\"lower right\")\n",
        "\n",
        "# Precision-Recall curve plot\n",
        "ax_pr.plot(recall, precision, color='blue', lw=2, label=f'Precision-Recall curve (AP = {ap:.2f})')\n",
        "ax_pr.set_xlim([0.0, 1.0])\n",
        "ax_pr.set_ylim([0.0, 1.05])\n",
        "ax_pr.set_xlabel('Recall')\n",
        "ax_pr.set_ylabel('Precision')\n",
        "ax_pr.set_title('Precision-Recall Curve')\n",
        "ax_pr.legend(loc=\"lower left\")\n",
        "\n",
        "# Show the combined plot\n",
        "plt.tight_layout()\n",
        "plt.show()"
      ]
    },
    {
      "cell_type": "markdown",
      "metadata": {
        "id": "sLm-ShDDeKT7"
      },
      "source": [
        "#### 4.4.1 ROC and PR Curves - Analysis\n",
        "\n",
        "The **Receiver Operating Characteristic (ROC)** curve indicates a very high Area Under Curve (AUC) score (0.99) suggesting that the model has excellent discrimination capabilities between the positive class (anomalies) and the negative class (normal instances). The curve hugs the top left corner, indicating both high true positive rate and low false positive rate across various thresholds characteristic of a strong classifier.\n",
        "\n",
        "The **Precision-Recall (PR)** curve shows Average Precision (AP) score 0.94, which is quite high, indicating that the classifier performs well across different levels of thresholding. The curve starts with a high precision getting close to 1 suggesting that when the classifier declares an instance to be positive (anomaly) it is very likely correct. The curve also shows high recall for most of the threshold range, meaning the classifier is able to identify most of the actual positives correctly. There is a sharp drop in precision towards the right side, suggesting that as the classifier tries to capture all the positive instances (maximizing recall), it starts to misclassify more negative instances as positive (false positives), thus lowering precision. Overall, the AP score of 0.94 means the classifier maintains a good balance between precision and recall for most of its operational range."
      ]
    },
    {
      "cell_type": "markdown",
      "metadata": {
        "id": "WFDb839rgnZf"
      },
      "source": [
        "### Post (complete by Sunday 04/02/24)\n",
        "\n",
        "Once you have an implementation however rough, use the forums/topics to advertise the fact. The purpose is to get feedback from others in the group, so if you have only a basic outline then you may get ideas about how to proceed and also examples from others in your group.\n",
        "\n",
        "No posts should refer to Task 4."
      ]
    },
    {
      "cell_type": "markdown",
      "metadata": {
        "id": "Nw8-wCGOgnZg"
      },
      "source": [
        "### Respond (complete by Wednesday 07/02/24)\n",
        "\n",
        "If you feel you can provide useful advise then respond to another member of the group through the appropriate forum. Responses should be respectful and offer some sort of advise. Try and avoid clogging the forums with support or thank you messages.\n",
        "\n",
        "In reviewing others code you will discover different ways to tackle the same problem. It is acceptable to copy parts of others code. However whole scale copying from another notebook is not acceptable.\n",
        "\n",
        "If you stick to the deadline then it will allow yourself and others to have enough time to implement suggestions. From the Schedule you can see that this is not a hard deadline.\n",
        "\n",
        "The posts on the forum/topic associated with this e-tivity are graded. Below is a link to the rubrics.\n",
        "\n",
        "https://learn.ul.ie/d2l/lp/rubrics/edit_structure.d2l?rubricId=1424&ou=17935"
      ]
    },
    {
      "cell_type": "markdown",
      "metadata": {
        "id": "QMTYYlsdPp6e"
      },
      "source": [
        "# **Task 4: VAE (completed by Sunday 11/02/24)**"
      ]
    },
    {
      "cell_type": "markdown",
      "metadata": {
        "id": "AwxBVnhpgnZh"
      },
      "source": [
        "\n",
        "This task is a individual task and should **not** to be uploaded to the Group Locker. No direct support should be given via the forums. Marks will be deducted if the instructions are not followed (see rubrics). This part should be uploaded directly to Brightpsace.\n",
        "\n",
        "Change the network to be a VAE. Again determine the optimal cutoff and plot the latent variables. Check how good the cutoffs were by constructing a confusion matrix or generating a classification report. Obviously for this task you need to use the Anom column.\n",
        "\n",
        "**Hint** you can use the model topology from the AE (with the obvious modifications). I found that I had a good model (almost as good and the supervised learning model) when the KL divergence was small. You can print out both the KL divergence and reconstruction loss for each epoch. It can be tricky to train these type of models, so do not be surprised if you do not get a stellar result. What is more important is that you have the correct code to implement the VAE."
      ]
    },
    {
      "cell_type": "markdown",
      "metadata": {
        "id": "b6K84J2nV8af"
      },
      "source": [
        "### 4.1 Create Variational Autoencoder network\n",
        "\n",
        "Note that we will reuse the same preprocessed data from Tasks 1-3.\n",
        "\n",
        "Here we construct a Variational Autoencoder (VAE), which differs from a standard Autoencoder (AE) in several key ways:\n",
        "\n",
        "**Probabilistic Latent Space**: While an AE has a deterministic encoding process, a VAE has a probabilistic approach, modelling the latent space using a probability distribution (Gaussian distribution), described by means (z_mean) and variances (z_log_var).\n",
        "\n",
        "**Reparameterization Trick**: The VAE uses a reparameterization trick for backpropagation through random sampling. This allows the model to sample from the latent distribution while still being able to compute gradients for training by sampling an epsilon from a standard normal distribution and then scaling and shifting it according to the learned parameters.\n",
        "\n",
        "**Loss Function**: The loss function of a VAE consists the reconstruction loss (similar to AE) and the Kullback-Leibler (KL) divergence. The reconstruction loss measures how well the VAE can reconstruct the input data, while the KL divergence acts as a regularizer, enforcing the latent variables to follow the assumed distribution (e.g., standard normal distribution). This is different from an AE, which typically only minimizes the reconstruction error.\n",
        "\n",
        "**Dense Layers Configuration**: Both the encoder and decoder parts of the VAE are built with dense layers and activation functions, similar to a standard AE. However, in the VAE, the encoder outputs parameters for the probability distribution, not just the encoded representation.\n",
        "\n",
        "**Output of the Encoder**: The encoder model in a VAE outputs three values (z_mean, z_log_var, and z) as opposed to the single output of an encoded representation in an AE.\n",
        "\n",
        "**Complexity and Purpose**: VAEs are generally more complex than AEs and are not just used for dimensionality reduction or reconstruction; they are also used for generative tasks, as they can generate new instances that are similar to the input data.\n",
        "\n",
        "In summary, the key distinction lies in the VAE's ability to deal with probabilistic encodings and its use of the reparameterization trick, enabling it to be part of the generative models family.\n",
        "\n",
        "\n",
        "\n",
        "\n",
        "\n"
      ]
    },
    {
      "cell_type": "code",
      "execution_count": null,
      "metadata": {
        "id": "CSODFx2kV-io"
      },
      "outputs": [],
      "source": [
        "from tensorflow.keras.layers import Input, Dense, Lambda\n",
        "from tensorflow.keras.models import Model\n",
        "from tensorflow.keras import backend as K\n",
        "from tensorflow.keras.losses import binary_crossentropy\n",
        "import tensorflow as tf\n",
        "\n",
        "def sampling(args):\n",
        "    z_mean, z_log_var = args\n",
        "    batch = K.shape(z_mean)[0]\n",
        "    dim = K.int_shape(z_mean)[1]\n",
        "    epsilon = K.random_normal(shape=(batch, dim))\n",
        "    return z_mean + K.exp(0.5 * z_log_var) * epsilon\n",
        "\n",
        "def build_vae(input_dim, latent_dim=2):\n",
        "    # Encoder\n",
        "    input_layer = Input(shape=(input_dim,))\n",
        "    x = Dense(64, activation='relu')(input_layer)\n",
        "    x = Dense(32, activation='relu')(x)\n",
        "    z_mean = Dense(latent_dim)(x)\n",
        "    z_log_var = Dense(latent_dim)(x)\n",
        "\n",
        "    # Use reparameterization trick to ensure correct gradient\n",
        "    z = Lambda(sampling, output_shape=(latent_dim,))([z_mean, z_log_var])\n",
        "\n",
        "    # Decoder\n",
        "    decoder_input = Input(shape=(latent_dim,))\n",
        "    x = Dense(32, activation='relu')(decoder_input)\n",
        "    x = Dense(64, activation='relu')(x)\n",
        "    output_layer = Dense(input_dim, activation='sigmoid')(x)\n",
        "\n",
        "    # Instantiate encoder, decoder, and VAE models\n",
        "    encoder = Model(input_layer, [z_mean, z_log_var, z], name='encoder')\n",
        "    decoder = Model(decoder_input, output_layer, name='decoder')\n",
        "    output_layer = decoder(encoder(input_layer)[2])\n",
        "\n",
        "    vae = Model(input_layer, output_layer, name='vae')\n",
        "\n",
        "    # VAE loss = mse_loss or xent_loss + kl_loss\n",
        "    reconstruction_loss = binary_crossentropy(input_layer, output_layer) * input_dim\n",
        "    kl_loss = 1 + z_log_var - K.square(z_mean) - K.exp(z_log_var)\n",
        "    kl_loss = K.sum(kl_loss, axis=-1)\n",
        "    kl_loss *= -0.5\n",
        "    vae_loss = K.mean(reconstruction_loss + kl_loss)\n",
        "    vae.add_loss(vae_loss)\n",
        "    vae.compile(optimizer='adam')\n",
        "\n",
        "    return encoder, decoder, vae\n",
        "\n",
        "input_dim = X_train.shape[1]\n",
        "encoder, decoder, vae = build_vae(input_dim)"
      ]
    },
    {
      "cell_type": "markdown",
      "metadata": {
        "id": "Y4kdixdzV-9n"
      },
      "source": [
        "#### 4.1 Train the autoencoder network\n",
        "\n",
        "Next we will train the autoencoder network in TensorFlow with the addition of an early stopping mechanism to prevent overfitting."
      ]
    },
    {
      "cell_type": "code",
      "execution_count": null,
      "metadata": {
        "colab": {
          "base_uri": "https://localhost:8080/"
        },
        "id": "XEYsaKZ3XTj3",
        "outputId": "b1743525-c95c-48be-e3da-71174d7bc51b"
      },
      "outputs": [
        {
          "name": "stdout",
          "output_type": "stream",
          "text": [
            "Epoch 1/1000\n",
            "154/154 [==============================] - 3s 6ms/step - loss: 6.2048 - val_loss: 6.2006\n",
            "Epoch 2/1000\n",
            "154/154 [==============================] - 1s 5ms/step - loss: 6.2005 - val_loss: 6.2005\n",
            "Epoch 3/1000\n",
            "154/154 [==============================] - 1s 5ms/step - loss: 6.2005 - val_loss: 6.2005\n",
            "Epoch 4/1000\n",
            "154/154 [==============================] - 1s 5ms/step - loss: 6.2005 - val_loss: 6.2005\n",
            "Epoch 5/1000\n",
            "154/154 [==============================] - 1s 4ms/step - loss: 6.2005 - val_loss: 6.2005\n",
            "Epoch 6/1000\n",
            "154/154 [==============================] - 1s 7ms/step - loss: 6.2005 - val_loss: 6.2005\n",
            "Epoch 7/1000\n",
            "154/154 [==============================] - 1s 7ms/step - loss: 6.2005 - val_loss: 6.2005\n",
            "Epoch 8/1000\n",
            "154/154 [==============================] - 1s 7ms/step - loss: 6.2005 - val_loss: 6.2005\n",
            "Epoch 9/1000\n",
            "154/154 [==============================] - 1s 5ms/step - loss: 6.2005 - val_loss: 6.2005\n",
            "Epoch 10/1000\n",
            "154/154 [==============================] - 1s 4ms/step - loss: 6.2005 - val_loss: 6.2005\n",
            "Epoch 11/1000\n",
            "154/154 [==============================] - 1s 4ms/step - loss: 6.2005 - val_loss: 6.2005\n",
            "Epoch 12/1000\n",
            "154/154 [==============================] - 1s 4ms/step - loss: 6.2005 - val_loss: 6.2005\n",
            "Epoch 13/1000\n",
            "154/154 [==============================] - 1s 4ms/step - loss: 6.2005 - val_loss: 6.2005\n",
            "Epoch 14/1000\n",
            "154/154 [==============================] - 1s 4ms/step - loss: 6.2005 - val_loss: 6.2005\n",
            "Epoch 15/1000\n",
            "154/154 [==============================] - 1s 4ms/step - loss: 6.2005 - val_loss: 6.2005\n",
            "Epoch 16/1000\n",
            "154/154 [==============================] - 1s 5ms/step - loss: 6.2005 - val_loss: 6.2005\n",
            "Epoch 17/1000\n",
            "154/154 [==============================] - 1s 5ms/step - loss: 6.2005 - val_loss: 6.2005\n",
            "Epoch 18/1000\n",
            "154/154 [==============================] - 1s 4ms/step - loss: 6.2005 - val_loss: 6.2005\n",
            "Epoch 19/1000\n",
            "154/154 [==============================] - 1s 5ms/step - loss: 6.2005 - val_loss: 6.2005\n",
            "Epoch 20/1000\n",
            "154/154 [==============================] - 1s 4ms/step - loss: 6.2005 - val_loss: 6.2005\n",
            "Epoch 21/1000\n",
            "154/154 [==============================] - 1s 5ms/step - loss: 6.2005 - val_loss: 6.2005\n",
            "Epoch 22/1000\n",
            "154/154 [==============================] - 1s 5ms/step - loss: 6.2005 - val_loss: 6.2005\n",
            "Epoch 23/1000\n",
            "154/154 [==============================] - 1s 5ms/step - loss: 6.2005 - val_loss: 6.2005\n",
            "Epoch 24/1000\n",
            "154/154 [==============================] - 1s 7ms/step - loss: 6.2005 - val_loss: 6.2005\n",
            "Epoch 25/1000\n",
            "154/154 [==============================] - 1s 7ms/step - loss: 6.2005 - val_loss: 6.2005\n",
            "Epoch 26/1000\n",
            "154/154 [==============================] - 1s 7ms/step - loss: 6.2005 - val_loss: 6.2005\n",
            "Epoch 27/1000\n",
            "154/154 [==============================] - 1s 6ms/step - loss: 6.2005 - val_loss: 6.2005\n",
            "Epoch 28/1000\n",
            "154/154 [==============================] - 1s 5ms/step - loss: 6.2005 - val_loss: 6.2005\n",
            "Epoch 29/1000\n",
            "154/154 [==============================] - 1s 5ms/step - loss: 6.2005 - val_loss: 6.2005\n",
            "Epoch 30/1000\n",
            "154/154 [==============================] - 1s 5ms/step - loss: 6.2005 - val_loss: 6.2005\n",
            "Epoch 31/1000\n",
            "151/154 [============================>.] - ETA: 0s - loss: 6.2005Restoring model weights from the end of the best epoch: 21.\n",
            "154/154 [==============================] - 1s 5ms/step - loss: 6.2005 - val_loss: 6.2005\n",
            "Epoch 31: early stopping\n"
          ]
        }
      ],
      "source": [
        "from tensorflow.keras.callbacks import EarlyStopping\n",
        "from tensorflow.keras.optimizers import Adam\n",
        "\n",
        "# Assuming X_train and X_test are already defined and preprocessed\n",
        "input_dim = X_train.shape[1]\n",
        "latent_dim = 2  # Or another dimensionality of the latent space you wish to use\n",
        "encoder, decoder, vae = build_vae(input_dim, latent_dim)\n",
        "\n",
        "# No need to specify a loss function here as it's already included in the model\n",
        "vae.compile(optimizer=Adam(learning_rate=0.001))\n",
        "\n",
        "# Define early stopping callback\n",
        "early_stopping = EarlyStopping(\n",
        "    monitor='val_loss',  # Monitor the validation loss\n",
        "    patience=10,  # Number of epochs with no improvement after which training will be stopped\n",
        "    verbose=1,\n",
        "    restore_best_weights=True  # Restores model weights from the epoch with the best value of the monitored quantity\n",
        ")\n",
        "\n",
        "# Train the VAE with the early stopping callback\n",
        "history = vae.fit(\n",
        "    X_train, X_train,\n",
        "    epochs=1000,  # The maximum number of epochs to run\n",
        "    batch_size=256,\n",
        "    shuffle=True,\n",
        "    validation_data=(X_test, X_test),\n",
        "    callbacks=[early_stopping]  # List of callbacks to apply during training\n",
        ")\n"
      ]
    },
    {
      "cell_type": "markdown",
      "metadata": {
        "id": "xaG-XUMBXUc3"
      },
      "source": [
        "#### 4.2 Plot the loss curve"
      ]
    },
    {
      "cell_type": "code",
      "execution_count": null,
      "metadata": {
        "colab": {
          "base_uri": "https://localhost:8080/",
          "height": 454
        },
        "id": "zuKboEmEXznH",
        "outputId": "185283fa-9479-437f-cc8e-c00b4636eebb"
      },
      "outputs": [
        {
          "data": {
            "image/png": "[encoded data removed]",
            "text/plain": [
              "<Figure size 640x480 with 1 Axes>"
            ]
          },
          "metadata": {},
          "output_type": "display_data"
        }
      ],
      "source": [
        "import matplotlib.pyplot as plt\n",
        "\n",
        "plt.plot(history.history['loss'], label='Training Loss')\n",
        "plt.plot(history.history['val_loss'], label='Validation Loss')\n",
        "plt.xlabel('Epochs')\n",
        "plt.ylabel('Loss')\n",
        "plt.legend()\n",
        "plt.show()"
      ]
    },
    {
      "cell_type": "markdown",
      "metadata": {
        "id": "KVAlsQQfXz7l"
      },
      "source": [
        "#### 4.2.1 Loss curve analysis\n",
        "\n",
        "The model demonstrates rapid learning with a sharp initial decline in both training and validation loss, and the low loss values indicate effective performance. The parallel trend of the loss curves points to good generalization without overfitting, as confirmed by early stopping which halts training when validation loss ceases to improve. Ultimately, the loss curves suggest the model has learned well from the data and additional training is unlikely to yield substantial gains."
      ]
    },
    {
      "cell_type": "markdown",
      "metadata": {
        "id": "BaCDI7e7YAFd"
      },
      "source": [
        "## 4.3 Anomaly Detection\n",
        "\n",
        "From the histogram of the reconstruction error decide what the cutoff should be applied to distinguish anomalies from valid samples, given that the anomaly rate is ~7%."
      ]
    },
    {
      "cell_type": "markdown",
      "metadata": {
        "id": "SImz1AgLYmLl"
      },
      "source": [
        "#### 4.3.1 Calculate reconstruction error"
      ]
    },
    {
      "cell_type": "code",
      "execution_count": null,
      "metadata": {
        "colab": {
          "base_uri": "https://localhost:8080/"
        },
        "id": "XnAECSqNX_wP",
        "outputId": "53cccd43-99d4-4264-c007-28cdb70d6f99"
      },
      "outputs": [
        {
          "name": "stdout",
          "output_type": "stream",
          "text": [
            "307/307 [==============================] - 1s 2ms/step\n",
            "[0.00215074 0.00217697 0.00112556 ... 0.00138497 0.00081316 0.00198599]\n"
          ]
        }
      ],
      "source": [
        "import numpy as np\n",
        "\n",
        "# Use the VAE model to reconstruct the X_test data\n",
        "reconstructed = vae.predict(X_test)\n",
        "\n",
        "# Calculate the mean absolute error between the original and reconstructed data\n",
        "reconstruction_error = np.mean(np.abs(X_test - reconstructed), axis=1)\n",
        "\n",
        "print(reconstruction_error)\n"
      ]
    },
    {
      "cell_type": "markdown",
      "metadata": {
        "id": "5sRB1LHBrqgj"
      },
      "source": [
        "\n",
        "#### 4.3.2 Calculate Threshold (reconstruction error)"
      ]
    },
    {
      "cell_type": "code",
      "execution_count": null,
      "metadata": {
        "colab": {
          "base_uri": "https://localhost:8080/"
        },
        "id": "g9F5BmL9YlvN",
        "outputId": "66bf09fe-84d8-43d1-961d-391d8a0085a5"
      },
      "outputs": [
        {
          "name": "stdout",
          "output_type": "stream",
          "text": [
            "Threshold: 0.0057659960025921485\n"
          ]
        }
      ],
      "source": [
        "# Assuming 'reconstruction_error' contains the mean absolute error between X_test and its reconstruction\n",
        "threshold = np.percentile(reconstruction_error, 93)  # Setting threshold at the 93rd percentile (7% anomaly rate)\n",
        "print(f\"Threshold:\", threshold)"
      ]
    },
    {
      "cell_type": "markdown",
      "metadata": {
        "id": "Kw77K3JQr6s0"
      },
      "source": [
        "#### 4.3.3 Plot Threshold"
      ]
    },
    {
      "cell_type": "code",
      "execution_count": null,
      "metadata": {
        "colab": {
          "base_uri": "https://localhost:8080/",
          "height": 449
        },
        "id": "MRBDfU-lZChE",
        "outputId": "4b76e1d4-b7f4-4080-eb30-0ec64f4eaa9b"
      },
      "outputs": [
        {
          "data": {
            "image/png": "[encoded data removed]",
            "text/plain": [
              "<Figure size 640x480 with 1 Axes>"
            ]
          },
          "metadata": {},
          "output_type": "display_data"
        }
      ],
      "source": [
        "import matplotlib.pyplot as plt\n",
        "\n",
        "plt.hist(reconstruction_error, bins=200)\n",
        "plt.xlabel('Reconstruction Error')\n",
        "plt.ylabel('Frequency')\n",
        "\n",
        "# Add a line for the anomaly threshold\n",
        "plt.axvline(threshold, color='red', linestyle='dashed', linewidth=1)\n",
        "\n",
        "# Adjust text position dynamically based on the threshold and plot's current limits\n",
        "text_position = plt.ylim()[1] / 2\n",
        "plt.text(threshold + (plt.xlim()[1] - plt.xlim()[0]) * 0.01, # Slightly right of the threshold\n",
        "         text_position, 'Anomaly Threshold', color='red', ha='left')\n",
        "\n",
        "plt.show()\n"
      ]
    },
    {
      "cell_type": "markdown",
      "metadata": {
        "id": "QNoRq5-CZC05"
      },
      "source": [
        "#### 4.3.4 Identify Anomalies\n",
        "\n",
        "Now we identify the predicted anomalies based on the threshold, for comparison with the true anomalies in a confusion matrix."
      ]
    },
    {
      "cell_type": "code",
      "execution_count": null,
      "metadata": {
        "colab": {
          "base_uri": "https://localhost:8080/",
          "height": 616
        },
        "id": "CY1RNXkZZ9z1",
        "outputId": "1206f1ff-02f6-4dc5-d8ee-d277538daf23"
      },
      "outputs": [
        {
          "name": "stdout",
          "output_type": "stream",
          "text": [
            "Confusion Matrix:\n",
            "[[9093    7]\n",
            " [  39  681]]\n"
          ]
        },
        {
          "data": {
            "image/png": "[encoded data removed]",
            "text/plain": [
              "<Figure size 800x600 with 2 Axes>"
            ]
          },
          "metadata": {},
          "output_type": "display_data"
        }
      ],
      "source": [
        "from sklearn.metrics import confusion_matrix, classification_report\n",
        "import seaborn as sns\n",
        "import matplotlib.pyplot as plt\n",
        "\n",
        "# Assuming y_test and reconstruction_error are defined and threshold is calculated\n",
        "\n",
        "# Determining predicted anomalies based on the threshold\n",
        "predicted_anomalies = reconstruction_error > threshold\n",
        "\n",
        "# Since y_test contains the true labels, ensure it's a boolean array where '1' indicates an anomaly\n",
        "true_anomalies = y_test.astype(bool)\n",
        "\n",
        "# Calculating the confusion matrix\n",
        "conf_matrix = confusion_matrix(true_anomalies, predicted_anomalies)\n",
        "print(\"Confusion Matrix:\")\n",
        "print(conf_matrix)\n",
        "\n",
        "# Plotting the confusion matrix using seaborn\n",
        "plt.figure(figsize=(8, 6))\n",
        "sns.heatmap(conf_matrix, annot=True, fmt='d', cmap='Blues', xticklabels=['Normal', 'Anomaly'], yticklabels=['Normal', 'Anomaly'])\n",
        "plt.xlabel('Predicted labels')\n",
        "plt.ylabel('True labels')\n",
        "plt.title('Confusion Matrix')\n",
        "plt.show()\n"
      ]
    },
    {
      "cell_type": "markdown",
      "metadata": {
        "id": "4Tk0i98ZtDIk"
      },
      "source": [
        "#### 4.3.5 Analyse Anomalies - Confusion Matrix"
      ]
    },
    {
      "cell_type": "markdown",
      "metadata": {
        "id": "GaMu-duStXPr"
      },
      "source": [
        "Observation based on the above;\n",
        "* The model has a high true negative rate, meaning it's quite effective at identifying normal instances.\n",
        "* The number of false positives is low, meaning few instances of normal behavior being incorrectly flagged as anomalous, which is good.\n",
        "* The true positive rate is also high, which shows that the model is capable of detecting a significant number of anomalies.\n",
        "* There are more false negatives than false positives, meaning the model is more likely to miss detecting an actual anomaly than it is to incorrectly label normal behavior as anomalous."
      ]
    },
    {
      "cell_type": "code",
      "execution_count": null,
      "metadata": {
        "colab": {
          "base_uri": "https://localhost:8080/"
        },
        "id": "R68Urj2VahRX",
        "outputId": "f4569133-9ad7-4df2-f09c-46cf1566b04b"
      },
      "outputs": [
        {
          "name": "stdout",
          "output_type": "stream",
          "text": [
            "Classification Report:\n",
            "              precision    recall  f1-score   support\n",
            "\n",
            "      Normal       1.00      1.00      1.00      9100\n",
            "     Anomaly       0.99      0.95      0.97       720\n",
            "\n",
            "    accuracy                           1.00      9820\n",
            "   macro avg       0.99      0.97      0.98      9820\n",
            "weighted avg       1.00      1.00      1.00      9820\n",
            "\n"
          ]
        }
      ],
      "source": [
        "import numpy as np\n",
        "from sklearn.metrics import classification_report\n",
        "\n",
        "# Generating a classification report\n",
        "report = classification_report(true_anomalies, predicted_anomalies, target_names=['Normal', 'Anomaly'])\n",
        "print(\"Classification Report:\")\n",
        "print(report)"
      ]
    },
    {
      "cell_type": "markdown",
      "metadata": {
        "id": "lKxCn6Mru5lO"
      },
      "source": [
        "- Precision for both classes is nearly perfect, suggesting that the model's predictions are highly reliable.\n",
        "- Recall is perfect for Normal instances and very high for Anomalies at 0.95, although some anomalies are missed.\n",
        "- F1-scores are excellent, indicating a strong balance between precision and recall, especially for anomaly detection.\n",
        "- The model demonstrates robust performance in identifying both normal and anomalous instances, with a slight margin for improvement in anomaly detection.\n",
        "- The overall high metrics could be somewhat deceptive due to class imbalance; thus, the high F1-score for Anomalies is a crucial indicator of the model's true performance."
      ]
    },
    {
      "cell_type": "markdown",
      "metadata": {
        "id": "EYsRuKHGf9Ej"
      },
      "source": [
        "### 4.5 Plot ROC and PR Curves"
      ]
    },
    {
      "cell_type": "markdown",
      "metadata": {
        "id": "EBDlWdlDg3M-"
      },
      "source": [
        "The ROC Curve illustrates our model's effectiveness in distinguishing anomalies from normal instances, with the AUC value quantifying overall performance, while the PR Curve is more indicative of anomaly detection success in imbalanced datasets, highlighting the crucial balance between detecting true anomalies and minimizing false positives. Both curves provide insights into different aspects of model performance, with the PR Curve offering a more nuanced view in scenarios where the positive class is of greater interest."
      ]
    },
    {
      "cell_type": "code",
      "execution_count": null,
      "metadata": {
        "colab": {
          "base_uri": "https://localhost:8080/",
          "height": 607
        },
        "id": "Mx-HZFeajNhj",
        "outputId": "61d43570-c8f0-49ea-b795-751b79e21f89"
      },
      "outputs": [
        {
          "data": {
            "image/png": "[encoded data removed]",
            "text/plain": [
              "<Figure size 1200x600 with 2 Axes>"
            ]
          },
          "metadata": {},
          "output_type": "display_data"
        }
      ],
      "source": [
        "from sklearn.metrics import precision_recall_curve, average_precision_score, roc_curve, auc\n",
        "import matplotlib.pyplot as plt\n",
        "\n",
        "# Assuming 'scores' holds the anomaly scores (e.g., reconstruction errors)\n",
        "# and 'true_labels' holds the true anomaly labels for the test set.\n",
        "\n",
        "# Calculate ROC curve and AUC\n",
        "fpr, tpr, roc_thresholds = roc_curve(true_labels, scores)\n",
        "roc_auc = auc(fpr, tpr)\n",
        "\n",
        "# Calculate precision-recall curve and AP\n",
        "precision, recall, pr_thresholds = precision_recall_curve(true_labels, scores)\n",
        "ap = average_precision_score(true_labels, scores)\n",
        "\n",
        "# Set up the plots\n",
        "fig, (ax_roc, ax_pr) = plt.subplots(1, 2, figsize=(12, 6))\n",
        "\n",
        "# ROC Curve plot\n",
        "ax_roc.plot(fpr, tpr, color='darkorange', lw=2, label=f'ROC curve (area = {roc_auc:.2f})')\n",
        "ax_roc.plot([0, 1], [0, 1], color='navy', lw=2, linestyle='--')\n",
        "ax_roc.set_xlim([0.0, 1.0])\n",
        "ax_roc.set_ylim([0.0, 1.05])\n",
        "ax_roc.set_xlabel('False Positive Rate')\n",
        "ax_roc.set_ylabel('True Positive Rate')\n",
        "ax_roc.set_title('Receiver Operating Characteristic')\n",
        "ax_roc.legend(loc=\"lower right\")\n",
        "\n",
        "# Precision-Recall curve plot\n",
        "ax_pr.plot(recall, precision, color='blue', lw=2, label=f'Precision-Recall curve (AP = {ap:.2f})')\n",
        "ax_pr.set_xlim([0.0, 1.0])\n",
        "ax_pr.set_ylim([0.0, 1.05])\n",
        "ax_pr.set_xlabel('Recall')\n",
        "ax_pr.set_ylabel('Precision')\n",
        "ax_pr.set_title('Precision-Recall Curve')\n",
        "ax_pr.legend(loc=\"lower left\")\n",
        "\n",
        "# Show the combined plot\n",
        "plt.tight_layout()\n",
        "plt.show()\n"
      ]
    },
    {
      "cell_type": "markdown",
      "metadata": {
        "id": "4H9Z-08Cm6zC"
      },
      "source": [
        "The **ROC curve** showcases the model's superior ability to distinguish between anomalies and normal instances with an AUC of 0.99, reflecting high true positive rates and low false positive rates, indicative of its robust classification strength. Meanwhile, the **Precision-Recall (PR) curve** reveals an Average Precision score of 0.94, demonstrating the model's effectiveness at a wide range of thresholds, with a noteworthy balance between precision—almost perfect at the start—and recall, despite a precision decline at higher recall levels, underscoring the model's proficient anomaly detection amidst class imbalance."
      ]
    },
    {
      "cell_type": "markdown",
      "metadata": {
        "id": "cCgR8AzYgnZi"
      },
      "source": [
        "### Final Submission (complete by Sunday 11/02/24)\n",
        "\n",
        "Submit Tasks 1-4 in a single notebook this before the deadline on Sunday.\n"
      ]
    },
    {
      "cell_type": "code",
      "execution_count": null,
      "metadata": {
        "id": "2-UJNG5ZgnZk"
      },
      "outputs": [],
      "source": [
        "## Add additional code cells to implememt the tasks stated above"
      ]
    },
    {
      "cell_type": "markdown",
      "metadata": {
        "id": "9NLZa8LNgnZn"
      },
      "source": [
        "## Reflection\n",
        "\n",
        "There are no specific marks allocated for a reflection. However due consideration will be given if pertinent comments or valuable insights are made."
      ]
    }
  ],
  "metadata": {
    "colab": {
      "collapsed_sections": [
        "Uh1dozYZq-3H"
      ],
      "provenance": []
    },
    "kernelspec": {
      "display_name": "Python 3 (ipykernel)",
      "language": "python",
      "name": "python3"
    },
    "language_info": {
      "codemirror_mode": {
        "name": "ipython",
        "version": 3
      },
      "file_extension": ".py",
      "mimetype": "text/x-python",
      "name": "python",
      "nbconvert_exporter": "python",
      "pygments_lexer": "ipython3",
      "version": "3.9.17"
    },
    "latex_envs": {
      "LaTeX_envs_menu_present": true,
      "autoclose": false,
      "autocomplete": true,
      "bibliofile": "biblio.bib",
      "cite_by": "apalike",
      "current_citInitial": 1,
      "eqLabelWithNumbers": true,
      "eqNumInitial": 1,
      "hotkeys": {
        "equation": "Ctrl-E",
        "itemize": "Ctrl-I"
      },
      "labels_anchors": false,
      "latex_user_defs": false,
      "report_style_numbering": false,
      "user_envs_cfg": false
    }
  },
  "nbformat": 4,
  "nbformat_minor": 0
}