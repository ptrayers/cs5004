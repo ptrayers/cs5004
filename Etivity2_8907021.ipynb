{
  "cells": [
    {
      "cell_type": "markdown",
      "metadata": {
        "id": "AHZirJuG-BK5"
      },
      "source": [
        "# E-tivity 2 (12/02/24 - 25/02/24)\n",
        "\n",
        "* Name: Paul Trayers\n",
        "\n",
        "* Student ID: 8907021"
      ]
    },
    {
      "cell_type": "markdown",
      "metadata": {
        "id": "pVY6qqST-BK-"
      },
      "source": [
        "## Outline\n",
        "\n",
        "This e-tivity is split into two parts. The first part <a href=\"#part1\">**Stock Predicition**</a> is a group activity where you are tasked with predicting the stock market.\n",
        "\n",
        "The second <a href=\"#part2\">**Sentiment Analysis**</a> is an individual task, the problem is to predict if a film review is positive or negative."
      ]
    },
    {
      "cell_type": "markdown",
      "metadata": {
        "id": "2ucjGLMN-BK_"
      },
      "source": [
        "### Guidelines\n",
        "\n",
        "The e-tivity is split into five tasks. The first four are \"group\" excersises, in that you post the solutions to Tasks 1-4 to the Group Locker. This will allow the members of your group to send you feedback (via the forums) so you can improve your submission. The final task is an individual task and together with the other tasks, should be uploaded to Brightspace.\n",
        "\n",
        "Marks will be deducted if task 5 is uploaded in contravention of instructions. Also if the the final submission is not a single notebook with tasks 1-5 and with correct identification or filename.\n",
        "\n",
        "\n",
        "Grading guidelines: the grades for each task are additive, max 20. Weight [5/7]\n",
        "\n",
        "**Task 1 [0-6]**: Complete with suitable preprocessing steps. There is no unique solution but you should justify the actions you are taking.\n",
        "\n",
        "**Task 2 [0-4]**: Complete with suitable treatment of missing values. Again there maybe more than one solution, the important thing is to justify your actions.\n",
        "\n",
        "**Tasks 3+4 [0-4]**: Create a suitable model with correct evaluation. Test for common DL issues.\n",
        "\n",
        "**Task 5 [0-6]**: Completion of Task 5, using the layers outlined. The purpose of the task is to demonstrate that you can construct a valid model from scratch. Direct copy and paste from the web is not acceptable."
      ]
    },
    {
      "cell_type": "markdown",
      "metadata": {
        "id": "1Q60racl-BLA"
      },
      "source": [
        "<a id='part1'></a>\n",
        "## Stock Prediction\n",
        "\n",
        "### Context\n",
        "\n",
        "There is a small dataset of real stock prices for each working day from the end of 2015 to the end of 2019. There are four variables (with a time stamp), stock price, oil price, gold price and Euro to Dollar exchange. You need to predict the Stock price a day ahead from only the past values of each of the 4 variables.\n",
        "\n",
        "\n",
        "### Tasks 1-4 (complete by Sunday 18/02/24)\n",
        "\n",
        "These tasks are to be completed and uploaded to GitLab on which the other group members can comment. The forum activity will form part of the overall mark for the e-tivity."
      ]
    },
    {
      "cell_type": "markdown",
      "source": [
        "# Load Dataset\n",
        "\n",
        "Load dataset from Google Drive."
      ],
      "metadata": {
        "id": "cnYjhJQO_tsN"
      }
    },
    {
      "cell_type": "code",
      "source": [
        "# Mount my Google Drive\n",
        "from google.colab import drive\n",
        "drive.mount('/content/drive', force_remount=True)\n",
        "\n",
        "%cd /content/drive/MyDrive/cs5004/Etivities/Etivity2/\n",
        "!ls -ail ./data/stock.csv"
      ],
      "metadata": {
        "colab": {
          "base_uri": "https://localhost:8080/"
        },
        "id": "zTjPjeXN_uqO",
        "outputId": "781f1b54-2484-460c-8d81-c2c84f22532a"
      },
      "execution_count": null,
      "outputs": [
        {
          "output_type": "stream",
          "name": "stdout",
          "text": [
            "Mounted at /content/drive\n",
            "/content/drive/MyDrive/cs5004/Etivities/Etivity2\n",
            "236 -rw------- 1 root root 53284 Feb 14 00:13 ./data/stock.csv\n"
          ]
        }
      ]
    },
    {
      "cell_type": "code",
      "source": [
        "import pandas as pd\n",
        "\n",
        "# Specify the path to your CSV file\n",
        "file_path = './data/stock.csv'\n",
        "\n",
        "# Load the dataset\n",
        "data = pd.read_csv(file_path)\n",
        "df = pd.DataFrame(data)\n",
        "\n",
        "pd.set_option('display.max_rows', 8)\n",
        "df.head(10)"
      ],
      "metadata": {
        "id": "xABtyCIQAXRX",
        "colab": {
          "base_uri": "https://localhost:8080/",
          "height": 361
        },
        "outputId": "f12cdf21-06e3-4e17-9d1a-e515d4ae322d"
      },
      "execution_count": null,
      "outputs": [
        {
          "output_type": "execute_result",
          "data": {
            "text/plain": [
              "          Date        Stock        Oil  EuroToDollar    Gold\n",
              "0   2015-11-23  2089.409912  41.490002        0.9432  1124.7\n",
              "1   2015-11-24  2084.419922  42.040001        0.9388  1131.6\n",
              "2   2015-11-25  2089.300049  42.689999        0.9420  1128.4\n",
              "3   2015-11-27  2088.820068  43.250000        0.9438  1114.5\n",
              "..         ...          ...        ...           ...     ...\n",
              "6   2015-12-02  2101.709961  41.689999        0.9458  1112.4\n",
              "7   2015-12-03  2080.709961  40.150002        0.9173  1120.6\n",
              "8   2015-12-04  2051.239990  41.310001        0.9188  1143.2\n",
              "9   2015-12-07  2090.419922  40.099998        0.9225  1134.3\n",
              "\n",
              "[10 rows x 5 columns]"
            ],
            "text/html": [
              "\n",
              "  <div id=\"df-9e44855f-9db6-47fe-8036-d04680c6c360\" class=\"colab-df-container\">\n",
              "    <div>\n",
              "<style scoped>\n",
              "    .dataframe tbody tr th:only-of-type {\n",
              "        vertical-align: middle;\n",
              "    }\n",
              "\n",
              "    .dataframe tbody tr th {\n",
              "        vertical-align: top;\n",
              "    }\n",
              "\n",
              "    .dataframe thead th {\n",
              "        text-align: right;\n",
              "    }\n",
              "</style>\n",
              "<table border=\"1\" class=\"dataframe\">\n",
              "  <thead>\n",
              "    <tr style=\"text-align: right;\">\n",
              "      <th></th>\n",
              "      <th>Date</th>\n",
              "      <th>Stock</th>\n",
              "      <th>Oil</th>\n",
              "      <th>EuroToDollar</th>\n",
              "      <th>Gold</th>\n",
              "    </tr>\n",
              "  </thead>\n",
              "  <tbody>\n",
              "    <tr>\n",
              "      <th>0</th>\n",
              "      <td>2015-11-23</td>\n",
              "      <td>2089.409912</td>\n",
              "      <td>41.490002</td>\n",
              "      <td>0.9432</td>\n",
              "      <td>1124.7</td>\n",
              "    </tr>\n",
              "    <tr>\n",
              "      <th>1</th>\n",
              "      <td>2015-11-24</td>\n",
              "      <td>2084.419922</td>\n",
              "      <td>42.040001</td>\n",
              "      <td>0.9388</td>\n",
              "      <td>1131.6</td>\n",
              "    </tr>\n",
              "    <tr>\n",
              "      <th>2</th>\n",
              "      <td>2015-11-25</td>\n",
              "      <td>2089.300049</td>\n",
              "      <td>42.689999</td>\n",
              "      <td>0.9420</td>\n",
              "      <td>1128.4</td>\n",
              "    </tr>\n",
              "    <tr>\n",
              "      <th>3</th>\n",
              "      <td>2015-11-27</td>\n",
              "      <td>2088.820068</td>\n",
              "      <td>43.250000</td>\n",
              "      <td>0.9438</td>\n",
              "      <td>1114.5</td>\n",
              "    </tr>\n",
              "    <tr>\n",
              "      <th>...</th>\n",
              "      <td>...</td>\n",
              "      <td>...</td>\n",
              "      <td>...</td>\n",
              "      <td>...</td>\n",
              "      <td>...</td>\n",
              "    </tr>\n",
              "    <tr>\n",
              "      <th>6</th>\n",
              "      <td>2015-12-02</td>\n",
              "      <td>2101.709961</td>\n",
              "      <td>41.689999</td>\n",
              "      <td>0.9458</td>\n",
              "      <td>1112.4</td>\n",
              "    </tr>\n",
              "    <tr>\n",
              "      <th>7</th>\n",
              "      <td>2015-12-03</td>\n",
              "      <td>2080.709961</td>\n",
              "      <td>40.150002</td>\n",
              "      <td>0.9173</td>\n",
              "      <td>1120.6</td>\n",
              "    </tr>\n",
              "    <tr>\n",
              "      <th>8</th>\n",
              "      <td>2015-12-04</td>\n",
              "      <td>2051.239990</td>\n",
              "      <td>41.310001</td>\n",
              "      <td>0.9188</td>\n",
              "      <td>1143.2</td>\n",
              "    </tr>\n",
              "    <tr>\n",
              "      <th>9</th>\n",
              "      <td>2015-12-07</td>\n",
              "      <td>2090.419922</td>\n",
              "      <td>40.099998</td>\n",
              "      <td>0.9225</td>\n",
              "      <td>1134.3</td>\n",
              "    </tr>\n",
              "  </tbody>\n",
              "</table>\n",
              "<p>10 rows × 5 columns</p>\n",
              "</div>\n",
              "    <div class=\"colab-df-buttons\">\n",
              "\n",
              "  <div class=\"colab-df-container\">\n",
              "    <button class=\"colab-df-convert\" onclick=\"convertToInteractive('df-9e44855f-9db6-47fe-8036-d04680c6c360')\"\n",
              "            title=\"Convert this dataframe to an interactive table.\"\n",
              "            style=\"display:none;\">\n",
              "\n",
              "  <svg xmlns=\"http://www.w3.org/2000/svg\" height=\"24px\" viewBox=\"0 -960 960 960\">\n",
              "    <path d=\"M120-120v-720h720v720H120Zm60-500h600v-160H180v160Zm220 220h160v-160H400v160Zm0 220h160v-160H400v160ZM180-400h160v-160H180v160Zm440 0h160v-160H620v160ZM180-180h160v-160H180v160Zm440 0h160v-160H620v160Z\"/>\n",
              "  </svg>\n",
              "    </button>\n",
              "\n",
              "  <style>\n",
              "    .colab-df-container {\n",
              "      display:flex;\n",
              "      gap: 12px;\n",
              "    }\n",
              "\n",
              "    .colab-df-convert {\n",
              "      background-color: #E8F0FE;\n",
              "      border: none;\n",
              "      border-radius: 50%;\n",
              "      cursor: pointer;\n",
              "      display: none;\n",
              "      fill: #1967D2;\n",
              "      height: 32px;\n",
              "      padding: 0 0 0 0;\n",
              "      width: 32px;\n",
              "    }\n",
              "\n",
              "    .colab-df-convert:hover {\n",
              "      background-color: #E2EBFA;\n",
              "      box-shadow: 0px 1px 2px rgba(60, 64, 67, 0.3), 0px 1px 3px 1px rgba(60, 64, 67, 0.15);\n",
              "      fill: #174EA6;\n",
              "    }\n",
              "\n",
              "    .colab-df-buttons div {\n",
              "      margin-bottom: 4px;\n",
              "    }\n",
              "\n",
              "    [theme=dark] .colab-df-convert {\n",
              "      background-color: #3B4455;\n",
              "      fill: #D2E3FC;\n",
              "    }\n",
              "\n",
              "    [theme=dark] .colab-df-convert:hover {\n",
              "      background-color: #434B5C;\n",
              "      box-shadow: 0px 1px 3px 1px rgba(0, 0, 0, 0.15);\n",
              "      filter: drop-shadow(0px 1px 2px rgba(0, 0, 0, 0.3));\n",
              "      fill: #FFFFFF;\n",
              "    }\n",
              "  </style>\n",
              "\n",
              "    <script>\n",
              "      const buttonEl =\n",
              "        document.querySelector('#df-9e44855f-9db6-47fe-8036-d04680c6c360 button.colab-df-convert');\n",
              "      buttonEl.style.display =\n",
              "        google.colab.kernel.accessAllowed ? 'block' : 'none';\n",
              "\n",
              "      async function convertToInteractive(key) {\n",
              "        const element = document.querySelector('#df-9e44855f-9db6-47fe-8036-d04680c6c360');\n",
              "        const dataTable =\n",
              "          await google.colab.kernel.invokeFunction('convertToInteractive',\n",
              "                                                    [key], {});\n",
              "        if (!dataTable) return;\n",
              "\n",
              "        const docLinkHtml = 'Like what you see? Visit the ' +\n",
              "          '<a target=\"_blank\" href=https://colab.research.google.com/notebooks/data_table.ipynb>data table notebook</a>'\n",
              "          + ' to learn more about interactive tables.';\n",
              "        element.innerHTML = '';\n",
              "        dataTable['output_type'] = 'display_data';\n",
              "        await google.colab.output.renderOutput(dataTable, element);\n",
              "        const docLink = document.createElement('div');\n",
              "        docLink.innerHTML = docLinkHtml;\n",
              "        element.appendChild(docLink);\n",
              "      }\n",
              "    </script>\n",
              "  </div>\n",
              "\n",
              "\n",
              "<div id=\"df-9be802ee-7c6a-4523-9dce-3a772cd3b115\">\n",
              "  <button class=\"colab-df-quickchart\" onclick=\"quickchart('df-9be802ee-7c6a-4523-9dce-3a772cd3b115')\"\n",
              "            title=\"Suggest charts\"\n",
              "            style=\"display:none;\">\n",
              "\n",
              "<svg xmlns=\"http://www.w3.org/2000/svg\" height=\"24px\"viewBox=\"0 0 24 24\"\n",
              "     width=\"24px\">\n",
              "    <g>\n",
              "        <path d=\"M19 3H5c-1.1 0-2 .9-2 2v14c0 1.1.9 2 2 2h14c1.1 0 2-.9 2-2V5c0-1.1-.9-2-2-2zM9 17H7v-7h2v7zm4 0h-2V7h2v10zm4 0h-2v-4h2v4z\"/>\n",
              "    </g>\n",
              "</svg>\n",
              "  </button>\n",
              "\n",
              "<style>\n",
              "  .colab-df-quickchart {\n",
              "      --bg-color: #E8F0FE;\n",
              "      --fill-color: #1967D2;\n",
              "      --hover-bg-color: #E2EBFA;\n",
              "      --hover-fill-color: #174EA6;\n",
              "      --disabled-fill-color: #AAA;\n",
              "      --disabled-bg-color: #DDD;\n",
              "  }\n",
              "\n",
              "  [theme=dark] .colab-df-quickchart {\n",
              "      --bg-color: #3B4455;\n",
              "      --fill-color: #D2E3FC;\n",
              "      --hover-bg-color: #434B5C;\n",
              "      --hover-fill-color: #FFFFFF;\n",
              "      --disabled-bg-color: #3B4455;\n",
              "      --disabled-fill-color: #666;\n",
              "  }\n",
              "\n",
              "  .colab-df-quickchart {\n",
              "    background-color: var(--bg-color);\n",
              "    border: none;\n",
              "    border-radius: 50%;\n",
              "    cursor: pointer;\n",
              "    display: none;\n",
              "    fill: var(--fill-color);\n",
              "    height: 32px;\n",
              "    padding: 0;\n",
              "    width: 32px;\n",
              "  }\n",
              "\n",
              "  .colab-df-quickchart:hover {\n",
              "    background-color: var(--hover-bg-color);\n",
              "    box-shadow: 0 1px 2px rgba(60, 64, 67, 0.3), 0 1px 3px 1px rgba(60, 64, 67, 0.15);\n",
              "    fill: var(--button-hover-fill-color);\n",
              "  }\n",
              "\n",
              "  .colab-df-quickchart-complete:disabled,\n",
              "  .colab-df-quickchart-complete:disabled:hover {\n",
              "    background-color: var(--disabled-bg-color);\n",
              "    fill: var(--disabled-fill-color);\n",
              "    box-shadow: none;\n",
              "  }\n",
              "\n",
              "  .colab-df-spinner {\n",
              "    border: 2px solid var(--fill-color);\n",
              "    border-color: transparent;\n",
              "    border-bottom-color: var(--fill-color);\n",
              "    animation:\n",
              "      spin 1s steps(1) infinite;\n",
              "  }\n",
              "\n",
              "  @keyframes spin {\n",
              "    0% {\n",
              "      border-color: transparent;\n",
              "      border-bottom-color: var(--fill-color);\n",
              "      border-left-color: var(--fill-color);\n",
              "    }\n",
              "    20% {\n",
              "      border-color: transparent;\n",
              "      border-left-color: var(--fill-color);\n",
              "      border-top-color: var(--fill-color);\n",
              "    }\n",
              "    30% {\n",
              "      border-color: transparent;\n",
              "      border-left-color: var(--fill-color);\n",
              "      border-top-color: var(--fill-color);\n",
              "      border-right-color: var(--fill-color);\n",
              "    }\n",
              "    40% {\n",
              "      border-color: transparent;\n",
              "      border-right-color: var(--fill-color);\n",
              "      border-top-color: var(--fill-color);\n",
              "    }\n",
              "    60% {\n",
              "      border-color: transparent;\n",
              "      border-right-color: var(--fill-color);\n",
              "    }\n",
              "    80% {\n",
              "      border-color: transparent;\n",
              "      border-right-color: var(--fill-color);\n",
              "      border-bottom-color: var(--fill-color);\n",
              "    }\n",
              "    90% {\n",
              "      border-color: transparent;\n",
              "      border-bottom-color: var(--fill-color);\n",
              "    }\n",
              "  }\n",
              "</style>\n",
              "\n",
              "  <script>\n",
              "    async function quickchart(key) {\n",
              "      const quickchartButtonEl =\n",
              "        document.querySelector('#' + key + ' button');\n",
              "      quickchartButtonEl.disabled = true;  // To prevent multiple clicks.\n",
              "      quickchartButtonEl.classList.add('colab-df-spinner');\n",
              "      try {\n",
              "        const charts = await google.colab.kernel.invokeFunction(\n",
              "            'suggestCharts', [key], {});\n",
              "      } catch (error) {\n",
              "        console.error('Error during call to suggestCharts:', error);\n",
              "      }\n",
              "      quickchartButtonEl.classList.remove('colab-df-spinner');\n",
              "      quickchartButtonEl.classList.add('colab-df-quickchart-complete');\n",
              "    }\n",
              "    (() => {\n",
              "      let quickchartButtonEl =\n",
              "        document.querySelector('#df-9be802ee-7c6a-4523-9dce-3a772cd3b115 button');\n",
              "      quickchartButtonEl.style.display =\n",
              "        google.colab.kernel.accessAllowed ? 'block' : 'none';\n",
              "    })();\n",
              "  </script>\n",
              "</div>\n",
              "    </div>\n",
              "  </div>\n"
            ],
            "application/vnd.google.colaboratory.intrinsic+json": {
              "type": "dataframe",
              "variable_name": "df",
              "summary": "{\n  \"name\": \"df\",\n  \"rows\": 1033,\n  \"fields\": [\n    {\n      \"column\": \"Date\",\n      \"properties\": {\n        \"dtype\": \"object\",\n        \"min\": \"2015-11-23\",\n        \"max\": \"2019-12-31\",\n        \"samples\": [\n          \"2017-01-25\",\n          \"2017-09-12\",\n          \"2018-06-05\"\n        ],\n        \"num_unique_values\": 1033,\n        \"semantic_type\": \"\",\n        \"description\": \"\"\n      }\n    },\n    {\n      \"column\": \"Stock\",\n      \"properties\": {\n        \"dtype\": \"number\",\n        \"std\": 338.85345824044595,\n        \"min\": 1833.40002441406,\n        \"max\": 3247.22998046875,\n        \"samples\": [\n          2697.85009765625,\n          2675.46997070312,\n          2742.669921875\n        ],\n        \"num_unique_values\": 1021,\n        \"semantic_type\": \"\",\n        \"description\": \"\"\n      }\n    },\n    {\n      \"column\": \"Oil\",\n      \"properties\": {\n        \"dtype\": \"number\",\n        \"std\": 9.799842350297848,\n        \"min\": 27.299999,\n        \"max\": 76.18,\n        \"samples\": [\n          49.360001,\n          49.880001,\n          60.459999\n        ],\n        \"num_unique_values\": 878,\n        \"semantic_type\": \"\",\n        \"description\": \"\"\n      }\n    },\n    {\n      \"column\": \"EuroToDollar\",\n      \"properties\": {\n        \"dtype\": \"number\",\n        \"std\": 0.03439432762745382,\n        \"min\": 0.8008,\n        \"max\": 0.9639,\n        \"samples\": [\n          0.9075,\n          0.8931,\n          0.8794\n        ],\n        \"num_unique_values\": 645,\n        \"semantic_type\": \"\",\n        \"description\": \"\"\n      }\n    },\n    {\n      \"column\": \"Gold\",\n      \"properties\": {\n        \"dtype\": \"number\",\n        \"std\": 89.59236101387658,\n        \"min\": 1090.2,\n        \"max\": 1584.5,\n        \"samples\": [\n          1283.0,\n          1356.2,\n          1388.3\n        ],\n        \"num_unique_values\": 854,\n        \"semantic_type\": \"\",\n        \"description\": \"\"\n      }\n    }\n  ]\n}"
            }
          },
          "metadata": {},
          "execution_count": 2
        }
      ]
    },
    {
      "cell_type": "markdown",
      "source": [
        "# **Task 1: Data Preprocessing**"
      ],
      "metadata": {
        "id": "T_0HshG0Azpz"
      }
    },
    {
      "cell_type": "markdown",
      "metadata": {
        "id": "OML94P1b-BLB"
      },
      "source": [
        "Explain any preprocessing steps you take including but not limited to reformatting and also how you have selected the training and test sets. The test set should be 20% of the whole.\n"
      ]
    },
    {
      "cell_type": "markdown",
      "source": [
        "## 1.1 Explore Dataset"
      ],
      "metadata": {
        "id": "AG1abWfSWR0k"
      }
    },
    {
      "source": [
        "import pandas as pd\n",
        "from matplotlib import pyplot as plt\n",
        "\n",
        "# Convert 'Date' column to datetime if it's not already.\n",
        "#df['Date'] = pd.to_datetime(df['Date'])\n",
        "\n",
        "# Set 'Date' as the index of the DataFrame.\n",
        "#df.set_index('Date', inplace=True)"
      ],
      "cell_type": "code",
      "execution_count": null,
      "outputs": [],
      "metadata": {
        "id": "AgWBpt6qMD76"
      }
    },
    {
      "cell_type": "markdown",
      "source": [
        "Show line plot for initial temporal view of features by years."
      ],
      "metadata": {
        "id": "gHQPWOQlWfQN"
      }
    },
    {
      "cell_type": "code",
      "source": [
        "# Define columns for which to create line plots, excluding 'Date'.\n",
        "columns_to_plot = ['Stock', 'Oil', 'EuroToDollar', 'Gold']\n",
        "\n",
        "# Determine the number of rows and columns for the subplot grid.\n",
        "nrows = 2\n",
        "ncols = 2\n",
        "\n",
        "fig, axes = plt.subplots(nrows=nrows, ncols=ncols, figsize=(12, 6))  # Create a subplot for each column in a 2x2 grid.\n",
        "axes = axes.flatten()  # Flatten the axes array for easy iteration.\n",
        "\n",
        "for i, column in enumerate(columns_to_plot):\n",
        "    ax = axes[i]\n",
        "    df[column].plot(kind='line', ax=ax, title=column)\n",
        "    # Show year on x-axis\n",
        "    ax.xaxis.set_major_formatter(plt.matplotlib.dates.DateFormatter('%Y'))\n",
        "    ax.xaxis.set_major_locator(plt.matplotlib.dates.YearLocator())\n",
        "    # Hide the top and right spines for each subplot.\n",
        "    ax.spines['top'].set_visible(False)\n",
        "    ax.spines['right'].set_visible(False)\n",
        "\n",
        "# Adjust the layout to prevent overlapping of plots\n",
        "plt.tight_layout()\n",
        "plt.show()"
      ],
      "metadata": {
        "colab": {
          "base_uri": "https://localhost:8080/",
          "height": 607
        },
        "id": "ig58geUvU-6o",
        "outputId": "c69af773-aabf-4af2-a6cb-c4ef37ba659a"
      },
      "execution_count": null,
      "outputs": [
        {
          "output_type": "display_data",
          "data": {
            "text/plain": [
              "<Figure size 1200x600 with 4 Axes>"
            ],
            "image/png": "[encoded data removed]"
          },
          "metadata": {}
        }
      ]
    },
    {
      "cell_type": "markdown",
      "source": [
        "Plot box plot for initial view of feature distributions."
      ],
      "metadata": {
        "id": "7UdLoR25Wobr"
      }
    },
    {
      "cell_type": "code",
      "source": [
        "import matplotlib.pyplot as plt\n",
        "import seaborn as sns\n",
        "import numpy as np\n",
        "import pandas as pd\n",
        "import math\n",
        "\n",
        "# Creating box plots for each feature (exclusing Date)\n",
        "fig, axes = plt.subplots(nrows=1, ncols=4, figsize=(20, 5))\n",
        "\n",
        "# Assuming 'df' might include a 'Date' column, we exclude it from the plot.\n",
        "columns_to_plot = [column for column in df.columns if column != 'Date']\n",
        "\n",
        "for i, column in enumerate(columns_to_plot):\n",
        "    sns.boxplot(y=df[column], ax=axes[i])\n",
        "    axes[i].set_title(column)\n",
        "\n",
        "plt.tight_layout()\n",
        "plt.show()\n"
      ],
      "metadata": {
        "colab": {
          "base_uri": "https://localhost:8080/",
          "height": 331
        },
        "id": "weCTdMRbRLwF",
        "outputId": "9353174f-ce39-4bbc-c3d7-ff25ea014817"
      },
      "execution_count": null,
      "outputs": [
        {
          "output_type": "display_data",
          "data": {
            "text/plain": [
              "<Figure size 2000x500 with 4 Axes>"
            ],
            "image/png": "[encoded data removed]"
          },
          "metadata": {}
        }
      ]
    },
    {
      "cell_type": "markdown",
      "source": [
        "## 1.2 Split Training / Test Data\n",
        "\n",
        "Now we will split the data into training and test sets in an 80/20 split.\n"
      ],
      "metadata": {
        "id": "CjdqOZilYeTY"
      }
    },
    {
      "cell_type": "code",
      "source": [
        "# Calculate the split index\n",
        "training_data_len = int(len(df) * 0.8)\n",
        "\n",
        "# Splitting the data\n",
        "n_features = 2 # Date and Stock\n",
        "train_df = df.iloc[:training_data_len].iloc[:,:n_features]  # select n features from the dataset\n",
        "test_df = df.iloc[training_data_len:].iloc[:,:n_features]\n",
        "\n",
        "# We can print the first few rows of the training and test set to verify the split.\n",
        "print(\"Training set:\\n\", train_df)\n",
        "print(\"\\nTest set:\\n\", test_df)\n",
        "\n",
        "print(\"\\nThere are \"+ str(train_df.shape) + \" observations in the training data\")\n",
        "print(\"There are \"+ str(test_df.shape) + \" observations in the test data\")\n",
        "\n",
        "# Output the split index and the corresponding date for verification\n",
        "print(f\"Split index at {training_data_len} corresponding to the date: {df.index[training_data_len]}\")\n"
      ],
      "metadata": {
        "colab": {
          "base_uri": "https://localhost:8080/"
        },
        "id": "SGZ3ae6SXZ-2",
        "outputId": "7f4a9b49-4ec3-4bfd-e55f-eab7dfc1d4af"
      },
      "execution_count": null,
      "outputs": [
        {
          "output_type": "stream",
          "name": "stdout",
          "text": [
            "Training set:\n",
            "            Date        Stock\n",
            "0    2015-11-23  2089.409912\n",
            "1    2015-11-24  2084.419922\n",
            "2    2015-11-25  2089.300049\n",
            "3    2015-11-27  2088.820068\n",
            "..          ...          ...\n",
            "822  2019-03-04  2814.370117\n",
            "823  2019-03-05  2794.409912\n",
            "824  2019-03-06  2790.270020\n",
            "825  2019-03-07  2766.530029\n",
            "\n",
            "[826 rows x 2 columns]\n",
            "\n",
            "Test set:\n",
            "             Date        Stock\n",
            "826   2019-03-08  2730.790039\n",
            "827   2019-03-11  2747.610107\n",
            "828   2019-03-12  2787.340088\n",
            "829   2019-03-13  2799.780029\n",
            "...          ...          ...\n",
            "1029  2019-12-26  3227.199951\n",
            "1030  2019-12-27  3247.229980\n",
            "1031  2019-12-30  3240.090088\n",
            "1032  2019-12-31  3215.179932\n",
            "\n",
            "[207 rows x 2 columns]\n",
            "\n",
            "There are (826, 2) observations in the training data\n",
            "There are (207, 2) observations in the test data\n",
            "Split index at 826 corresponding to the date: 826\n"
          ]
        }
      ]
    },
    {
      "cell_type": "markdown",
      "source": [
        " This code creates numpy array from the “Stock” price training values. The 1-dimensional array is then transformed into a 2-dimensional array, with the shape property showing the dataset_train array’s final shape."
      ],
      "metadata": {
        "id": "5GuaKvIEYFLS"
      }
    },
    {
      "cell_type": "code",
      "source": [
        "# Selecting Stock price values from training data to create numpy array dataset_train\n",
        "dataset_train = train_df.Stock.values\n",
        "\n",
        "# Reshaping 1D array to transform to 2D array\n",
        "dataset_train = np.reshape(dataset_train, (-1,1))\n",
        "# Show dataset_train shape (num_rows, num_columns)\n",
        "dataset_train.shape"
      ],
      "metadata": {
        "colab": {
          "base_uri": "https://localhost:8080/"
        },
        "id": "Da4xrnqfktqa",
        "outputId": "16710a0d-5ce5-4e30-9657-517622db31ab"
      },
      "execution_count": null,
      "outputs": [
        {
          "output_type": "execute_result",
          "data": {
            "text/plain": [
              "(826, 1)"
            ]
          },
          "metadata": {},
          "execution_count": 7
        }
      ]
    },
    {
      "cell_type": "markdown",
      "source": [
        "## 1.3 Normalisation"
      ],
      "metadata": {
        "id": "T0Eh__mYwE2X"
      }
    },
    {
      "cell_type": "markdown",
      "metadata": {
        "id": "WlvnyFCd-BLB"
      },
      "source": [
        "There are a number of missing values in the data. Clean the data so that it is suitable for use with the NN. Bearing in mind that we want to retain the time coherency of the data as much as possible. Explain the steps you have taken.\n"
      ]
    },
    {
      "cell_type": "markdown",
      "source": [
        "\n",
        "Normalization is a crucial to enhancing the effectiveness and interpretability of the model. The MinMaxScaler scales the dataset from 0 to 1."
      ],
      "metadata": {
        "id": "xs0WVJNhmmNG"
      }
    },
    {
      "cell_type": "code",
      "source": [
        "from sklearn.preprocessing import MinMaxScaler\n",
        "\n",
        "scaler = MinMaxScaler(feature_range=(0,1))\n",
        "# scaling dataset\n",
        "scaled_train = scaler.fit_transform(dataset_train)\n",
        "\n",
        "print(scaled_train[:5])"
      ],
      "metadata": {
        "colab": {
          "base_uri": "https://localhost:8080/"
        },
        "id": "55UuQqLtoG8l",
        "outputId": "7011a69f-d886-49ec-d2be-f64667653d22"
      },
      "execution_count": null,
      "outputs": [
        {
          "output_type": "stream",
          "name": "stdout",
          "text": [
            "[[0.23202753]\n",
            " [0.22750499]\n",
            " [0.23192795]\n",
            " [0.23149294]\n",
            " [0.2334233 ]]\n"
          ]
        }
      ]
    },
    {
      "cell_type": "markdown",
      "source": [
        "Normalise test data in the same way."
      ],
      "metadata": {
        "id": "stpFX2pXw5vQ"
      }
    },
    {
      "cell_type": "code",
      "source": [
        "# Selecting Open Price values\n",
        "dataset_test = test_df.Stock.values\n",
        "# print(dataset_test)\n",
        "# Reshaping 1D to 2D array\n",
        "dataset_test = np.reshape(dataset_test, (-1,1))\n",
        "# print(dataset_test)\n",
        "# Normalizing values between 0 and 1\n",
        "scaled_test = scaler.fit_transform(dataset_test)\n",
        "print(*scaled_test[:5])  # unpack iterable, printing first 5 elements\n",
        "print(\"\\n\", dataset_test.shape)"
      ],
      "metadata": {
        "colab": {
          "base_uri": "https://localhost:8080/"
        },
        "id": "cbQ4HZATwdos",
        "outputId": "1d53a0a1-a5db-4e4f-a628-0f3feda5acb3"
      },
      "execution_count": null,
      "outputs": [
        {
          "output_type": "stream",
          "name": "stdout",
          "text": [
            "[0.] [0.03256926] [0.10949976] [0.13358763] [0.15411249]\n",
            "\n",
            " (207, 1)\n"
          ]
        }
      ]
    },
    {
      "cell_type": "markdown",
      "source": [
        "# Task 2: Data Cleaning"
      ],
      "metadata": {
        "id": "yAwJbW-YvgVj"
      }
    },
    {
      "cell_type": "markdown",
      "source": [
        "Before handling, some features had missing values in the dataset. After applying forward fill (which propagates the last valid observation forward) and then backward fill (which fills in remaining NaN values by propagating the next valid observation backward), there are no missing values left in the dataset. This means all the NaNs have been successfully handled and filled."
      ],
      "metadata": {
        "id": "n3B273Gpi-73"
      }
    },
    {
      "cell_type": "code",
      "source": [
        "# Check for missing values before handling\n",
        "print(\"Missing values before handling:\")\n",
        "print(df.isnull().sum())\n",
        "\n",
        "# Handling missing values using forward fill (propagate last valid observation forward)\n",
        "df.ffill(inplace=True)\n",
        "\n",
        "# If forward fill was not sufficient (e.g., if the first values are missing), we can use backward fill\n",
        "df.bfill(inplace=True)\n",
        "\n",
        "# Check for missing values after handling\n",
        "print(\"\\nMissing values after handling:\")\n",
        "print(df.isnull().sum())"
      ],
      "metadata": {
        "id": "2LNnH06RS9Gq",
        "colab": {
          "base_uri": "https://localhost:8080/"
        },
        "outputId": "0813365e-cad4-40f3-f321-6b08960a2df5"
      },
      "execution_count": null,
      "outputs": [
        {
          "output_type": "stream",
          "name": "stdout",
          "text": [
            "Missing values before handling:\n",
            "Date             0\n",
            "Stock            0\n",
            "Oil             10\n",
            "EuroToDollar    12\n",
            "Gold             0\n",
            "dtype: int64\n",
            "\n",
            "Missing values after handling:\n",
            "Date            0\n",
            "Stock           0\n",
            "Oil             0\n",
            "EuroToDollar    0\n",
            "Gold            0\n",
            "dtype: int64\n"
          ]
        }
      ]
    },
    {
      "cell_type": "markdown",
      "source": [
        "## 2.1 Transform Timeseries\n",
        "\n",
        "Divide the time-series data into X_train and y_train from the training set and X_test and y_test from the testing set. This is done to turn time series data into a supervised learning problem that can be utilized to train the model.\n",
        "\n",
        "The loop generates input/output sequences of length 50 while iterating through the time series data. Using this method, we can forecast future values while taking into consideration the data’s temporal dependence on prior observations."
      ],
      "metadata": {
        "id": "IABL17IUBMnD"
      }
    },
    {
      "cell_type": "code",
      "source": [
        "# For training dataset\n",
        "X_train = []\n",
        "y_train = []\n",
        "for i in range(50, len(scaled_train)):\n",
        "  X_train.append(scaled_train[i-50:i, 0])\n",
        "  y_train.append(scaled_train[i, 0])\n",
        "  if i <= 51:\n",
        "    print(X_train)\n",
        "    print(y_train)\n",
        "    print()\n"
      ],
      "metadata": {
        "colab": {
          "base_uri": "https://localhost:8080/"
        },
        "id": "W2jEPt83EpYG",
        "outputId": "90cc8b15-9b61-4e65-f247-7038b4ef7107"
      },
      "execution_count": null,
      "outputs": [
        {
          "output_type": "stream",
          "name": "stdout",
          "text": [
            "[array([0.23202753, 0.22750499, 0.23192795, 0.23149294, 0.2334233 ,\n",
            "       0.22615457, 0.24317534, 0.22414256, 0.19743327, 0.23294292,\n",
            "       0.21750822, 0.20643299, 0.1944334 , 0.19383519, 0.16311084,\n",
            "       0.17414989, 0.19313731, 0.21784367, 0.18798038, 0.16030126,\n",
            "       0.1719747 , 0.18924008, 0.20856293, 0.20335158, 0.20586211,\n",
            "       0.22108837, 0.20590747, 0.18561479, 0.16348246, 0.16160631,\n",
            "       0.13768845, 0.10202468, 0.0840342 , 0.08558397, 0.09692208,\n",
            "       0.0528205 , 0.07547857, 0.07547857, 0.05008339, 0.0387725 ,\n",
            "       0.02543135, 0.03987819, 0.06605279, 0.04113799, 0.06264501,\n",
            "       0.04696558, 0.05492312, 0.09384056, 0.092318  , 0.06676871])]\n",
            "[0.07093788117239996]\n",
            "\n",
            "[array([0.23202753, 0.22750499, 0.23192795, 0.23149294, 0.2334233 ,\n",
            "       0.22615457, 0.24317534, 0.22414256, 0.19743327, 0.23294292,\n",
            "       0.21750822, 0.20643299, 0.1944334 , 0.19383519, 0.16311084,\n",
            "       0.17414989, 0.19313731, 0.21784367, 0.18798038, 0.16030126,\n",
            "       0.1719747 , 0.18924008, 0.20856293, 0.20335158, 0.20586211,\n",
            "       0.22108837, 0.20590747, 0.18561479, 0.16348246, 0.16160631,\n",
            "       0.13768845, 0.10202468, 0.0840342 , 0.08558397, 0.09692208,\n",
            "       0.0528205 , 0.07547857, 0.07547857, 0.05008339, 0.0387725 ,\n",
            "       0.02543135, 0.03987819, 0.06605279, 0.04113799, 0.06264501,\n",
            "       0.04696558, 0.05492312, 0.09384056, 0.092318  , 0.06676871]), array([0.22750499, 0.23192795, 0.23149294, 0.2334233 , 0.22615457,\n",
            "       0.24317534, 0.22414256, 0.19743327, 0.23294292, 0.21750822,\n",
            "       0.20643299, 0.1944334 , 0.19383519, 0.16311084, 0.17414989,\n",
            "       0.19313731, 0.21784367, 0.18798038, 0.16030126, 0.1719747 ,\n",
            "       0.18924008, 0.20856293, 0.20335158, 0.20586211, 0.22108837,\n",
            "       0.20590747, 0.18561479, 0.16348246, 0.16160631, 0.13768845,\n",
            "       0.10202468, 0.0840342 , 0.08558397, 0.09692208, 0.0528205 ,\n",
            "       0.07547857, 0.07547857, 0.05008339, 0.0387725 , 0.02543135,\n",
            "       0.03987819, 0.06605279, 0.04113799, 0.06264501, 0.04696558,\n",
            "       0.05492312, 0.09384056, 0.092318  , 0.06676871, 0.07093788])]\n",
            "[0.07093788117239996, 0.07220664418930789]\n",
            "\n"
          ]
        }
      ]
    },
    {
      "cell_type": "markdown",
      "source": [
        "Transforming testing data"
      ],
      "metadata": {
        "id": "1aEed0zvFoKS"
      }
    },
    {
      "cell_type": "code",
      "source": [
        "# For testing data\n",
        "X_test = []\n",
        "y_test = []\n",
        "for i in range(50, len(scaled_test)):\n",
        "    X_test.append(scaled_test[i-50:i, 0])\n",
        "    y_test.append(scaled_test[i, 0])"
      ],
      "metadata": {
        "id": "BtH_Lr9yFok1"
      },
      "execution_count": null,
      "outputs": []
    },
    {
      "cell_type": "markdown",
      "source": [
        "Convert to format suitable for input to an RNN. np.reshape(X_train, (X_train.shape[0], X_train.shape[1], 1)) transforms the X_train array, originally a 2-dimensional array of shape (samples, features), into a 3-dimensional array of shape (samples, time steps, features), where time steps denotes the number of time steps in the input sequence and features denotes the number of features in the input data. Size 1 is an additional dimension that serves as an indication that each time step only has a single feature.\n",
        "\n",
        "The y_train array is transformed from a 1-dimensional array of shape (samples) into a 2-dimensional array of shape (samples, 1) by np.reshape(y_train, (y_train.shape[0], 1)), where each row represents the output value at a certain time step."
      ],
      "metadata": {
        "id": "D1Lh5RyvHq3x"
      }
    },
    {
      "cell_type": "markdown",
      "source": [
        "For training data."
      ],
      "metadata": {
        "id": "F531XIcuIfCO"
      }
    },
    {
      "cell_type": "code",
      "source": [
        "# The data is converted to Numpy array\n",
        "X_train, y_train = np.array(X_train), np.array(y_train)\n",
        "\n",
        "# Reshaping\n",
        "X_train = np.reshape(X_train, (X_train.shape[0], X_train.shape[1],1))\n",
        "y_train = np.reshape(y_train, (y_train.shape[0],1))\n",
        "print(\"X_train :\",X_train.shape,\"y_train :\",y_train.shape)\n"
      ],
      "metadata": {
        "colab": {
          "base_uri": "https://localhost:8080/"
        },
        "id": "tB7e3F0aHsOe",
        "outputId": "14317e73-0426-44cf-88e5-dfd5f7e84815"
      },
      "execution_count": null,
      "outputs": [
        {
          "output_type": "stream",
          "name": "stdout",
          "text": [
            "X_train : (776, 50, 1) y_train : (776, 1)\n"
          ]
        }
      ]
    },
    {
      "cell_type": "markdown",
      "source": [
        "For testing data."
      ],
      "metadata": {
        "id": "IzmIzH9kIkXc"
      }
    },
    {
      "cell_type": "code",
      "source": [
        "# The data is converted to numpy array\n",
        "X_test, y_test = np.array(X_test), np.array(y_test)\n",
        "\n",
        "#Reshaping\n",
        "X_test = np.reshape(X_test, (X_test.shape[0], X_test.shape[1],1))\n",
        "y_test = np.reshape(y_test, (y_test.shape[0],1))\n",
        "print(\"X_test :\",X_test.shape,\"y_test :\",y_test.shape)\n"
      ],
      "metadata": {
        "colab": {
          "base_uri": "https://localhost:8080/"
        },
        "id": "9PU65oRbIj7C",
        "outputId": "7a6ab41c-3433-42e7-a382-ef9edc333344"
      },
      "execution_count": null,
      "outputs": [
        {
          "output_type": "stream",
          "name": "stdout",
          "text": [
            "X_test : (157, 50, 1) y_test : (157, 1)\n"
          ]
        }
      ]
    },
    {
      "cell_type": "markdown",
      "metadata": {
        "id": "JMuxnks8-BLC"
      },
      "source": [
        "# Task 3: Model Construction\n",
        "\n",
        "Construct a RNN network that will predict the future value of Stock, one day/time interval in advance."
      ]
    },
    {
      "cell_type": "code",
      "source": [
        "# importing libraries\n",
        "from keras.models import Sequential\n",
        "from keras.layers import LSTM\n",
        "from keras.layers import Dense\n",
        "from keras.layers import SimpleRNN\n",
        "from keras.layers import Dropout\n",
        "from keras.layers import GRU, Bidirectional\n",
        "from keras.optimizers import SGD\n",
        "from sklearn import metrics\n",
        "from sklearn.metrics import mean_squared_error"
      ],
      "metadata": {
        "id": "52Hwg8yKMO15"
      },
      "execution_count": null,
      "outputs": []
    },
    {
      "cell_type": "markdown",
      "source": [
        "## 3.1 RNN Model"
      ],
      "metadata": {
        "id": "lnXAFG3xL-Z7"
      }
    },
    {
      "cell_type": "markdown",
      "source": [
        "Using the Keras API, this code creates a recurrent neural network (RNN) with four layers of basic RNNs and a dense output layer. It makes use of the tanh hyperbolic tangent activation function. To avoid overfitting, a dropout layer with a rate of 0.2 is introduced. It employs the optimizer as Adam, mean squared error as the loss function, and accuracy as the evaluation metric while compiling. With a batch size of 2, it fits the model to the training data for 20 epochs. The number of parameters in each layer and the overall number of parameters in the model are listed in a summary of the model architecture."
      ],
      "metadata": {
        "id": "vfNyXeZKMfoO"
      }
    },
    {
      "cell_type": "code",
      "source": [
        "# initializing the RNN\n",
        "regressor = Sequential()\n",
        "\n",
        "# adding RNN layers and dropout regularization\n",
        "regressor.add(SimpleRNN(units = 50,\n",
        "\t\t\t\t\t\tactivation = \"tanh\",\n",
        "\t\t\t\t\t\treturn_sequences = True,\n",
        "\t\t\t\t\t\tinput_shape = (X_train.shape[1],1)))\n",
        "regressor.add(Dropout(0.2))\n",
        "\n",
        "regressor.add(SimpleRNN(units = 50,\n",
        "\t\t\t\t\t\tactivation = \"tanh\",\n",
        "\t\t\t\t\t\treturn_sequences = True))\n",
        "\n",
        "regressor.add(SimpleRNN(units = 50,\n",
        "\t\t\t\t\t\tactivation = \"tanh\",\n",
        "\t\t\t\t\t\treturn_sequences = True))\n",
        "\n",
        "regressor.add( SimpleRNN(units = 50))\n",
        "\n",
        "# adding the output layer\n",
        "regressor.add(Dense(units = 1,activation='sigmoid'))\n",
        "\n",
        "# compiling RNN\n",
        "regressor.compile(optimizer = SGD(learning_rate=0.01,\n",
        "\t\t\t\t\t\t\t\t#decay=1e-6, deprecated\n",
        "\t\t\t\t\t\t\t\tmomentum=0.9,\n",
        "\t\t\t\t\t\t\t\tnesterov=True),\n",
        "\t\t\t\tloss = \"mean_squared_error\")\n",
        "\n",
        "# fitting the model\n",
        "regressor.fit(X_train, y_train, epochs = 20, batch_size = 2)\n",
        "regressor.summary()\n"
      ],
      "metadata": {
        "colab": {
          "base_uri": "https://localhost:8080/"
        },
        "id": "PNYixTw6L-Tr",
        "outputId": "182aaf16-808c-43dc-b3d4-19fd8174afb4"
      },
      "execution_count": null,
      "outputs": [
        {
          "output_type": "stream",
          "name": "stdout",
          "text": [
            "Epoch 1/20\n",
            "388/388 [==============================] - 21s 33ms/step - loss: 0.0087\n",
            "Epoch 2/20\n",
            "388/388 [==============================] - 13s 33ms/step - loss: 0.0025\n",
            "Epoch 3/20\n",
            "388/388 [==============================] - 13s 33ms/step - loss: 0.0022\n",
            "Epoch 4/20\n",
            "388/388 [==============================] - 13s 34ms/step - loss: 0.0018\n",
            "Epoch 5/20\n",
            "388/388 [==============================] - 13s 34ms/step - loss: 0.0018\n",
            "Epoch 6/20\n",
            "388/388 [==============================] - 13s 32ms/step - loss: 0.0015\n",
            "Epoch 7/20\n",
            "388/388 [==============================] - 12s 32ms/step - loss: 0.0013\n",
            "Epoch 8/20\n",
            "388/388 [==============================] - 14s 35ms/step - loss: 0.0015\n",
            "Epoch 9/20\n",
            "388/388 [==============================] - 12s 32ms/step - loss: 0.0013\n",
            "Epoch 10/20\n",
            "388/388 [==============================] - 13s 33ms/step - loss: 0.0014\n",
            "Epoch 11/20\n",
            "388/388 [==============================] - 13s 33ms/step - loss: 0.0014\n",
            "Epoch 12/20\n",
            "388/388 [==============================] - 15s 38ms/step - loss: 0.0012\n",
            "Epoch 13/20\n",
            "388/388 [==============================] - 13s 34ms/step - loss: 0.0012\n",
            "Epoch 14/20\n",
            "388/388 [==============================] - 13s 34ms/step - loss: 0.0013\n",
            "Epoch 15/20\n",
            "388/388 [==============================] - 13s 33ms/step - loss: 0.0010\n",
            "Epoch 16/20\n",
            "388/388 [==============================] - 23s 59ms/step - loss: 0.0012\n",
            "Epoch 17/20\n",
            "388/388 [==============================] - 14s 35ms/step - loss: 0.0011\n",
            "Epoch 18/20\n",
            "388/388 [==============================] - 13s 33ms/step - loss: 0.0011\n",
            "Epoch 19/20\n",
            "388/388 [==============================] - 13s 33ms/step - loss: 0.0010\n",
            "Epoch 20/20\n",
            "388/388 [==============================] - 13s 33ms/step - loss: 0.0011\n",
            "Model: \"sequential\"\n",
            "_________________________________________________________________\n",
            " Layer (type)                Output Shape              Param #   \n",
            "=================================================================\n",
            " simple_rnn (SimpleRNN)      (None, 50, 50)            2600      \n",
            "                                                                 \n",
            " dropout (Dropout)           (None, 50, 50)            0         \n",
            "                                                                 \n",
            " simple_rnn_1 (SimpleRNN)    (None, 50, 50)            5050      \n",
            "                                                                 \n",
            " simple_rnn_2 (SimpleRNN)    (None, 50, 50)            5050      \n",
            "                                                                 \n",
            " simple_rnn_3 (SimpleRNN)    (None, 50)                5050      \n",
            "                                                                 \n",
            " dense (Dense)               (None, 1)                 51        \n",
            "                                                                 \n",
            "=================================================================\n",
            "Total params: 17801 (69.54 KB)\n",
            "Trainable params: 17801 (69.54 KB)\n",
            "Non-trainable params: 0 (0.00 Byte)\n",
            "_________________________________________________________________\n"
          ]
        }
      ]
    },
    {
      "cell_type": "markdown",
      "source": [
        "## 3.1 LTSM Model"
      ],
      "metadata": {
        "id": "y0AT31XqRMh4"
      }
    },
    {
      "cell_type": "code",
      "source": [
        "#Initialising the model\n",
        "regressorLSTM = Sequential()\n",
        "\n",
        "#Adding LSTM layers\n",
        "regressorLSTM.add(LSTM(50,\n",
        "\t\t\t\t\treturn_sequences = True,\n",
        "\t\t\t\t\tinput_shape = (X_train.shape[1],1)))\n",
        "regressorLSTM.add(LSTM(50,\n",
        "\t\t\t\t\treturn_sequences = False))\n",
        "regressorLSTM.add(Dense(25))\n",
        "\n",
        "#Adding the output layer\n",
        "regressorLSTM.add(Dense(1))\n",
        "\n",
        "#Compiling the model\n",
        "regressorLSTM.compile(optimizer = 'adam',\n",
        "\t\t\t\t\tloss = 'mean_squared_error',\n",
        "\t\t\t\t\tmetrics = [\"accuracy\"])\n",
        "\n",
        "#Fitting the model\n",
        "regressorLSTM.fit(X_train,\n",
        "\t\t\t\ty_train,\n",
        "\t\t\t\tbatch_size = 1,\n",
        "\t\t\t\tepochs = 12)\n",
        "regressorLSTM.summary()\n"
      ],
      "metadata": {
        "colab": {
          "base_uri": "https://localhost:8080/"
        },
        "id": "irWxk0zG2xT_",
        "outputId": "6b9867b6-7898-4d82-9bcc-9a25c4cf4b43"
      },
      "execution_count": null,
      "outputs": [
        {
          "output_type": "stream",
          "name": "stdout",
          "text": [
            "Epoch 1/12\n",
            "776/776 [==============================] - 28s 29ms/step - loss: 0.0048 - accuracy: 0.0039\n",
            "Epoch 2/12\n",
            "776/776 [==============================] - 18s 24ms/step - loss: 0.0017 - accuracy: 0.0039\n",
            "Epoch 3/12\n",
            "776/776 [==============================] - 19s 25ms/step - loss: 0.0015 - accuracy: 0.0039\n",
            "Epoch 4/12\n",
            "776/776 [==============================] - 19s 25ms/step - loss: 9.3822e-04 - accuracy: 0.0039\n",
            "Epoch 5/12\n",
            "776/776 [==============================] - 25s 32ms/step - loss: 9.4771e-04 - accuracy: 0.0039\n",
            "Epoch 6/12\n",
            "776/776 [==============================] - 18s 23ms/step - loss: 8.2080e-04 - accuracy: 0.0039\n",
            "Epoch 7/12\n",
            "776/776 [==============================] - 19s 25ms/step - loss: 8.5525e-04 - accuracy: 0.0039\n",
            "Epoch 8/12\n",
            "776/776 [==============================] - 19s 24ms/step - loss: 6.7327e-04 - accuracy: 0.0039\n",
            "Epoch 9/12\n",
            "776/776 [==============================] - 22s 29ms/step - loss: 7.1283e-04 - accuracy: 0.0039\n",
            "Epoch 10/12\n",
            "776/776 [==============================] - 20s 26ms/step - loss: 6.1935e-04 - accuracy: 0.0039\n",
            "Epoch 11/12\n",
            "776/776 [==============================] - 19s 24ms/step - loss: 5.5183e-04 - accuracy: 0.0039\n",
            "Epoch 12/12\n",
            "776/776 [==============================] - 19s 25ms/step - loss: 6.7438e-04 - accuracy: 0.0039\n",
            "Model: \"sequential_1\"\n",
            "_________________________________________________________________\n",
            " Layer (type)                Output Shape              Param #   \n",
            "=================================================================\n",
            " lstm (LSTM)                 (None, 50, 50)            10400     \n",
            "                                                                 \n",
            " lstm_1 (LSTM)               (None, 50)                20200     \n",
            "                                                                 \n",
            " dense_1 (Dense)             (None, 25)                1275      \n",
            "                                                                 \n",
            " dense_2 (Dense)             (None, 1)                 26        \n",
            "                                                                 \n",
            "=================================================================\n",
            "Total params: 31901 (124.61 KB)\n",
            "Trainable params: 31901 (124.61 KB)\n",
            "Non-trainable params: 0 (0.00 Byte)\n",
            "_________________________________________________________________\n"
          ]
        }
      ]
    },
    {
      "cell_type": "markdown",
      "source": [
        "## 3.2 GRU Model"
      ],
      "metadata": {
        "id": "VfiW2VjV4MaG"
      }
    },
    {
      "cell_type": "code",
      "source": [
        "#Initialising the model\n",
        "regressorGRU = Sequential()\n",
        "\n",
        "# GRU layers with Dropout regularisation\n",
        "regressorGRU.add(GRU(units=50,\n",
        "\t\t\t\t\treturn_sequences=True,\n",
        "\t\t\t\t\tinput_shape=(X_train.shape[1],1),\n",
        "\t\t\t\t\tactivation='tanh'))\n",
        "regressorGRU.add(Dropout(0.2))\n",
        "\n",
        "regressorGRU.add(GRU(units=50,\n",
        "\t\t\t\t\treturn_sequences=True,\n",
        "\t\t\t\t\tactivation='tanh'))\n",
        "\n",
        "regressorGRU.add(GRU(units=50,\n",
        "\t\t\t\t\treturn_sequences=True,\n",
        "\t\t\t\t\tactivation='tanh'))\n",
        "\n",
        "regressorGRU.add(GRU(units=50,\n",
        "\t\t\t\t\tactivation='tanh'))\n",
        "\n",
        "# The output layer\n",
        "regressorGRU.add(Dense(units=1,\n",
        "\t\t\t\t\tactivation='relu'))\n",
        "# Compiling the RNN\n",
        "regressorGRU.compile(optimizer=SGD(learning_rate=0.01,\n",
        "\t\t\t\t\t\t\t\t#decay=1e-7,\n",
        "\t\t\t\t\t\t\t\tmomentum=0.9,\n",
        "\t\t\t\t\t\t\t\tnesterov=False),\n",
        "\t\t\t\t\tloss='mean_squared_error')\n",
        "\n",
        "# Fitting the data\n",
        "regressorGRU.fit(X_train,y_train,epochs=20,batch_size=1)\n",
        "regressorGRU.summary()\n"
      ],
      "metadata": {
        "colab": {
          "base_uri": "https://localhost:8080/"
        },
        "id": "5qf1vxkN4Mz0",
        "outputId": "640c90f6-0937-4cc8-957f-417638a079a9"
      },
      "execution_count": null,
      "outputs": [
        {
          "output_type": "stream",
          "name": "stdout",
          "text": [
            "Epoch 1/20\n",
            "776/776 [==============================] - 48s 55ms/step - loss: 0.0087\n",
            "Epoch 2/20\n",
            "776/776 [==============================] - 38s 49ms/step - loss: 0.0025\n",
            "Epoch 3/20\n",
            "776/776 [==============================] - 37s 48ms/step - loss: 0.0023\n",
            "Epoch 4/20\n",
            "776/776 [==============================] - 35s 45ms/step - loss: 0.0020\n",
            "Epoch 5/20\n",
            "776/776 [==============================] - 36s 47ms/step - loss: 0.0019\n",
            "Epoch 6/20\n",
            "776/776 [==============================] - 38s 49ms/step - loss: 0.0017\n",
            "Epoch 7/20\n",
            "776/776 [==============================] - 35s 45ms/step - loss: 0.0017\n",
            "Epoch 8/20\n",
            "776/776 [==============================] - 36s 47ms/step - loss: 0.0017\n",
            "Epoch 9/20\n",
            "776/776 [==============================] - 36s 47ms/step - loss: 0.0016\n",
            "Epoch 10/20\n",
            "776/776 [==============================] - 36s 47ms/step - loss: 0.0016\n",
            "Epoch 11/20\n",
            "776/776 [==============================] - 36s 47ms/step - loss: 0.0017\n",
            "Epoch 12/20\n",
            "776/776 [==============================] - 36s 47ms/step - loss: 0.0017\n",
            "Epoch 13/20\n",
            "776/776 [==============================] - 35s 45ms/step - loss: 0.0014\n",
            "Epoch 14/20\n",
            "776/776 [==============================] - 38s 48ms/step - loss: 0.0013\n",
            "Epoch 15/20\n",
            "776/776 [==============================] - 36s 46ms/step - loss: 0.0013\n",
            "Epoch 16/20\n",
            "776/776 [==============================] - 35s 45ms/step - loss: 0.0015\n",
            "Epoch 17/20\n",
            "776/776 [==============================] - 36s 47ms/step - loss: 0.0014\n",
            "Epoch 18/20\n",
            "776/776 [==============================] - 35s 45ms/step - loss: 0.0013\n",
            "Epoch 19/20\n",
            "776/776 [==============================] - 38s 48ms/step - loss: 0.0012\n",
            "Epoch 20/20\n",
            "776/776 [==============================] - 35s 45ms/step - loss: 0.0015\n",
            "Model: \"sequential_3\"\n",
            "_________________________________________________________________\n",
            " Layer (type)                Output Shape              Param #   \n",
            "=================================================================\n",
            " gru_4 (GRU)                 (None, 50, 50)            7950      \n",
            "                                                                 \n",
            " dropout_2 (Dropout)         (None, 50, 50)            0         \n",
            "                                                                 \n",
            " gru_5 (GRU)                 (None, 50, 50)            15300     \n",
            "                                                                 \n",
            " gru_6 (GRU)                 (None, 50, 50)            15300     \n",
            "                                                                 \n",
            " gru_7 (GRU)                 (None, 50)                15300     \n",
            "                                                                 \n",
            " dense_4 (Dense)             (None, 1)                 51        \n",
            "                                                                 \n",
            "=================================================================\n",
            "Total params: 53901 (210.55 KB)\n",
            "Trainable params: 53901 (210.55 KB)\n",
            "Non-trainable params: 0 (0.00 Byte)\n",
            "_________________________________________________________________\n"
          ]
        }
      ]
    },
    {
      "cell_type": "markdown",
      "metadata": {
        "id": "sdabxToq-BLC"
      },
      "source": [
        "# Task 4: test\n",
        "\n",
        "Evaluate the model on the test set and display any change in accuracy over time, if any. Test for common issues found in deep learning models.\n"
      ]
    },
    {
      "cell_type": "markdown",
      "source": [
        "The X_test data is used to make predictions from all three models."
      ],
      "metadata": {
        "id": "wLbALGfYR2bJ"
      }
    },
    {
      "cell_type": "code",
      "source": [
        "print(X_test.shape)\n",
        "\n",
        "# predictions with X_test data\n",
        "y_RNN = regressor.predict(X_test)\n",
        "y_LSTM = regressorLSTM.predict(X_test)\n",
        "y_GRU = regressorGRU.predict(X_test)\n"
      ],
      "metadata": {
        "colab": {
          "base_uri": "https://localhost:8080/"
        },
        "id": "dq755oN_Rd-k",
        "outputId": "74589656-9c2d-4465-cfbe-023dd9889c6a"
      },
      "execution_count": null,
      "outputs": [
        {
          "output_type": "stream",
          "name": "stdout",
          "text": [
            "(157, 50, 1)\n",
            "5/5 [==============================] - 0s 20ms/step\n",
            "5/5 [==============================] - 0s 19ms/step\n",
            "5/5 [==============================] - 2s 22ms/step\n"
          ]
        }
      ]
    },
    {
      "cell_type": "markdown",
      "source": [
        "The predicted values are transformed back from the normalized state to their original scale using the inverse_transform() function."
      ],
      "metadata": {
        "id": "jHfeUtB1RsrJ"
      }
    },
    {
      "cell_type": "code",
      "source": [
        "# scaling back from 0-1 to original\n",
        "y_RNN_O = scaler.inverse_transform(y_RNN)\n",
        "y_LSTM_O = scaler.inverse_transform(y_LSTM)\n",
        "y_GRU_O = scaler.inverse_transform(y_GRU)\n"
      ],
      "metadata": {
        "id": "wB-n9y5vRmqg"
      },
      "execution_count": null,
      "outputs": []
    },
    {
      "cell_type": "code",
      "source": [
        "print(test_df.index[50:].shape)\n",
        "print(y_RNN.shape)\n",
        "\n",
        "fig, axs = plt.subplots(3,figsize =(18,12),sharex=True, sharey=True)\n",
        "fig.suptitle('Model Predictions')\n",
        "\n",
        "#Plot for RNN predictions\n",
        "axs[0].plot(train_df.index[150:], train_df.Stock[150:], label = \"train_data\", color = \"b\")\n",
        "axs[0].plot(test_df.index, test_df.Stock, label = \"test_data\", color = \"g\")\n",
        "axs[0].plot(test_df.index[50:], y_RNN_O, label = \"y_RNN\", color = \"brown\")\n",
        "axs[0].legend()\n",
        "axs[0].title.set_text(\"Basic RNN\")\n",
        "\n",
        "#Plot for LSTM predictions\n",
        "axs[1].plot(train_df.index[150:], train_df.Stock[150:], label = \"train_data\", color = \"b\")\n",
        "axs[1].plot(test_df.index, test_df.Stock, label = \"test_data\", color = \"g\")\n",
        "axs[1].plot(test_df.index[50:], y_LSTM_O, label = \"y_LSTM\", color = \"orange\")\n",
        "axs[1].legend()\n",
        "axs[1].title.set_text(\"LSTM\")\n",
        "\n",
        "#Plot for GRU predictions\n",
        "axs[2].plot(train_df.index[150:], train_df.Stock[150:], label = \"train_data\", color = \"b\")\n",
        "axs[2].plot(test_df.index, test_df.Stock, label = \"test_data\", color = \"g\")\n",
        "axs[2].plot(test_df.index[50:], y_GRU_O, label = \"y_GRU\", color = \"red\")\n",
        "axs[2].legend()\n",
        "axs[2].title.set_text(\"GRU\")\n",
        "\n",
        "plt.xlabel(\"Days\")\n",
        "plt.ylabel(\"Open price\")\n",
        "\n",
        "plt.show()\n"
      ],
      "metadata": {
        "colab": {
          "base_uri": "https://localhost:8080/",
          "height": 1000
        },
        "id": "7a1xr1kUR_OK",
        "outputId": "c6c1235f-7969-4dce-c575-bc2a7091b48d"
      },
      "execution_count": null,
      "outputs": [
        {
          "output_type": "stream",
          "name": "stdout",
          "text": [
            "(157,)\n",
            "(157, 1)\n"
          ]
        },
        {
          "output_type": "display_data",
          "data": {
            "text/plain": [
              "<Figure size 1800x1200 with 3 Axes>"
            ],
            "image/png": "[encoded data removed]"
          },
          "metadata": {}
        }
      ]
    },
    {
      "cell_type": "code",
      "source": [],
      "metadata": {
        "id": "ce9r-XxCRMZ3"
      },
      "execution_count": null,
      "outputs": []
    },
    {
      "cell_type": "code",
      "source": [],
      "metadata": {
        "id": "DHLjo1-uRMWu"
      },
      "execution_count": null,
      "outputs": []
    },
    {
      "cell_type": "code",
      "source": [],
      "metadata": {
        "id": "qtYSso4lL-QP"
      },
      "execution_count": null,
      "outputs": []
    },
    {
      "cell_type": "code",
      "source": [
        "# We'll define a function that creates a 3-D array from the DataFrame for use in time series forecasting models.\n",
        "# The function will create sequences of a specified number of time steps.\n",
        "def create_sequences(dataframe, time_steps):\n",
        "    array = dataframe.values\n",
        "    sequences = []\n",
        "\n",
        "    for i in range(len(array) - time_steps + 1):\n",
        "        sequence = array[i:i + time_steps]\n",
        "        sequences.append(sequence)\n",
        "\n",
        "    # Convert the list of sequences to a 3-D NumPy array\n",
        "    return np.array(sequences)\n",
        "\n",
        "# Define the number of time steps for each sequence\n",
        "time_steps = 10  # This is an example, adjust based on your specific requirements\n",
        "\n",
        "# Create sequences from the DataFrame\n",
        "sequences_3d = create_sequences(df, time_steps)\n",
        "\n",
        "# Display the shape of the resulting 3-D array to verify\n",
        "sequences_3d.shape\n",
        "\n",
        "# Converts sf to 3-dimensional tensors\n",
        "#[ of samples, # of time steps, # of features]\n",
        "sequences_3d"
      ],
      "metadata": {
        "colab": {
          "base_uri": "https://localhost:8080/"
        },
        "id": "5fJEu2NP2SrY",
        "outputId": "81bfd23f-bac5-41e9-8ed7-360fd172453c"
      },
      "execution_count": null,
      "outputs": [
        {
          "output_type": "execute_result",
          "data": {
            "text/plain": [
              "array([[['2015-11-23', 2089.40991210938, 41.490002, 0.9432, 1124.7],\n",
              "        ['2015-11-24', 2084.419921875, 42.040001, 0.9388, 1131.6],\n",
              "        ['2015-11-25', 2089.30004882812, 42.689999, 0.942, 1128.4],\n",
              "        ...,\n",
              "        ['2015-12-03', 2080.7099609375, 40.150002, 0.9173, 1120.6],\n",
              "        ['2015-12-04', 2051.23999023438, 41.310001, 0.9188, 1143.2],\n",
              "        ['2015-12-07', 2090.419921875, 40.099998, 0.9225, 1134.3]],\n",
              "\n",
              "       [['2015-11-24', 2084.419921875, 42.040001, 0.9388, 1131.6],\n",
              "        ['2015-11-25', 2089.30004882812, 42.689999, 0.942, 1128.4],\n",
              "        ['2015-11-27', 2088.82006835938, 43.25, 0.9438, 1114.5],\n",
              "        ...,\n",
              "        ['2015-12-04', 2051.23999023438, 41.310001, 0.9188, 1143.2],\n",
              "        ['2015-12-07', 2090.419921875, 40.099998, 0.9225, 1134.3],\n",
              "        ['2015-12-08', 2073.38989257812, 37.68, 0.9195, 1134.0]],\n",
              "\n",
              "       [['2015-11-25', 2089.30004882812, 42.689999, 0.942, 1128.4],\n",
              "        ['2015-11-27', 2088.82006835938, 43.25, 0.9438, 1114.5],\n",
              "        ['2015-11-30', 2090.94995117188, 41.77, 0.9468, 1123.9],\n",
              "        ...,\n",
              "        ['2015-12-07', 2090.419921875, 40.099998, 0.9225, 1134.3],\n",
              "        ['2015-12-08', 2073.38989257812, 37.68, 0.9195, 1134.0],\n",
              "        ['2015-12-09', 2061.169921875, 37.860001, 0.9104, 1134.9]],\n",
              "\n",
              "       ...,\n",
              "\n",
              "       [['2019-12-13', 3166.64990234375, 59.360001, 0.8986, 1493.0],\n",
              "        ['2019-12-16', 3183.6298828125, 59.869999, 0.8977, 1505.4],\n",
              "        ['2019-12-17', 3195.39990234375, 60.23, 0.897, 1505.8],\n",
              "        ...,\n",
              "        ['2019-12-24', 3225.44995117188, 60.41, 0.9022, 1518.6],\n",
              "        ['2019-12-26', 3227.19995117188, 61.200001, 0.9007, 1528.9],\n",
              "        ['2019-12-27', 3247.22998046875, 61.73, 0.8949, 1540.7]],\n",
              "\n",
              "       [['2019-12-16', 3183.6298828125, 59.869999, 0.8977, 1505.4],\n",
              "        ['2019-12-17', 3195.39990234375, 60.23, 0.897, 1505.8],\n",
              "        ['2019-12-18', 3195.2099609375, 60.549999, 0.8998, 1506.4],\n",
              "        ...,\n",
              "        ['2019-12-26', 3227.19995117188, 61.200001, 0.9007, 1528.9],\n",
              "        ['2019-12-27', 3247.22998046875, 61.73, 0.8949, 1540.7],\n",
              "        ['2019-12-30', 3240.09008789062, 61.709999, 0.8915, 1543.9]],\n",
              "\n",
              "       [['2019-12-17', 3195.39990234375, 60.23, 0.897, 1505.8],\n",
              "        ['2019-12-18', 3195.2099609375, 60.549999, 0.8998, 1506.4],\n",
              "        ['2019-12-19', 3192.32006835938, 60.860001, 0.8986, 1505.4],\n",
              "        ...,\n",
              "        ['2019-12-27', 3247.22998046875, 61.73, 0.8949, 1540.7],\n",
              "        ['2019-12-30', 3240.09008789062, 61.709999, 0.8915, 1543.9],\n",
              "        ['2019-12-31', 3215.17993164062, 61.68, 0.8907, 1546.7]]],\n",
              "      dtype=object)"
            ]
          },
          "metadata": {},
          "execution_count": 55
        }
      ]
    },
    {
      "cell_type": "markdown",
      "source": [
        "The three dimensions are:\n",
        "\n",
        "* Tensor: One tensor is a vector that enters the model\n",
        "* Time Step: One-time step is one observation in the tensor.\n",
        "* Feature: One feature is one observation at a time step.\n"
      ],
      "metadata": {
        "id": "mAMigPkj3DEQ"
      }
    },
    {
      "cell_type": "code",
      "source": [
        "def ts_train_test(all_data, time_steps, for_periods):\n",
        "    '''\n",
        "    input:\n",
        "      data: dataframe with dates and price data\n",
        "    output:\n",
        "      X_train, y_train: data from 2013/1/1-2018/12/31\n",
        "      X_test:  data from 2019 -\n",
        "    time_steps: # of the input time steps\n",
        "    for_periods: # of the output time steps\n",
        "    '''\n",
        "    # create training and test set\n",
        "    ts_train = all_data[:'2018'].iloc[:,0:1].values\n",
        "    ts_test  = all_data['2019':].iloc[:,0:1].values\n",
        "    ts_train_len = len(ts_train)\n",
        "    ts_test_len = len(ts_test)\n",
        "\n",
        "    # create training data of s samples and t time steps\n",
        "    X_train = []\n",
        "    y_train = []\n",
        "    y_train_stacked = []\n",
        "    for i in range(time_steps,ts_train_len-1):\n",
        "        X_train.append(ts_train[i-time_steps:i,0])\n",
        "        y_train.append(ts_train[i:i+for_periods,0])\n",
        "    X_train, y_train = np.array(X_train), np.array(y_train)\n",
        "\n",
        "    # Reshaping X_train for efficient modelling\n",
        "    X_train = np.reshape(X_train, (X_train.shape[0],X_train.shape[1],1))\n",
        "\n",
        "    # Preparing to create X_test\n",
        "    inputs = pd.concat((all_data[\"Stock\"][:'2018'], all_data[\"Stock\"]['2019':]),axis=0).values\n",
        "    inputs = inputs[len(inputs)-len(ts_test) - time_steps:]\n",
        "    inputs = inputs.reshape(-1,1)\n",
        "\n",
        "    X_test = []\n",
        "    for i in range(time_steps,ts_test_len+time_steps-for_periods):\n",
        "        X_test.append(inputs[i-time_steps:i,0])\n",
        "\n",
        "    X_test = np.array(X_test)\n",
        "    X_test = np.reshape(X_test, (X_test.shape[0],X_test.shape[1],1))\n",
        "\n",
        "    return X_train, y_train , X_test\n",
        "\n",
        "X_train, y_train, X_test = ts_train_test(df, 5, 1)\n",
        "X_train.shape[0],X_train.shape[1]\n"
      ],
      "metadata": {
        "id": "XsuH_DQt7A46"
      },
      "execution_count": null,
      "outputs": []
    },
    {
      "cell_type": "code",
      "source": [
        "# Convert the 3-D shape of X_train to a data frame so we can see:\n",
        "X_train_see = pd.DataFrame(np.reshape(X_train, (X_train.shape[0],X_train.shape[1])))\n",
        "y_train_see = pd.DataFrame(y_train)\n",
        "pd.concat([X_train_see,y_train_see],axis=1)\n",
        "\n",
        "# Convert the 3-D shape of X_test to a data frame so we can see:\n",
        "X_test_see = pd.DataFrame(np.reshape(X_test, (X_test.shape[0],X_test.shape[1])))\n",
        "pd.DataFrame(X_test_see)\n",
        "\n",
        "print(\"There are \" + str(X_train.shape[0]) + \" samples in the training data\")\n",
        "print(\"There are \" + str(X_test.shape[0]) + \" samples in the test data\")"
      ],
      "metadata": {
        "colab": {
          "base_uri": "https://localhost:8080/",
          "height": 216
        },
        "id": "6L0F3Ky94nYa",
        "outputId": "2fce66fc-6d00-42d5-8214-c535b84f93e1"
      },
      "execution_count": null,
      "outputs": [
        {
          "output_type": "error",
          "ename": "NameError",
          "evalue": "name 'X_train' is not defined",
          "traceback": [
            "\u001b[0;31m---------------------------------------------------------------------------\u001b[0m",
            "\u001b[0;31mNameError\u001b[0m                                 Traceback (most recent call last)",
            "\u001b[0;32m<ipython-input-56-6c5203ea57e7>\u001b[0m in \u001b[0;36m<cell line: 2>\u001b[0;34m()\u001b[0m\n\u001b[1;32m      1\u001b[0m \u001b[0;31m# Convert the 3-D shape of X_train to a data frame so we can see:\u001b[0m\u001b[0;34m\u001b[0m\u001b[0;34m\u001b[0m\u001b[0m\n\u001b[0;32m----> 2\u001b[0;31m \u001b[0mX_train_see\u001b[0m \u001b[0;34m=\u001b[0m \u001b[0mpd\u001b[0m\u001b[0;34m.\u001b[0m\u001b[0mDataFrame\u001b[0m\u001b[0;34m(\u001b[0m\u001b[0mnp\u001b[0m\u001b[0;34m.\u001b[0m\u001b[0mreshape\u001b[0m\u001b[0;34m(\u001b[0m\u001b[0mX_train\u001b[0m\u001b[0;34m,\u001b[0m \u001b[0;34m(\u001b[0m\u001b[0mX_train\u001b[0m\u001b[0;34m.\u001b[0m\u001b[0mshape\u001b[0m\u001b[0;34m[\u001b[0m\u001b[0;36m0\u001b[0m\u001b[0;34m]\u001b[0m\u001b[0;34m,\u001b[0m\u001b[0mX_train\u001b[0m\u001b[0;34m.\u001b[0m\u001b[0mshape\u001b[0m\u001b[0;34m[\u001b[0m\u001b[0;36m1\u001b[0m\u001b[0;34m]\u001b[0m\u001b[0;34m)\u001b[0m\u001b[0;34m)\u001b[0m\u001b[0;34m)\u001b[0m\u001b[0;34m\u001b[0m\u001b[0;34m\u001b[0m\u001b[0m\n\u001b[0m\u001b[1;32m      3\u001b[0m \u001b[0my_train_see\u001b[0m \u001b[0;34m=\u001b[0m \u001b[0mpd\u001b[0m\u001b[0;34m.\u001b[0m\u001b[0mDataFrame\u001b[0m\u001b[0;34m(\u001b[0m\u001b[0my_train\u001b[0m\u001b[0;34m)\u001b[0m\u001b[0;34m\u001b[0m\u001b[0;34m\u001b[0m\u001b[0m\n\u001b[1;32m      4\u001b[0m \u001b[0mpd\u001b[0m\u001b[0;34m.\u001b[0m\u001b[0mconcat\u001b[0m\u001b[0;34m(\u001b[0m\u001b[0;34m[\u001b[0m\u001b[0mX_train_see\u001b[0m\u001b[0;34m,\u001b[0m\u001b[0my_train_see\u001b[0m\u001b[0;34m]\u001b[0m\u001b[0;34m,\u001b[0m\u001b[0maxis\u001b[0m\u001b[0;34m=\u001b[0m\u001b[0;36m1\u001b[0m\u001b[0;34m)\u001b[0m\u001b[0;34m\u001b[0m\u001b[0;34m\u001b[0m\u001b[0m\n\u001b[1;32m      5\u001b[0m \u001b[0;34m\u001b[0m\u001b[0m\n",
            "\u001b[0;31mNameError\u001b[0m: name 'X_train' is not defined"
          ]
        }
      ]
    },
    {
      "cell_type": "code",
      "source": [],
      "metadata": {
        "id": "AEvur6-t8_in"
      },
      "execution_count": null,
      "outputs": []
    },
    {
      "cell_type": "code",
      "source": [
        "def ts_train_test(all_data,time_steps,for_periods):\n",
        "    '''\n",
        "    input:\n",
        "      data: dataframe with dates and price data\n",
        "    output:\n",
        "      X_train, y_train: data from 2013/1/1-2018/12/31\n",
        "      X_test:  data from 2019 -\n",
        "    time_steps: # of the input time steps\n",
        "    for_periods: # of the output time steps\n",
        "    '''\n",
        "    # create training and test set\n",
        "    ts_train = all_data[:'2018'].iloc[:,0:1].values\n",
        "    ts_test  = all_data['2019':].iloc[:,0:1].values\n",
        "    ts_train_len = len(ts_train)\n",
        "    ts_test_len = len(ts_test)\n",
        "\n",
        "    # create training data of s samples and t time steps\n",
        "    X_train = []\n",
        "    y_train = []\n",
        "    y_train_stacked = []\n",
        "    for i in range(time_steps,ts_train_len-1):\n",
        "        X_train.append(ts_train[i-time_steps:i,0])\n",
        "        y_train.append(ts_train[i:i+for_periods,0])\n",
        "    X_train, y_train = np.array(X_train), np.array(y_train)\n",
        "\n",
        "    # Reshaping X_train for efficient modelling\n",
        "    X_train = np.reshape(X_train, (X_train.shape[0],X_train.shape[1],1))\n",
        "\n",
        "    # Preparing to create X_test\n",
        "    inputs = pd.concat((all_data[\"Adj Close\"][:'2018'], all_data[\"Adj Close\"]['2019':]),axis=0).values\n",
        "    inputs = inputs[len(inputs)-len(ts_test) - time_steps:]\n",
        "    inputs = inputs.reshape(-1,1)\n",
        "\n",
        "    X_test = []\n",
        "    for i in range(time_steps,ts_test_len+time_steps-for_periods):\n",
        "        X_test.append(inputs[i-time_steps:i,0])\n",
        "\n",
        "    X_test = np.array(X_test)\n",
        "    X_test = np.reshape(X_test, (X_test.shape[0],X_test.shape[1],1))\n",
        "\n",
        "    return X_train, y_train , X_test\n",
        "\n",
        "X_train, y_train, X_test = ts_train_test(all_data,5,2)\n",
        "X_train.shape[0],X_train.shape[1]"
      ],
      "metadata": {
        "id": "2saRZIzg8_ng"
      },
      "execution_count": null,
      "outputs": []
    },
    {
      "cell_type": "code",
      "source": [],
      "metadata": {
        "id": "Zk_vxrZp-N5U"
      },
      "execution_count": null,
      "outputs": []
    },
    {
      "cell_type": "code",
      "source": [
        "# First, we need to define a function that will create sequences suitable for time series forecasting.\n",
        "# This function will create sequences of input data (X) and the corresponding output data (y).\n",
        "\n",
        "def create_sequences(data, time_steps, for_periods):\n",
        "    \"\"\"\n",
        "    Create sequences of time_steps length and sequences of for_periods (forecast length).\n",
        "\n",
        "    :param data: The entire dataset as a numpy array.\n",
        "    :param time_steps: The number of time steps for the input sequence.\n",
        "    :param for_periods: The number of time steps to forecast.\n",
        "    :return: X, y as numpy arrays.\n",
        "    \"\"\"\n",
        "    X, y = [], []\n",
        "\n",
        "    # Create sequences of data\n",
        "    for i in range(time_steps, len(data) - for_periods):\n",
        "        X.append(data[i - time_steps:i])\n",
        "        y.append(data[i:i + for_periods])\n",
        "\n",
        "    return np.array(X), np.array(y)\n",
        "\n",
        "# Now, we use the function to create our train and test sets.\n",
        "# For the sake of the example, let's continue with the artificial DataFrame we created earlier.\n",
        "\n",
        "# Split the DataFrame into train and test sets based on the position in the index\n",
        "split_index = 829\n",
        "train_df = df.iloc[:split_index]\n",
        "test_df = df.iloc[split_index:]\n",
        "\n",
        "# Convert DataFrames to numpy arrays\n",
        "train_data = train_df.values\n",
        "test_data = test_df.values\n",
        "\n",
        "# Define the number of time steps for the input and periods to forecast\n",
        "time_steps = 5  # Number of time steps in the input sequence\n",
        "for_periods = 1  # Number of time steps to forecast\n",
        "\n",
        "# Create sequences for training\n",
        "X_train, y_train = create_sequences(train_data, time_steps, for_periods)\n",
        "\n",
        "# Create sequences for testing\n",
        "# We need to concatenate the end of the training data with the test data to form sequences\n",
        "test_data_combined = np.concatenate((train_data[-time_steps:], test_data))\n",
        "X_test, _ = create_sequences(test_data_combined, time_steps, for_periods)\n",
        "\n",
        "X_train.shape, y_train.shape, X_test.shape\n"
      ],
      "metadata": {
        "colab": {
          "base_uri": "https://localhost:8080/"
        },
        "id": "miXWoykB8_vW",
        "outputId": "cc2cb055-6273-40e4-cbca-0fcfc1bb3d90"
      },
      "execution_count": null,
      "outputs": [
        {
          "output_type": "execute_result",
          "data": {
            "text/plain": [
              "((823, 5, 4), (823, 1, 4), (203, 5, 4))"
            ]
          },
          "metadata": {},
          "execution_count": 132
        }
      ]
    },
    {
      "cell_type": "code",
      "source": [
        "# Convert the 3-D shape of X_train to a data frame so we can see:\n",
        "X_train_see = pd.DataFrame(np.reshape(X_train, (X_train.shape[0],X_train.shape[1])))\n",
        "y_train_see = pd.DataFrame(y_train)\n",
        "pd.concat([X_train_see,y_train_see],axis=1)\n",
        "\n",
        "# Convert the 3-D shape of X_test to a data frame so we can see:\n",
        "X_test_see = pd.DataFrame(np.reshape(X_test, (X_test.shape[0],X_test.shape[1])))\n",
        "pd.DataFrame(X_test_see)\n",
        "\n",
        "print(\"There are \" + str(X_train.shape[0]) + \" samples in the training data\")\n",
        "print(\"There are \" + str(X_test.shape[0]) + \" samples in the test data\")"
      ],
      "metadata": {
        "colab": {
          "base_uri": "https://localhost:8080/",
          "height": 365
        },
        "id": "snFwCV0V_03d",
        "outputId": "1f7174b6-e5b5-4280-8d07-4d139c81fd9c"
      },
      "execution_count": null,
      "outputs": [
        {
          "output_type": "error",
          "ename": "ValueError",
          "evalue": "cannot reshape array of size 16460 into shape (823,5)",
          "traceback": [
            "\u001b[0;31m---------------------------------------------------------------------------\u001b[0m",
            "\u001b[0;31mValueError\u001b[0m                                Traceback (most recent call last)",
            "\u001b[0;32m<ipython-input-133-afaf9a41801d>\u001b[0m in \u001b[0;36m<cell line: 2>\u001b[0;34m()\u001b[0m\n\u001b[1;32m      1\u001b[0m \u001b[0;31m# Convert the 3-D shape of X_train to a data frame so we can see:\u001b[0m\u001b[0;34m\u001b[0m\u001b[0;34m\u001b[0m\u001b[0m\n\u001b[0;32m----> 2\u001b[0;31m \u001b[0mX_train_see\u001b[0m \u001b[0;34m=\u001b[0m \u001b[0mpd\u001b[0m\u001b[0;34m.\u001b[0m\u001b[0mDataFrame\u001b[0m\u001b[0;34m(\u001b[0m\u001b[0mnp\u001b[0m\u001b[0;34m.\u001b[0m\u001b[0mreshape\u001b[0m\u001b[0;34m(\u001b[0m\u001b[0mX_train\u001b[0m\u001b[0;34m,\u001b[0m \u001b[0;34m(\u001b[0m\u001b[0mX_train\u001b[0m\u001b[0;34m.\u001b[0m\u001b[0mshape\u001b[0m\u001b[0;34m[\u001b[0m\u001b[0;36m0\u001b[0m\u001b[0;34m]\u001b[0m\u001b[0;34m,\u001b[0m\u001b[0mX_train\u001b[0m\u001b[0;34m.\u001b[0m\u001b[0mshape\u001b[0m\u001b[0;34m[\u001b[0m\u001b[0;36m1\u001b[0m\u001b[0;34m]\u001b[0m\u001b[0;34m)\u001b[0m\u001b[0;34m)\u001b[0m\u001b[0;34m)\u001b[0m\u001b[0;34m\u001b[0m\u001b[0;34m\u001b[0m\u001b[0m\n\u001b[0m\u001b[1;32m      3\u001b[0m \u001b[0my_train_see\u001b[0m \u001b[0;34m=\u001b[0m \u001b[0mpd\u001b[0m\u001b[0;34m.\u001b[0m\u001b[0mDataFrame\u001b[0m\u001b[0;34m(\u001b[0m\u001b[0my_train\u001b[0m\u001b[0;34m)\u001b[0m\u001b[0;34m\u001b[0m\u001b[0;34m\u001b[0m\u001b[0m\n\u001b[1;32m      4\u001b[0m \u001b[0mpd\u001b[0m\u001b[0;34m.\u001b[0m\u001b[0mconcat\u001b[0m\u001b[0;34m(\u001b[0m\u001b[0;34m[\u001b[0m\u001b[0mX_train_see\u001b[0m\u001b[0;34m,\u001b[0m\u001b[0my_train_see\u001b[0m\u001b[0;34m]\u001b[0m\u001b[0;34m,\u001b[0m\u001b[0maxis\u001b[0m\u001b[0;34m=\u001b[0m\u001b[0;36m1\u001b[0m\u001b[0;34m)\u001b[0m\u001b[0;34m\u001b[0m\u001b[0;34m\u001b[0m\u001b[0m\n\u001b[1;32m      5\u001b[0m \u001b[0;34m\u001b[0m\u001b[0m\n",
            "\u001b[0;32m/usr/local/lib/python3.10/dist-packages/numpy/core/fromnumeric.py\u001b[0m in \u001b[0;36mreshape\u001b[0;34m(a, newshape, order)\u001b[0m\n\u001b[1;32m    283\u001b[0m            [5, 6]])\n\u001b[1;32m    284\u001b[0m     \"\"\"\n\u001b[0;32m--> 285\u001b[0;31m     \u001b[0;32mreturn\u001b[0m \u001b[0m_wrapfunc\u001b[0m\u001b[0;34m(\u001b[0m\u001b[0ma\u001b[0m\u001b[0;34m,\u001b[0m \u001b[0;34m'reshape'\u001b[0m\u001b[0;34m,\u001b[0m \u001b[0mnewshape\u001b[0m\u001b[0;34m,\u001b[0m \u001b[0morder\u001b[0m\u001b[0;34m=\u001b[0m\u001b[0morder\u001b[0m\u001b[0;34m)\u001b[0m\u001b[0;34m\u001b[0m\u001b[0;34m\u001b[0m\u001b[0m\n\u001b[0m\u001b[1;32m    286\u001b[0m \u001b[0;34m\u001b[0m\u001b[0m\n\u001b[1;32m    287\u001b[0m \u001b[0;34m\u001b[0m\u001b[0m\n",
            "\u001b[0;32m/usr/local/lib/python3.10/dist-packages/numpy/core/fromnumeric.py\u001b[0m in \u001b[0;36m_wrapfunc\u001b[0;34m(obj, method, *args, **kwds)\u001b[0m\n\u001b[1;32m     57\u001b[0m \u001b[0;34m\u001b[0m\u001b[0m\n\u001b[1;32m     58\u001b[0m     \u001b[0;32mtry\u001b[0m\u001b[0;34m:\u001b[0m\u001b[0;34m\u001b[0m\u001b[0;34m\u001b[0m\u001b[0m\n\u001b[0;32m---> 59\u001b[0;31m         \u001b[0;32mreturn\u001b[0m \u001b[0mbound\u001b[0m\u001b[0;34m(\u001b[0m\u001b[0;34m*\u001b[0m\u001b[0margs\u001b[0m\u001b[0;34m,\u001b[0m \u001b[0;34m**\u001b[0m\u001b[0mkwds\u001b[0m\u001b[0;34m)\u001b[0m\u001b[0;34m\u001b[0m\u001b[0;34m\u001b[0m\u001b[0m\n\u001b[0m\u001b[1;32m     60\u001b[0m     \u001b[0;32mexcept\u001b[0m \u001b[0mTypeError\u001b[0m\u001b[0;34m:\u001b[0m\u001b[0;34m\u001b[0m\u001b[0;34m\u001b[0m\u001b[0m\n\u001b[1;32m     61\u001b[0m         \u001b[0;31m# A TypeError occurs if the object does have such a method in its\u001b[0m\u001b[0;34m\u001b[0m\u001b[0;34m\u001b[0m\u001b[0m\n",
            "\u001b[0;31mValueError\u001b[0m: cannot reshape array of size 16460 into shape (823,5)"
          ]
        }
      ]
    },
    {
      "cell_type": "code",
      "source": [
        "# Since X_train and y_train are 3-D arrays, we need to adapt the reshaping process to handle the features dimension correctly.\n",
        "\n",
        "# Convert the 3-D shape of X_train to a 2-D DataFrame for visualization\n",
        "# Flatten the time steps and features for X_train\n",
        "X_train_flattened = X_train.reshape(X_train.shape[0], X_train.shape[1] * X_train.shape[2])\n",
        "X_train_see = pd.DataFrame(X_train_flattened)\n",
        "\n",
        "# Flatten the time steps and features for y_train\n",
        "y_train_flattened = y_train.reshape(y_train.shape[0], y_train.shape[1] * y_train.shape[2])\n",
        "y_train_see = pd.DataFrame(y_train_flattened)\n",
        "\n",
        "# Concatenate X_train and y_train DataFrames for a comprehensive view\n",
        "train_data_combined = pd.concat([X_train_see, y_train_see], axis=1)\n",
        "\n",
        "# For X_test, since there's an issue creating samples, we'll check if it's not empty before reshaping\n",
        "if X_test.shape[0] > 0:\n",
        "    X_test_flattened = X_test.reshape(X_test.shape[0], X_test.shape[1] * X_test.shape[2])\n",
        "    X_test_see = pd.DataFrame(X_test_flattened)\n",
        "else:\n",
        "    X_test_see = pd.DataFrame()\n",
        "\n",
        "# Output the combined DataFrame to see the input and target data side by side for training data\n",
        "print(train_data_combined)\n",
        "\n",
        "# Output the DataFrame for X_test to see the input data for testing\n",
        "print(X_test_see)\n",
        "\n",
        "# Print the number of samples in the training and test data\n",
        "print(\"There are \" + str(X_train.shape[0]) + \" samples in the training data\")\n",
        "print(\"There are \" + str(X_test.shape[0]) + \" samples in the test data\")\n"
      ],
      "metadata": {
        "id": "BOiwoTELA194",
        "outputId": "37095736-2c54-4f37-892a-dfd19270f65b",
        "colab": {
          "base_uri": "https://localhost:8080/"
        }
      },
      "execution_count": null,
      "outputs": [
        {
          "output_type": "stream",
          "name": "stdout",
          "text": [
            "             0            1          2       3       4           5   \\\n",
            "0    2015-11-23  2089.409912  41.490002  0.9432  1124.7  2015-11-24   \n",
            "1    2015-11-24  2084.419922  42.040001  0.9388  1131.6  2015-11-25   \n",
            "2    2015-11-25  2089.300049  42.689999   0.942  1128.4  2015-11-27   \n",
            "3    2015-11-27  2088.820068      43.25  0.9438  1114.5  2015-11-30   \n",
            "4    2015-11-30  2090.949951      41.77  0.9468  1123.9  2015-12-01   \n",
            "..          ...          ...        ...     ...     ...         ...   \n",
            "818  2019-02-26  2792.360107  55.459999  0.8792  1387.9  2019-02-27   \n",
            "819  2019-02-27       2787.5  55.950001  0.8795  1380.5  2019-02-28   \n",
            "820  2019-02-28  2788.110107       57.0  0.8788  1374.0  2019-03-01   \n",
            "821  2019-03-01  2798.219971  57.220001   0.879  1358.3  2019-03-04   \n",
            "822  2019-03-04  2814.370117  55.830002  0.8828  1346.3  2019-03-05   \n",
            "\n",
            "              6          7       8       9   ...          20           21  \\\n",
            "0    2084.419922  42.040001  0.9388  1131.6  ...  2015-11-30  2090.949951   \n",
            "1    2089.300049  42.689999   0.942  1128.4  ...  2015-12-01  2082.929932   \n",
            "2    2088.820068      43.25  0.9438  1114.5  ...  2015-12-02  2101.709961   \n",
            "3    2090.949951      41.77  0.9468  1123.9  ...  2015-12-03  2080.709961   \n",
            "4    2082.929932      41.73  0.9416  1122.0  ...  2015-12-04   2051.23999   \n",
            "..           ...        ...     ...     ...  ...         ...          ...   \n",
            "818       2787.5  55.950001  0.8795  1380.5  ...  2019-03-04  2814.370117   \n",
            "819  2788.110107       57.0  0.8788  1374.0  ...  2019-03-05  2794.409912   \n",
            "820  2798.219971  57.220001   0.879  1358.3  ...  2019-03-06   2790.27002   \n",
            "821  2814.370117  55.830002  0.8828  1346.3  ...  2019-03-07  2766.530029   \n",
            "822  2794.409912  56.450001   0.885  1343.5  ...  2019-03-08  2730.790039   \n",
            "\n",
            "            22      23      24          0            1          2       3   \\\n",
            "0        41.77  0.9468  1123.9  2015-12-01  2082.929932      41.73  0.9416   \n",
            "1        41.73  0.9416  1122.0  2015-12-02  2101.709961  41.689999  0.9458   \n",
            "2    41.689999  0.9458  1112.4  2015-12-03  2080.709961  40.150002  0.9173   \n",
            "3    40.150002  0.9173  1120.6  2015-12-04   2051.23999  41.310001  0.9188   \n",
            "4    41.310001  0.9188  1143.2  2015-12-07  2090.419922  40.099998  0.9225   \n",
            "..         ...     ...     ...         ...          ...        ...     ...   \n",
            "818  55.830002  0.8828  1346.3  2019-03-05  2794.409912  56.450001   0.885   \n",
            "819  56.450001   0.885  1343.5  2019-03-06   2790.27002  56.279999  0.8834   \n",
            "820  56.279999  0.8834  1346.5  2019-03-07  2766.530029  56.200001  0.8917   \n",
            "821  56.200001  0.8917  1344.9  2019-03-08  2730.790039      56.43  0.8894   \n",
            "822      56.43  0.8894  1358.5  2019-03-11  2747.610107      56.07  0.8908   \n",
            "\n",
            "         4   \n",
            "0    1122.0  \n",
            "1    1112.4  \n",
            "2    1120.6  \n",
            "3    1143.2  \n",
            "4    1134.3  \n",
            "..      ...  \n",
            "818  1343.5  \n",
            "819  1346.5  \n",
            "820  1344.9  \n",
            "821  1358.5  \n",
            "822  1350.0  \n",
            "\n",
            "[823 rows x 30 columns]\n",
            "             0            1          2       3       4           5   \\\n",
            "0    2019-03-06   2790.27002  56.279999  0.8834  1346.5  2019-03-07   \n",
            "1    2019-03-07  2766.530029  56.200001  0.8917  1344.9  2019-03-08   \n",
            "2    2019-03-08  2730.790039      56.43  0.8894  1358.5  2019-03-11   \n",
            "3    2019-03-11  2747.610107      56.07  0.8908  1350.0  2019-03-12   \n",
            "4    2019-03-12  2787.340088  56.759998  0.8868  1356.6  2019-03-13   \n",
            "..          ...          ...        ...     ...     ...         ...   \n",
            "198  2019-12-16  3183.629883  59.869999  0.8977  1505.4  2019-12-17   \n",
            "199  2019-12-17  3195.399902      60.23   0.897  1505.8  2019-12-18   \n",
            "200  2019-12-18  3195.209961  60.549999  0.8998  1506.4  2019-12-19   \n",
            "201  2019-12-19  3192.320068  60.860001  0.8986  1505.4  2019-12-20   \n",
            "202  2019-12-20  3223.330078  61.110001  0.9029  1508.1  2019-12-23   \n",
            "\n",
            "              6          7       8       9   ...          15           16  \\\n",
            "0    2766.530029  56.200001  0.8917  1344.9  ...  2019-03-11  2747.610107   \n",
            "1    2730.790039      56.43  0.8894  1358.5  ...  2019-03-12  2787.340088   \n",
            "2    2747.610107      56.07  0.8908  1350.0  ...  2019-03-13  2799.780029   \n",
            "3    2787.340088  56.759998  0.8868  1356.6  ...  2019-03-14  2810.379883   \n",
            "4    2799.780029      57.09  0.8842  1368.1  ...  2019-03-15  2810.790039   \n",
            "..           ...        ...     ...     ...  ...         ...          ...   \n",
            "198  3195.399902      60.23   0.897  1505.8  ...  2019-12-19  3192.320068   \n",
            "199  3195.209961  60.549999  0.8998  1506.4  ...  2019-12-20  3223.330078   \n",
            "200  3192.320068  60.860001  0.8986  1505.4  ...  2019-12-23  3226.050049   \n",
            "201  3223.330078  61.110001  0.9029  1508.1  ...  2019-12-24  3225.449951   \n",
            "202  3226.050049      60.41  0.9016  1510.7  ...  2019-12-26  3227.199951   \n",
            "\n",
            "            17      18      19          20           21         22      23  \\\n",
            "0        56.07  0.8908  1350.0  2019-03-12  2787.340088  56.759998  0.8868   \n",
            "1    56.759998  0.8868  1356.6  2019-03-13  2799.780029      57.09  0.8842   \n",
            "2        57.09  0.8842  1368.1  2019-03-14  2810.379883  58.349998  0.8846   \n",
            "3    58.349998  0.8846  1352.9  2019-03-15  2810.790039  58.509998  0.8829   \n",
            "4    58.509998  0.8829  1360.6  2019-03-18  2822.610107  58.450001  0.8821   \n",
            "..         ...     ...     ...         ...          ...        ...     ...   \n",
            "198  60.860001  0.8986  1505.4  2019-12-20  3223.330078  61.110001  0.9029   \n",
            "199  61.110001  0.9029  1508.1  2019-12-23  3226.050049      60.41  0.9016   \n",
            "200      60.41  0.9016  1510.7  2019-12-24  3225.449951      60.41  0.9022   \n",
            "201      60.41  0.9022  1518.6  2019-12-26  3227.199951  61.200001  0.9007   \n",
            "202  61.200001  0.9007  1528.9  2019-12-27   3247.22998      61.73  0.8949   \n",
            "\n",
            "         24  \n",
            "0    1356.6  \n",
            "1    1368.1  \n",
            "2    1352.9  \n",
            "3    1360.6  \n",
            "4    1359.4  \n",
            "..      ...  \n",
            "198  1508.1  \n",
            "199  1510.7  \n",
            "200  1518.6  \n",
            "201  1528.9  \n",
            "202  1540.7  \n",
            "\n",
            "[203 rows x 25 columns]\n",
            "There are 823 samples in the training data\n",
            "There are 203 samples in the test data\n"
          ]
        }
      ]
    },
    {
      "cell_type": "code",
      "source": [],
      "metadata": {
        "id": "SwdhlanIUmsr"
      },
      "execution_count": null,
      "outputs": []
    },
    {
      "cell_type": "code",
      "source": [],
      "metadata": {
        "id": "LBJ8fNGfUmwz"
      },
      "execution_count": null,
      "outputs": []
    },
    {
      "cell_type": "markdown",
      "metadata": {
        "id": "CVBLiQjN-BLD"
      },
      "source": [
        "### Post (complete by Sunday 18/02/24)\n",
        "\n",
        "Post your solution to Tasks 1-4 in notebook form. If you have not completed all the tasks then that is acceptable. The purpose is to get feedback from others in the group, so if you have only a basic outline then you may get ideas about how to proceed and also examples from others in your group.\n",
        "\n",
        "No posts should reference Task 5."
      ]
    },
    {
      "cell_type": "markdown",
      "metadata": {
        "id": "H-XkjeUp-BLD"
      },
      "source": [
        "### Respond (complete by Wednesday 21/02/24)\n",
        "\n",
        "If you feel you can provide useful advise then respond to another member of the group through the appropriate forum. Responses should be respectful and offer some sort of advise. Try and avoid clogging the forums with support or thank you messages.\n",
        "\n",
        "In reviewing others code you will discover different ways to tackle the same problem. It is acceptable to copy parts of others code. However whole scale copying from another notebook is not acceptable."
      ]
    },
    {
      "cell_type": "markdown",
      "metadata": {
        "id": "_vY6fK9S-BLE"
      },
      "source": [
        "Grading guidelines for the forum posts: Weight [2/7]\n",
        "\n",
        "**Beginning [0-8]:** Respectful posts of minor value. Significant number of posts without valuable contributions and/or without well-considered questions. Posts about task 5 in contravention of instructions.\n",
        "\n",
        "**Developing [9-12]:** At least 1 post  exceeding Beginning level with respectful suggestion or thought provoking question. Most posts contain valuable contributions or well-considered questions.\n",
        "\n",
        "**Advancing [13-16]:** At least 2 posts: equal to or exceeding Beginning level;  with respectful and sound contribution highlighting mistakes or alternative approaches.\n",
        "\n",
        "**Accomplished [17-20]:** At least 3 posts: equal to or exceeding Accomplished level; with respectful contribution of significant value."
      ]
    },
    {
      "cell_type": "markdown",
      "metadata": {
        "id": "rB18whB--BLE"
      },
      "source": [
        "<a id='part2'></a>\n",
        "## Sentiment Analysis\n",
        "\n",
        "\n",
        "This task is a individual task and should **not** to be uploaded to the Group Locker. No posts should be given via the forums. Marks will be deducted if the instructions are not followed (see rubrics). This part should be uploaded directly to Brightpsace.\n",
        "\n",
        "### Context\n",
        "\n",
        "You have a model that predicts the sentiment of a film review (positive or negative) from the IMDB. There are two hyperparameters that format the data from IMDB: the maximum review length and the dictionary size. Below is a RNN model that predicts sentiment values.\n",
        "\n",
        "\n",
        "### Task 5:  (completed by Sunday 25/02/24)\n",
        "\n",
        "Keeping top_words, max_review_lenngth and the embedding_vector_length the same, change the model so that it uses attention only, i.e. there are no recurrent components. The only Keras layers (defined here https://www.tensorflow.org/api_docs/python/tf/keras/layers) that you allowed to use are:\n",
        "- Input,\n",
        "- Embedding,\n",
        "- Dense,\n",
        "- Any Attention (must be at leat one),\n",
        "- TimeDistributed,\n",
        "- Any Merging,\n",
        "- Any Reshaping,\n",
        "- Any Pooling,\n",
        "- Dropout.\n",
        "\n",
        "You need not use any of the layers (except attention) but you can use some more than once. Can you do at least as good as the RNN example?\n",
        "\n",
        "**NB** There are many examples of using attention for sentiment analysis but we looking to see if you can construct a sensible model. The model will be delibrately restricted, so do not waste too much time achieving spectacular accuracy. Remember the rules of thumb that we discussed in the Introduction to DL module.\n"
      ]
    },
    {
      "cell_type": "code",
      "execution_count": null,
      "metadata": {
        "id": "sajyXKXJ-BLE"
      },
      "outputs": [],
      "source": [
        "from tensorflow.keras.datasets import imdb\n",
        "from tensorflow.keras import Sequential\n",
        "from tensorflow.keras.layers import Dense, LSTM, Embedding, Dropout\n",
        "from tensorflow.keras.preprocessing import sequence\n",
        "from tensorflow.keras.utils import plot_model\n",
        "\n",
        "import matplotlib.pyplot as plt\n",
        "import numpy as np\n",
        "\n",
        "top_words = 100\n",
        "(Rev_train, Sc_train), (Rev_test, Sc_test) = imdb.load_data(num_words=top_words)\n",
        "\n",
        "max_review_length = 500\n",
        "X_train = sequence.pad_sequences(Rev_train, maxlen=max_review_length)\n",
        "X_test = sequence.pad_sequences(Rev_test, maxlen=max_review_length)\n",
        "print(X_train.shape)"
      ]
    },
    {
      "cell_type": "code",
      "execution_count": null,
      "metadata": {
        "id": "yVrsZmZb-BLG"
      },
      "outputs": [],
      "source": [
        "embedding_vector_length = 16\n",
        "model_imdb = Sequential()\n",
        "model_imdb.add(Embedding(top_words, embedding_vector_length, input_length=max_review_length))\n",
        "model_imdb.add(Dropout(0.2))\n",
        "model_imdb.add(LSTM(10))\n",
        "model_imdb.add(Dropout(0.2))\n",
        "model_imdb.add(Dense(1, activation='sigmoid'))\n",
        "model_imdb.compile(loss='binary_crossentropy', optimizer='adam', metrics=['accuracy'])\n",
        "print(model_imdb.summary())\n",
        "plot_model(model_imdb,show_shapes=True)"
      ]
    },
    {
      "cell_type": "markdown",
      "metadata": {
        "id": "UBB4hnXT-BLG"
      },
      "source": [
        "\n",
        "The history for the model above has been saved, as it takes a while to run. If you want to run it yourself then comment out the second line.\n"
      ]
    },
    {
      "cell_type": "code",
      "execution_count": null,
      "metadata": {
        "id": "KeQ_RoL2-BLH"
      },
      "outputs": [],
      "source": [
        "nepoch = 150\n",
        "#IMDB_history = model_imdb.fit(X_train,Sc_train,validation_data=(X_test,Sc_test),epochs=nepoch,batch_size=256)\n",
        "IMDB_history=np.load('IMDBTrainhist.npy',allow_pickle='TRUE').item()\n",
        "plt.plot(range(nepoch),IMDB_history['loss'],c='r')\n",
        "plt.plot(range(nepoch),IMDB_history['val_loss'],c='b')\n",
        "plt.plot()"
      ]
    },
    {
      "cell_type": "code",
      "execution_count": null,
      "metadata": {
        "id": "ETwSsYb1-BLH"
      },
      "outputs": [],
      "source": [
        "plt.plot(range(nepoch),IMDB_history['accuracy'],c='r')\n",
        "plt.plot(range(nepoch),IMDB_history['val_accuracy'],c='b')\n",
        "plt.plot()"
      ]
    },
    {
      "cell_type": "markdown",
      "metadata": {
        "id": "kJUbYxNl-BLH"
      },
      "source": [
        "### Final Submission (complete by Sunday 25/02/24)\n",
        "\n",
        "Submit Tasks 1-5 in a single notebook this before the deadline on Sunday.\n"
      ]
    },
    {
      "cell_type": "code",
      "execution_count": null,
      "metadata": {
        "id": "mPdvOdkK-BLH"
      },
      "outputs": [],
      "source": [
        "## Add additional code cells to implememt the tasks stated above"
      ]
    },
    {
      "cell_type": "markdown",
      "metadata": {
        "id": "wieNQaPI-BLH"
      },
      "source": [
        "## Reflection\n",
        "\n",
        "There are no specific marks allocated for a reflection. However due consideration will be given if pertinent comments or valuable insights are made."
      ]
    },
    {
      "cell_type": "code",
      "execution_count": null,
      "metadata": {
        "id": "BgL3xMiT-BLI"
      },
      "outputs": [],
      "source": []
    }
  ],
  "metadata": {
    "kernelspec": {
      "display_name": "Python 3 (ipykernel)",
      "language": "python",
      "name": "python3"
    },
    "language_info": {
      "codemirror_mode": {
        "name": "ipython",
        "version": 3
      },
      "file_extension": ".py",
      "mimetype": "text/x-python",
      "name": "python",
      "nbconvert_exporter": "python",
      "pygments_lexer": "ipython3",
      "version": "3.9.17"
    },
    "latex_envs": {
      "LaTeX_envs_menu_present": true,
      "autoclose": false,
      "autocomplete": true,
      "bibliofile": "biblio.bib",
      "cite_by": "apalike",
      "current_citInitial": 1,
      "eqLabelWithNumbers": true,
      "eqNumInitial": 1,
      "hotkeys": {
        "equation": "Ctrl-E",
        "itemize": "Ctrl-I"
      },
      "labels_anchors": false,
      "latex_user_defs": false,
      "report_style_numbering": false,
      "user_envs_cfg": false
    },
    "colab": {
      "provenance": []
    }
  },
  "nbformat": 4,
  "nbformat_minor": 0
}