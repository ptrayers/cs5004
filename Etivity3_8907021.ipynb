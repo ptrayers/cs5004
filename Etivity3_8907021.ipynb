{
  "nbformat": 4,
  "nbformat_minor": 0,
  "metadata": {
    "colab": {
      "provenance": []
    },
    "kernelspec": {
      "name": "python3",
      "display_name": "Python 3"
    },
    "language_info": {
      "name": "python"
    }
  },
  "cells": [
    {
      "cell_type": "markdown",
      "source": [],
      "metadata": {
        "id": "awMEJ1hm_rLx"
      }
    },
    {
      "cell_type": "markdown",
      "source": [
        "# Task 1 (complete by Sunday Week 5, 03/03/24)\n",
        "\n",
        "## 1.1 Overview\n",
        "Implement tabular Q-Learning for the problem outlined in Example 6.5 (Windy Grid World) OR Example 6.6 (Cliff Walking Grid World) in the Reinforcement Learning Sutton and Barto’s text on Reinforcement Learning, 2nd Edition (2018) (http://incompleteideas.net/book/the-book-2nd.html).\n",
        "\n",
        "POST and RESPOND by the suggested completion date.\n",
        "\n",
        "### 1.1.1 Post Task 1 (complete by Sunday of Week 5, 3/03/24)\n",
        "Please upload your code for Task 1 to the group locker by Saturday Week 6 if possible. The implementation does not need to be complete and you can continue to upload improved versions.\n",
        "\n",
        "### 1.1.2 Respond to Task 1 (complete by Monday Week 6,  04/03/24)\n",
        "Use the Etivity 3 forum to provide constructive feedback to your peers in Task 1 focused on tabular Q Learning. Consider:\n",
        "\n",
        "* Are the results correct?  Do they approximate the published results in the recommended text?\n",
        "* Are the Q values depicted? Is the policy graphed? If not, suggest how to illustrate these elements of the solution.\n",
        "* Suggest improvments with respect to parameters such as epsilon and gamma."
      ],
      "metadata": {
        "id": "koVeDsf7_t6W"
      }
    },
    {
      "cell_type": "markdown",
      "source": [
        "## 1.2 Objective\n",
        "\n",
        "The purpose of this e-tivity is to clarify your understanding of both on-policy and off-policy Temporal Difference (TD) methods in tabular format using Grid World use cases."
      ],
      "metadata": {
        "id": "MH2mcETMD2fM"
      }
    },
    {
      "cell_type": "markdown",
      "source": [
        "## 1.3 Template"
      ],
      "metadata": {
        "id": "AeUXwWdtFKxj"
      }
    },
    {
      "cell_type": "markdown",
      "source": [
        "Original file is located at\n",
        "    https://colab.research.google.com/drive/1yZ5BRMKqgENcBRV31vgd8NPy9Amvgknz\n",
        "\n",
        "A partial solution for Task 1 Etivity 3\n",
        "Substantial blocks of code deleted.\n",
        "Temporal Difference method\n",
        "Some deliberate errors injected.\n",
        "\n",
        "* Correct bugs\n",
        "* Insert commentary\n",
        "* Add code to visualise Q table and Policy.\n",
        "* Compare Sarsa and Q Temporal Difference (TD) learning methods.\n",
        "\n",
        "Awareness that solutions can be sourced from ChatGPT, Copilot, Gemini."
      ],
      "metadata": {
        "id": "oE1uHujPAOBV"
      }
    },
    {
      "cell_type": "code",
      "execution_count": 1,
      "metadata": {
        "colab": {
          "base_uri": "https://localhost:8080/"
        },
        "id": "evPBjOff_Vnm",
        "outputId": "e038d4a6-89d8-4277-8cd6-13b96996386e"
      },
      "outputs": [
        {
          "output_type": "stream",
          "name": "stdout",
          "text": [
            "Goal state future rewards for all actions are zero\n",
            " Q[S_goal]: [0. 0. 0. 0.]\n"
          ]
        }
      ],
      "source": [
        "import numpy as np\n",
        "import matplotlib.pyplot as plt\n",
        "\n",
        "action_names = [\"up\", \"down\", \"right\", \"left\"]\n",
        "\n",
        "S_start = (3, 0)   # start location\n",
        "S_goal = (3, 7)    # target location\n",
        "wind_strength = [0, 0, 0, 1, 1, 1, 2, 2, 1, 0]\n",
        "reward = -1\n",
        "\n",
        "# RF hyperparameters\n",
        "alpha   = 0.1    # Learning Rate\n",
        "                 #  Rate at which algorithm updates estimated values of action at each state.\n",
        "                 #  larger alpha means faster learning however might result in unstable estimates.\n",
        "epsilon = 0.2    # Exploration Rate\n",
        "                 #  In epsilon-greedy strategy, dictates how often the algorithm will choose random action\n",
        "                 #  over the one it believes is best. This ensures algorithm doesn't get stuck exploiting early (suboptimal) findings.\n",
        "                 #  An epsilon of 0.2 means a 20% chance the algorithm chooses a random action at each step.\n",
        "gamma   = 0.9    # Discount Factor\n",
        "                 #  Discounts the value of future rewards as they are projected back to the present.\n",
        "                 #  Balances the trade-off between immediate and future rewards, influencing both the strategy and efficiency of the learning process.\n",
        "                 #  Reward received k time steps in the future is worth gamma^k times what it would be worth if received immediately\n",
        "                 #  This means that as gamma approaches 0, prioritises immediate rewards over distant ones (short-term gains)\n",
        "                 #  Conversely, as gamma approaches 1, values future rewards almost as highly as immediate rewards (long-term perspective).\n",
        "                 #  0.9 means algorithm gives significant importance to future rewards\n",
        "\n",
        "# Initialization values for the Q matrix\n",
        "# A (row, col) couple represents the location of a single cell of the grid.\n",
        "# The value of Q matrix at location (row, col) represents the current action for that location\n",
        "num_rows = 7     # Assume 7 rows in Windy grid.\n",
        "num_cols = 10    # Assume 10 columns in Windy grid\n",
        "num_actions = 4  # Assume 4 different actions are possible from each state\n",
        "\n",
        "# Initialize the Q matrix with random actions for all grid locations.\n",
        "Q = np.random.rand(num_rows, num_cols, num_actions)\n",
        "\n",
        "# Set the goal state 0, to indicate that reaching goal state yields zero future rewards for any action.\n",
        "Q[S_goal] = 0\n",
        "print(\"Goal state future rewards for all actions are zero\\n Q[S_goal]:\", Q[S_goal])\n",
        "\n",
        "\n",
        "def choose_action(Q, S, epsilon):\n",
        "    \"\"\"\n",
        "    Choose an action based on the epsilon-greedy strategy.\n",
        "\n",
        "    Parameters:\n",
        "    :Q (numpy.ndarray): The Q-table containing the state-action values.\n",
        "    :S (int): The current state index.\n",
        "    :epsilon (float): The probability of choosing a random action. It facilitates the exploration of the action space.\n",
        "\n",
        "    Returns:\n",
        "    - int: The index of the chosen action.\n",
        "\n",
        "    The function works as follows:\n",
        "    1. Generate random number.\n",
        "    2. If this number < than epsilon, choose a random action. This step encourages exploration by trying out different actions.\n",
        "    3. If the random number is greater than or equal to epsilon, the action with the highest value for the current state in the Q-table is chosen. This step exploits the known information to choose the best action.\n",
        "    \"\"\"\n",
        "    # Generate a random number between 0 and 1.\n",
        "    if np.random.rand() < epsilon:\n",
        "        # Exploration (trying out different actions) - Choose a random action.\n",
        "        return np.random.randint(0, len(Q[S]))\n",
        "    else:\n",
        "        # Exploitation - Choose the best known action for the current state.\n",
        "        return np.argmax(Q[S])\n",
        "\n",
        "\n",
        "def take_action(S, A):\n",
        "    \"\"\"\n",
        "    This function updates the agent's position in the grid world based on action taken.\n",
        "\n",
        "    :param S: A tuple representing the current state of the agent (row, column).\n",
        "    :param A: An integer representing the action taken by the agent.\n",
        "\n",
        "    Actions are encoded as follows:\n",
        "    0 - Move up\n",
        "    1 - Move down\n",
        "    2 - Move right\n",
        "    3 - Move left\n",
        "\n",
        "    :return: The next state (S_next_row, S_next_col) after applying the action and considering any other environmental impacts (in this case wind).\n",
        "\n",
        "    The function applies the action to update the agent's position. If the action involves moving up or down,\n",
        "    it adjusts the row index. For moving right or left, it adjusts the column index. The function enforces boundary conditions,\n",
        "    ensuring the agent does not move outside the grid. Additionally, it accounts for the wind's effect, which can alter the agent's\n",
        "    vertical position (row index).\n",
        "\n",
        "    :reward: The function implicitly suggests a constant reward of -1 is returned elsewhere for any action to encourage\n",
        "    efficiency in reaching a target location, which is typical in reinforcement learning to minimize unnecessary steps.\n",
        "    \"\"\"\n",
        "    # Extract current row and column from the state.\n",
        "    (S_next_row, S_next_col) = S\n",
        "\n",
        "    # Determine the new state based on the action.\n",
        "    # - This will be the standard movement, not accounting for any additional environmental factors (i.e. wind)\n",
        "    if ((A == 0) or # Action for up.\n",
        "        (A == 1)):  # Action for down.\n",
        "        # Update next row position\n",
        "        S_next_row = min((num_rows - 1),    # last row,  ensures row won't be > last row\n",
        "                         max(0,             # first row, ensures row won't be < 0\n",
        "                            (S[0] + (1 if A == 1 else -1)))  # Add +1 (down) or -1 (up) to row element of current state\n",
        "                        )\n",
        "    elif ((A == 2) or # Action for right.\n",
        "          (A == 3)):  # Action for left.\n",
        "\n",
        "          # Update next row position\n",
        "          S_next_col = min((num_cols - 1),     # last col,  ensures col won't be > last col\n",
        "                            max(0,              # first col, ensures col won't be < 0\n",
        "                                (S[1] + (1 if A == 2 else -1)))  # Add +1 (right) or -1 (left) to col element of current state\n",
        "                          )\n",
        "\n",
        "    # Apply wind effect after the movement. This modifies the S_next_row based on the column of the original state.\n",
        "    S_next_row = max(0,   # ensure min row is zero\n",
        "                     (S_next_row -                 # wind is upwards therefore effect of wind on row position is -ve\n",
        "                      wind_strength[S_next_col]))  # apply the wind effect at the new column position\n",
        "\n",
        "    return (S_next_row, S_next_col), reward  # Return the updated state, and a constant reward -1 (penalty)\n",
        "\n",
        "\n",
        "\n",
        "num_episodes_at_step = []\n",
        "num_steps_per_episode  = []\n",
        "\n",
        "def TD_windy_gridworld(max_steps):\n",
        "    \"\"\"\n",
        "    Apply Temporal Difference (TD) learning principles to the Windy Gridworld problem.\n",
        "\n",
        "    This function iteratively updates a Q-table using TD learning principles to find an optimal policy for navigating\n",
        "    a grid world where each cell represents a different state and wind factors affect the movement.\n",
        "\n",
        "    The objective of the Windy GridWorld problem is to optimally traverse the cell grid moving from a start square\n",
        "    towards the goal location square, while a \"wind\" factor introduces variability to the expected result of each action.\n",
        "\n",
        "    We achieve this by iteratively updating the Q-values based on observed rewards and estimated future rewards.\n",
        "\n",
        "    Parameters:\n",
        "    - max_steps (int): Set maximum number of steps to run the simulation, to avoid infinite loops.\n",
        "\n",
        "    The Windy Gridworld problem:\n",
        "    - The agent starts from a designated start state and aims to reach a goal state.\n",
        "    - Actions can move the agent in different directions, but their effect is modified by a 'wind' that pushes the agent upward.\n",
        "    - The goal is to find the shortest path to the goal state, considering the wind's influence.\n",
        "\n",
        "    Algorithm summary:\n",
        "    - At each step, choose an action based on the current Q-values (epsilon-greedy policy).\n",
        "    - Observe the reward and next state resulting from the action.\n",
        "    - Update the Q-value for the state-action pair based on the observed reward and the maximum Q-value of the next state.\n",
        "    - Continue this process until the maximum number of steps is reached.\n",
        "\n",
        "    Outputs:\n",
        "    - Modifies the global Q-table based on the learned values.\n",
        "    - Updates the global lists `num_episodes_at_step` and `num_steps_per_episode` to track learning progress.\n",
        "    \"\"\"\n",
        "    global num_episodes_at_step\n",
        "    global num_steps_per_episode\n",
        "\n",
        "    num_steps = 0           # Init total steps taken.\n",
        "    num_episodes = 0        # Init total episodes processed.\n",
        "    episode_start_step = 0  # Track starting step of current episode\n",
        "\n",
        "    # Loop for each episode\n",
        "    while (num_steps < max_steps):\n",
        "        S = S_start   # Init start location\n",
        "\n",
        "        # Select initial action using an epsilon-greedy policy derived from the current Q-table.\n",
        "        A = choose_action(Q, S, epsilon)\n",
        "\n",
        "        while (S != S_goal):    # Repeat until goal state reached\n",
        "\n",
        "            # Take action A on the current state S, and observe the reward R and next state S'\n",
        "            S_next, R = take_action(S, A)\n",
        "\n",
        "            # Choose the next action A' based on the next state S' using the epsilon-greedy policy from Q.\n",
        "            A_next = choose_action(Q, S_next, epsilon)\n",
        "\n",
        "            # Update the Q-value table using the Temporal-Difference(TD) formula\n",
        "            # The Q function (state-action function):\n",
        "            #  - Estimates the expected cumulative reward of taking a particular action in a given state.\n",
        "            #  - Is used to learn the optimal policy: maximising the expected cumulative reward. Takes both state and the action as input.\n",
        "            Q[S][A] += alpha * (R + (gamma * Q[S_next][A_next]) - Q[S][A])\n",
        "\n",
        "            # Move to the next state and action.\n",
        "            S, A = S_next, A_next\n",
        "\n",
        "            # Increment step count\n",
        "            num_steps += 1\n",
        "            num_episodes_at_step += [num_episodes]\n",
        "\n",
        "        num_episodes += 1\n",
        "        num_steps_per_episode += [num_steps - episode_start_step]\n",
        "        episode_start_step = num_steps\n"
      ]
    },
    {
      "cell_type": "code",
      "source": [
        "# Execute the Temporal Difference learning algorithm for the Windy Gridworld.\n",
        "TD_windy_gridworld(80000)"
      ],
      "metadata": {
        "id": "LiRhLrUw2ZGm"
      },
      "execution_count": 2,
      "outputs": []
    },
    {
      "cell_type": "markdown",
      "source": [
        "## Results"
      ],
      "metadata": {
        "id": "W8NEUKWY2cl5"
      }
    },
    {
      "cell_type": "markdown",
      "source": [
        "### Learning Plot"
      ],
      "metadata": {
        "id": "2-EiTohW20IH"
      }
    },
    {
      "cell_type": "code",
      "source": [
        "# Visualize learning progress by plotting the number of time steps required per episode over time.\n",
        "plt.plot(num_steps_per_episode)\n",
        "plt.xlabel(\"Episodes\")\n",
        "plt.ylabel(\"Time Steps\")\n",
        "plt.show()"
      ],
      "metadata": {
        "colab": {
          "base_uri": "https://localhost:8080/",
          "height": 449
        },
        "id": "9xCoIVp82dSt",
        "outputId": "384fca0e-872a-4fb2-efd8-6ea7e2dd31f0"
      },
      "execution_count": 3,
      "outputs": [
        {
          "output_type": "display_data",
          "data": {
            "text/plain": [
              "<Figure size 640x480 with 1 Axes>"
            ],
            "image/png": "[encoded data removed]"
          },
          "metadata": {}
        }
      ]
    },
    {
      "cell_type": "markdown",
      "source": [
        "### Background\n",
        "\n",
        "First we define key terms.\n",
        "\n",
        "#### Episode\n",
        "This is a sequence of actions the agent takes, starting from initial state (S_start) and ending when the agent reaches the terminal state (S_goal). It represents one complete journey of the agent from start to goal, in this case, an episode completes when the agent reaches the location (3, 7).\n",
        "\n",
        "#### Time Step\n",
        "This represents one iteration within an episode where the agent makes a decision to take an action. At each time step, the agent considers its current state, selects and performs an action, and receives a reward. It also observes the new state (resulting from the action taken) and updates its policy based on the received reward and the new state. The time steps continue accumulating within an episode until the goal is reached.\n",
        "\n",
        "### Learning plot\n",
        "In Gridworld algorithm, the agent learns the optimal path to reach the goal state by interacting with the environment over multiple episodes. Learning is visualized in our plot of time steps versus episodes. The y-axis shows time steps the agent took to reach the goal state in each episode. Fewer time steps per episode indicate a more efficient path taken. The x-axis shows the progression of episodes.\n",
        "\n",
        "### Observations and Analysis\n",
        "At the start of the learning process, the agent is taking more time steps to reach the goal because it is still exploring the environment and learning the effects of actions. With more episodes, it the learning from past outcomes (reinforcement) is progressively finding more efficient paths and thus reducing number of time steps needed to reach the goal.\n",
        "\n",
        "The trend in the plot shows a decreasing number of time steps per episode, indicating the agent is learning and improving its policy to reach the goal more efficiently with time. This is the result of the agent gradually shifting from exploring the environment (choosing actions randomly) to exploiting its learned knowledge (choosing best-known actions) to navigate the gridworld effectively despite the wind's influence."
      ],
      "metadata": {
        "id": "JL5K8H1bu_3x"
      }
    },
    {
      "cell_type": "markdown",
      "source": [
        "### Policy Grid"
      ],
      "metadata": {
        "id": "BY14uGEi3Pge"
      }
    },
    {
      "cell_type": "code",
      "source": [
        "import numpy as np\n",
        "import matplotlib.pyplot as plt\n",
        "\n",
        "def plot_Q_table(Q, num_rows, num_cols):\n",
        "    # The Q table is already in the shape (num_rows, num_cols, num_actions)\n",
        "    Q_grid = Q.max(axis=2)  # Get the max Q-value for each state\n",
        "    fig, ax = plt.subplots()\n",
        "    cax = ax.matshow(Q_grid, cmap='viridis')\n",
        "    fig.colorbar(cax)\n",
        "    ax.set_title('Max Q-value for each state')\n",
        "    plt.xlabel('Column')\n",
        "    plt.ylabel('Row')\n",
        "    plt.show()\n",
        "\n",
        "def plot_policy(Q, num_rows, num_cols):\n",
        "    # Get the action with the highest Q-value for each state\n",
        "    policy = np.argmax(Q, axis=2)\n",
        "    fig, ax = plt.subplots()\n",
        "    action_arrows = {0: '↑', 1: '↓', 2: '→', 3: '←'}\n",
        "    for i in range(num_rows):\n",
        "        for j in range(num_cols):\n",
        "            action = policy[i, j]\n",
        "            ax.text(j, i, action_arrows[action], ha='center', va='center')\n",
        "    ax.set_xlim(-0.5, num_cols - 0.5)\n",
        "    ax.set_ylim(-0.5, num_rows - 0.5)\n",
        "    ax.set_xticks(np.arange(-0.5, num_cols, 1), minor=True)\n",
        "    ax.set_yticks(np.arange(-0.5, num_rows, 1), minor=True)\n",
        "    ax.grid(which='minor', color='w', linestyle='-', linewidth=2)\n",
        "    plt.title('Policy visualization')\n",
        "    plt.xlabel('Column')\n",
        "    plt.ylabel('Row')\n",
        "    plt.show()\n",
        "\n",
        "# Plotting Q-table and policy\n",
        "plot_Q_table(Q, num_rows, num_cols)\n",
        "plot_policy(Q, num_rows, num_cols)\n"
      ],
      "metadata": {
        "id": "IbmXzEvNAKB7",
        "colab": {
          "base_uri": "https://localhost:8080/",
          "height": 861
        },
        "outputId": "b0941884-20ea-4c20-825e-688da6131241"
      },
      "execution_count": 4,
      "outputs": [
        {
          "output_type": "display_data",
          "data": {
            "text/plain": [
              "<Figure size 640x480 with 2 Axes>"
            ],
            "image/png": "[encoded data removed]"
          },
          "metadata": {}
        },
        {
          "output_type": "display_data",
          "data": {
            "text/plain": [
              "<Figure size 640x480 with 1 Axes>"
            ],
            "image/png": "[encoded data removed]"
          },
          "metadata": {}
        }
      ]
    }
  ]
}